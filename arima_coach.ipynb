{
 "cells": [
  {
   "cell_type": "code",
   "execution_count": 1,
   "metadata": {},
   "outputs": [],
   "source": [
    "import yfinance as yf\n",
    "import pandas as pd\n",
    "import numpy as np\n",
    "import matplotlib.pyplot as plt \n",
    "import os\n",
    "import json\n",
    "import datetime\n",
    "\n",
    "from pmdarima.arima import ADFTest\n",
    "from statsmodels.tsa.arima_model import ARIMA\n",
    "from statsmodels.tsa.stattools import adfuller\n",
    "from pmdarima.arima import auto_arima\n",
    "\n",
    "plt.style.use('fivethirtyeight')"
   ]
  },
  {
   "cell_type": "code",
   "execution_count": 2,
   "metadata": {},
   "outputs": [],
   "source": [
    "def get_finance_data(ticker, period='max', interval='1d'):\n",
    "    tkr = yf.Ticker(ticker)\n",
    "    df = tkr.history(period=period, interval=interval)\n",
    "    return df\n",
    "\n",
    "def test_unit_root(s):\n",
    "    adf = adfuller(s)\n",
    "    return adf[0] > adf[4]['1%']\n",
    "\n",
    "def stationary_test(s):\n",
    "    adf_test = ADFTest(alpha=0.01)\n",
    "    return not adf_test.should_diff(s)[1]\n",
    "\n",
    "def get_arima_model(s, is_seasonal=False):\n",
    "    is_stat = test_unit_root(s)\n",
    "    arima_model = auto_arima(s, stationary=is_stat, start_p=0, start_d=0, start_q=0, max_p=10, max_d=10, max_q=10, start_P=0, start_D=0, \n",
    "                             start_Q=0, max_P=15, max_D=15, max_Q=15, m=15, seasonal=is_seasonal, error_action='warn', trace=True, \n",
    "                             suppress_warnings=True, stepwise=False, random_state=20, n_fits=50, n_jobs=-1)\n",
    "    return arima_model"
   ]
  },
  {
   "cell_type": "code",
   "execution_count": 20,
   "metadata": {},
   "outputs": [],
   "source": [
    "def run_arima_coach(yticker_list, days_force_update=0):\n",
    "\n",
    "    n_steps = 2\n",
    "    must_run = False\n",
    "    hoje = datetime.datetime.now().strftime(\"%Y-%m-%d\")\n",
    "    \n",
    "    if not os.path.isdir(\"files\"):\n",
    "        os.mkdir(\"files\")\n",
    "    \n",
    "    for yticker in yticker_list:\n",
    "        ticker = yticker\n",
    "        if os.path.isfile(\"files/db.json\"):\n",
    "            with open('files/db.json','r+') as jfile:\n",
    "                jdata = json.load(jfile)\n",
    "                if (ticker in jdata.keys()):\n",
    "                    print(\"Dados de \"+ticker+\" já existentes.\")\n",
    "                    if (\"ARIMA\" in jdata[ticker]):\n",
    "                        print(\"Dados atualizados em \"+jdata[ticker][\"ARIMA\"][\"train_date\"])\n",
    "                        if (\"train_date\" in jdata[ticker][\"ARIMA\"]):\n",
    "                            if (days_force_update > 0):\n",
    "                                train_date = datetime.datetime.strptime(jdata[ticker][\"ARIMA\"][\"train_date\"], '%Y-%m-%d')\n",
    "                                must_run = ((datetime.datetime.now() - train_date).days) > days_force_update\n",
    "                        else:\n",
    "                            must_run = True\n",
    "                    else:\n",
    "                        must_run = True\n",
    "                else:\n",
    "                    print(\"ticker \"+ticker+\" não encontrado\")\n",
    "                    must_run = True\n",
    "                if must_run:\n",
    "                    print(\"capturando dados do yFinance: \"+yticker)\n",
    "                    data = get_finance_data(yticker)\n",
    "                    data.dropna(subset=['Low'], inplace=True)\n",
    "                    train = data['Low'][:len(data)-n_steps+1]\n",
    "                    test = data['Low'][-n_steps:]\n",
    "                    jdata[ticker]={}\n",
    "                    jdata[ticker].update({\"yticker\":yticker})\n",
    "                    jfile.seek(0)\n",
    "                    json.dump(jdata, jfile)\n",
    "                    \n",
    "        my_arima = []\n",
    "        if \"ARIMA\" not in jdata[ticker]:\n",
    "            print(\"rodando auto arima para \"+ticker)\n",
    "            arima_model = get_arima_model(train)\n",
    "            my_arima.append(arima_model.order[0])\n",
    "            my_arima.append(arima_model.order[1])\n",
    "            my_arima.append(arima_model.order[2])\n",
    "            my_arima.append(arima_model.seasonal_order[0])\n",
    "            my_arima.append(arima_model.seasonal_order[1])\n",
    "            my_arima.append(arima_model.seasonal_order[2])\n",
    "            my_arima.append(arima_model.seasonal_order[3])\n",
    "            with open('files/db.json','r+') as jfile:\n",
    "                jdata[ticker].update({\"ARIMA\":{\"parametros\":my_arima,\"train_date\":hoje}})\n",
    "                jfile.seek(0)\n",
    "                json.dump(jdata, jfile)\n",
    "        \n",
    "        jfile.close()"
   ]
  },
  {
   "cell_type": "code",
   "execution_count": 21,
   "metadata": {},
   "outputs": [
    {
     "name": "stdout",
     "output_type": "stream",
     "text": [
      "Dados de RNDP11.SA já existentes.\n",
      "Dados atualizados em 2021-01-03\n",
      "Dados de OIBR3.SA já existentes.\n",
      "Dados atualizados em 2021-01-03\n",
      "Dados de VILG11.SA já existentes.\n",
      "Dados atualizados em 2021-01-03\n",
      "Dados de BBFI11B.SA já existentes.\n",
      "capturando dados do yFinance: BBFI11B.SA\n",
      "rodando auto arima para BBFI11B.SA\n"
     ]
    },
    {
     "name": "stderr",
     "output_type": "stream",
     "text": [
      "C:\\Users\\pedro\\AppData\\Roaming\\Python\\Python37\\site-packages\\pmdarima\\arima\\_validation.py:62: UserWarning: m (15) set for non-seasonal fit. Setting to 0\n",
      "  warnings.warn(\"m (%i) set for non-seasonal fit. Setting to 0\" % m)\n"
     ]
    },
    {
     "name": "stdout",
     "output_type": "stream",
     "text": [
      "\n",
      "Best model:  ARIMA(2,0,2)(0,0,0)[0] intercept\n",
      "Total fit time: 27.029 seconds\n",
      "Dados de OIBR3.SA já existentes.\n",
      "Dados atualizados em 2021-01-03\n",
      "Dados de PETR4.SA já existentes.\n",
      "Dados atualizados em 2021-01-03\n"
     ]
    }
   ],
   "source": [
    "teste = [\"RNDP11.SA\",\"OIBR3.SA\",\"VILG11.SA\",\"BBFI11B.SA\",\"OIBR3.SA\",\"PETR4.SA\"]\n",
    "\n",
    "run_arima_coach(teste, days_force_update=2)"
   ]
  },
  {
   "cell_type": "code",
   "execution_count": null,
   "metadata": {},
   "outputs": [],
   "source": [
    "data = get_finance_data(\"OIBR3.SA\")\n",
    "data.isnull().sum()"
   ]
  },
  {
   "cell_type": "code",
   "execution_count": null,
   "metadata": {},
   "outputs": [],
   "source": [
    "data.dropna(subset=[\"Low\"], inplace=True)\n",
    "print(data)"
   ]
  },
  {
   "cell_type": "code",
   "execution_count": 8,
   "metadata": {},
   "outputs": [
    {
     "data": {
      "text/plain": [
       "datetime.datetime(2021, 1, 4, 23, 16, 50, 329714)"
      ]
     },
     "execution_count": 8,
     "metadata": {},
     "output_type": "execute_result"
    }
   ],
   "source": [
    "datetime.datetime.now()"
   ]
  },
  {
   "cell_type": "code",
   "execution_count": 11,
   "metadata": {},
   "outputs": [
    {
     "data": {
      "text/plain": [
       "datetime.datetime(2021, 1, 21, 0, 0)"
      ]
     },
     "execution_count": 11,
     "metadata": {},
     "output_type": "execute_result"
    }
   ],
   "source": []
  },
  {
   "cell_type": "code",
   "execution_count": 13,
   "metadata": {},
   "outputs": [
    {
     "data": {
      "text/plain": [
       "-17"
      ]
     },
     "execution_count": 13,
     "metadata": {},
     "output_type": "execute_result"
    }
   ],
   "source": [
    "(datetime.datetime.now() - datetime.datetime.strptime(\"2021-01-21\", '%Y-%m-%d')).days"
   ]
  },
  {
   "cell_type": "code",
   "execution_count": 2,
   "metadata": {},
   "outputs": [],
   "source": [
    "import pickle"
   ]
  },
  {
   "cell_type": "code",
   "execution_count": 6,
   "metadata": {},
   "outputs": [],
   "source": [
    "m = open('nome_modelo', 'wb')\n",
    "\n",
    "pickle.dump('nome_modelo', m)"
   ]
  },
  {
   "cell_type": "code",
   "execution_count": 8,
   "metadata": {},
   "outputs": [
    {
     "ename": "EOFError",
     "evalue": "Ran out of input",
     "output_type": "error",
     "traceback": [
      "\u001b[1;31m---------------------------------------------------------------------------\u001b[0m",
      "\u001b[1;31mEOFError\u001b[0m                                  Traceback (most recent call last)",
      "\u001b[1;32m<ipython-input-8-e1d720f7dcf8>\u001b[0m in \u001b[0;36m<module>\u001b[1;34m\u001b[0m\n\u001b[1;32m----> 1\u001b[1;33m \u001b[0mx\u001b[0m \u001b[1;33m=\u001b[0m \u001b[0mpickle\u001b[0m\u001b[1;33m.\u001b[0m\u001b[0mload\u001b[0m\u001b[1;33m(\u001b[0m\u001b[0mopen\u001b[0m\u001b[1;33m(\u001b[0m \u001b[1;34m\"nome_modelo\"\u001b[0m\u001b[1;33m,\u001b[0m \u001b[1;34m\"rb\"\u001b[0m \u001b[1;33m)\u001b[0m\u001b[1;33m)\u001b[0m\u001b[1;33m\u001b[0m\u001b[1;33m\u001b[0m\u001b[0m\n\u001b[0m",
      "\u001b[1;31mEOFError\u001b[0m: Ran out of input"
     ]
    }
   ],
   "source": [
    "x = pickle.load(open( \"nome_modelo\", \"rb\" ))"
   ]
  },
  {
   "cell_type": "code",
   "execution_count": 9,
   "metadata": {},
   "outputs": [],
   "source": [
    "import pickle\n",
    "favorite_color = { \"lion\": \"yellow\", \"kitty\": \"red\" }\n",
    "pickle.dump( model_arima, open( \"save.p\", \"wb\" ) )\n",
    "\n",
    "import pickle\n",
    "modelo = pickle.load( open( \"model_arima\", \"rb\" ) )"
   ]
  },
  {
   "cell_type": "code",
   "execution_count": 10,
   "metadata": {},
   "outputs": [
    {
     "data": {
      "text/plain": [
       "{'lion': 'yellow', 'kitty': 'red'}"
      ]
     },
     "execution_count": 10,
     "metadata": {},
     "output_type": "execute_result"
    }
   ],
   "source": [
    "modelo.fit(1)"
   ]
  },
  {
   "cell_type": "code",
   "execution_count": null,
   "metadata": {},
   "outputs": [],
   "source": []
  }
 ],
 "metadata": {
  "kernelspec": {
   "display_name": "Python 3",
   "language": "python",
   "name": "python3"
  },
  "language_info": {
   "codemirror_mode": {
    "name": "ipython",
    "version": 3
   },
   "file_extension": ".py",
   "mimetype": "text/x-python",
   "name": "python",
   "nbconvert_exporter": "python",
   "pygments_lexer": "ipython3",
   "version": "3.8.5"
  }
 },
 "nbformat": 4,
 "nbformat_minor": 2
}
