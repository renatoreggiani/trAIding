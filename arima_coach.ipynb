{
 "cells": [
  {
   "cell_type": "code",
   "execution_count": 83,
   "metadata": {},
   "outputs": [],
   "source": [
    "import yfinance as yf\n",
    "import pandas as pd\n",
    "import numpy as np\n",
    "import matplotlib.pyplot as plt \n",
    "import os\n",
    "import json\n",
    "import datetime\n",
    "\n",
    "from pmdarima.arima import ADFTest\n",
    "from statsmodels.tsa.arima_model import ARIMA\n",
    "from statsmodels.tsa.stattools import adfuller\n",
    "from pmdarima.arima import auto_arima\n",
    "\n",
    "plt.style.use('fivethirtyeight')"
   ]
  },
  {
   "cell_type": "code",
   "execution_count": 84,
   "metadata": {},
   "outputs": [],
   "source": [
    "def get_finance_data(ticker, period='max', interval='1d'):\n",
    "    tkr = yf.Ticker(ticker)\n",
    "    df = tkr.history(period=period, interval=interval)\n",
    "    return df\n",
    "\n",
    "def test_unit_root(s):\n",
    "    adf = adfuller(s)\n",
    "    return adf[0] > adf[4]['1%']\n",
    "\n",
    "def stationary_test(s):\n",
    "    adf_test = ADFTest(alpha=0.01)\n",
    "    return not adf_test.should_diff(s)[1]\n",
    "\n",
    "def get_arima_model(s, is_seasonal=False):\n",
    "    is_stat = test_unit_root(s)\n",
    "    arima_model = auto_arima(s, stationary=is_stat, start_p=0, start_d=0, start_q=0, max_p=10, max_d=10, max_q=10, start_P=0, start_D=0, \n",
    "                             start_Q=0, max_P=15, max_D=15, max_Q=15, m=15, seasonal=is_seasonal, error_action='warn', trace=True, \n",
    "                             suppress_warnings=True, stepwise=False, random_state=20, n_fits=50, n_jobs=-1)\n",
    "    return arima_model"
   ]
  },
  {
   "cell_type": "code",
   "execution_count": 93,
   "metadata": {},
   "outputs": [],
   "source": [
    "def run_arima_coach(yticker_list, days_force_update=0):\n",
    "\n",
    "    n_steps = 2\n",
    "    must_run = False\n",
    "    hoje = datetime.datetime.now().strftime(\"%Y-%m-%d\")\n",
    "    \n",
    "    if not os.path.isdir(\"files\"):\n",
    "        os.mkdir(\"files\")\n",
    "    \n",
    "    for yticker in yticker_list:\n",
    "        ticker = yticker\n",
    "        if os.path.isfile(\"files/db.json\"):\n",
    "            with open('files/db.json','r+') as jfile:\n",
    "                jdata = json.load(jfile)\n",
    "                if (ticker in jdata.keys()):\n",
    "                    print(\"Dados de \"+ticker+\" já existentes.\")\n",
    "                    if (\"ARIMA\" in jdata[ticker]):\n",
    "                        print(\"Dados atulizados em \"+jdata[ticker][\"ARIMA\"][\"train_date\"])\n",
    "                        if (\"train_date\" in jdata[ticker][\"ARIMA\"]):\n",
    "                            if (days_force_update > 0):\n",
    "                                train_date = datetime.datetime.strptime(jdata[ticker][\"ARIMA\"][\"train_date\"], '%Y-%m-%d')\n",
    "                                must_run = ((hoje - train_date).days) > days_force_update\n",
    "                                print((hoje - train_date).days)\n",
    "                        else:\n",
    "                            must_run = True\n",
    "                    else:\n",
    "                        must_run = True\n",
    "                else:\n",
    "                    print(\"ticker \"+ticker+\" não encontrado\")\n",
    "                    must_run = True\n",
    "                if must_run:\n",
    "                    print(\"capturando dados do yFinance: \"+yticker)\n",
    "                    data = get_finance_data(yticker)\n",
    "                    data.dropna(subset=['Low'], inplace=True)\n",
    "                    train = data['Low'][:len(data)-n_steps+1]\n",
    "                    test = data['Low'][-n_steps:]\n",
    "                    jdata[ticker]={}\n",
    "                    jdata[ticker].update({\"yticker\":yticker})\n",
    "                    jfile.seek(0)\n",
    "                    json.dump(jdata, jfile)\n",
    "                    \n",
    "        my_arima = []\n",
    "        if \"ARIMA\" not in jdata[ticker]:\n",
    "            print(\"rodando auto arima para \"+ticker)\n",
    "            arima_model = get_arima_model(train)\n",
    "            my_arima.append(arima_model.order[0])\n",
    "            my_arima.append(arima_model.order[1])\n",
    "            my_arima.append(arima_model.order[2])\n",
    "            my_arima.append(arima_model.seasonal_order[0])\n",
    "            my_arima.append(arima_model.seasonal_order[1])\n",
    "            my_arima.append(arima_model.seasonal_order[2])\n",
    "            my_arima.append(arima_model.seasonal_order[3])\n",
    "            with open('files/db.json','r+') as jfile:\n",
    "                jdata[ticker].update({\"ARIMA\":{\"parametros\":my_arima,\"train_date\":hoje}})\n",
    "                jfile.seek(0)\n",
    "                json.dump(jdata, jfile)\n",
    "        \n",
    "        jfile.close()"
   ]
  },
  {
   "cell_type": "code",
   "execution_count": 94,
   "metadata": {},
   "outputs": [
    {
     "name": "stdout",
     "output_type": "stream",
     "text": [
      "Dados de RNDP11.SA já existentes.\n",
      "Dados atulizados em 2021-01-03\n"
     ]
    },
    {
     "ename": "TypeError",
     "evalue": "unsupported operand type(s) for -: 'str' and 'datetime.datetime'",
     "output_type": "error",
     "traceback": [
      "\u001b[1;31m---------------------------------------------------------------------------\u001b[0m",
      "\u001b[1;31mTypeError\u001b[0m                                 Traceback (most recent call last)",
      "\u001b[1;32m<ipython-input-94-20903ac0863c>\u001b[0m in \u001b[0;36m<module>\u001b[1;34m\u001b[0m\n\u001b[0;32m      1\u001b[0m \u001b[0mteste\u001b[0m \u001b[1;33m=\u001b[0m \u001b[1;33m[\u001b[0m\u001b[1;34m\"RNDP11.SA\"\u001b[0m\u001b[1;33m,\u001b[0m\u001b[1;34m\"OIBR3.SA\"\u001b[0m\u001b[1;33m,\u001b[0m\u001b[1;34m\"VILG11.SA\"\u001b[0m\u001b[1;33m,\u001b[0m\u001b[1;34m\"BBFI11B.SA\"\u001b[0m\u001b[1;33m,\u001b[0m\u001b[1;34m\"OIBR3.SA\"\u001b[0m\u001b[1;33m,\u001b[0m\u001b[1;34m\"PETR4.SA\"\u001b[0m\u001b[1;33m]\u001b[0m\u001b[1;33m\u001b[0m\u001b[1;33m\u001b[0m\u001b[0m\n\u001b[0;32m      2\u001b[0m \u001b[1;33m\u001b[0m\u001b[0m\n\u001b[1;32m----> 3\u001b[1;33m \u001b[0mrun_arima_coach\u001b[0m\u001b[1;33m(\u001b[0m\u001b[0mteste\u001b[0m\u001b[1;33m,\u001b[0m \u001b[0mdays_force_update\u001b[0m\u001b[1;33m=\u001b[0m\u001b[1;36m2\u001b[0m\u001b[1;33m)\u001b[0m\u001b[1;33m\u001b[0m\u001b[1;33m\u001b[0m\u001b[0m\n\u001b[0m",
      "\u001b[1;32m<ipython-input-93-e6b14a77c172>\u001b[0m in \u001b[0;36mrun_arima_coach\u001b[1;34m(yticker_list, days_force_update)\u001b[0m\n\u001b[0;32m     20\u001b[0m                             \u001b[1;32mif\u001b[0m \u001b[1;33m(\u001b[0m\u001b[0mdays_force_update\u001b[0m \u001b[1;33m>\u001b[0m \u001b[1;36m0\u001b[0m\u001b[1;33m)\u001b[0m\u001b[1;33m:\u001b[0m\u001b[1;33m\u001b[0m\u001b[1;33m\u001b[0m\u001b[0m\n\u001b[0;32m     21\u001b[0m                                 \u001b[0mtrain_date\u001b[0m \u001b[1;33m=\u001b[0m \u001b[0mdatetime\u001b[0m\u001b[1;33m.\u001b[0m\u001b[0mdatetime\u001b[0m\u001b[1;33m.\u001b[0m\u001b[0mstrptime\u001b[0m\u001b[1;33m(\u001b[0m\u001b[0mjdata\u001b[0m\u001b[1;33m[\u001b[0m\u001b[0mticker\u001b[0m\u001b[1;33m]\u001b[0m\u001b[1;33m[\u001b[0m\u001b[1;34m\"ARIMA\"\u001b[0m\u001b[1;33m]\u001b[0m\u001b[1;33m[\u001b[0m\u001b[1;34m\"train_date\"\u001b[0m\u001b[1;33m]\u001b[0m\u001b[1;33m,\u001b[0m \u001b[1;34m'%Y-%m-%d'\u001b[0m\u001b[1;33m)\u001b[0m\u001b[1;33m\u001b[0m\u001b[1;33m\u001b[0m\u001b[0m\n\u001b[1;32m---> 22\u001b[1;33m                                 \u001b[0mmust_run\u001b[0m \u001b[1;33m=\u001b[0m \u001b[1;33m(\u001b[0m\u001b[1;33m(\u001b[0m\u001b[0mhoje\u001b[0m \u001b[1;33m-\u001b[0m \u001b[0mtrain_date\u001b[0m\u001b[1;33m)\u001b[0m\u001b[1;33m.\u001b[0m\u001b[0mdays\u001b[0m\u001b[1;33m)\u001b[0m \u001b[1;33m>\u001b[0m \u001b[0mdays_force_update\u001b[0m\u001b[1;33m\u001b[0m\u001b[1;33m\u001b[0m\u001b[0m\n\u001b[0m\u001b[0;32m     23\u001b[0m                                 \u001b[0mprint\u001b[0m\u001b[1;33m(\u001b[0m\u001b[1;33m(\u001b[0m\u001b[0mhoje\u001b[0m \u001b[1;33m-\u001b[0m \u001b[0mtrain_date\u001b[0m\u001b[1;33m)\u001b[0m\u001b[1;33m.\u001b[0m\u001b[0mdays\u001b[0m\u001b[1;33m)\u001b[0m\u001b[1;33m\u001b[0m\u001b[1;33m\u001b[0m\u001b[0m\n\u001b[0;32m     24\u001b[0m                         \u001b[1;32melse\u001b[0m\u001b[1;33m:\u001b[0m\u001b[1;33m\u001b[0m\u001b[1;33m\u001b[0m\u001b[0m\n",
      "\u001b[1;31mTypeError\u001b[0m: unsupported operand type(s) for -: 'str' and 'datetime.datetime'"
     ]
    }
   ],
   "source": [
    "teste = [\"RNDP11.SA\",\"OIBR3.SA\",\"VILG11.SA\",\"BBFI11B.SA\",\"OIBR3.SA\",\"PETR4.SA\"]\n",
    "\n",
    "run_arima_coach(teste, days_force_update=2)"
   ]
  },
  {
   "cell_type": "code",
   "execution_count": 33,
   "metadata": {},
   "outputs": [
    {
     "data": {
      "text/plain": [
       "Open            0\n",
       "High            0\n",
       "Low             0\n",
       "Close           0\n",
       "Volume          0\n",
       "Dividends       0\n",
       "Stock Splits    0\n",
       "dtype: int64"
      ]
     },
     "execution_count": 33,
     "metadata": {},
     "output_type": "execute_result"
    }
   ],
   "source": [
    "data = get_finance_data(\"OIBR3.SA\")\n",
    "data.isnull().sum()"
   ]
  },
  {
   "cell_type": "code",
   "execution_count": 32,
   "metadata": {},
   "outputs": [
    {
     "name": "stdout",
     "output_type": "stream",
     "text": [
      "                 Open       High        Low      Close     Volume  Dividends  \\\n",
      "Date                                                                           \n",
      "2002-06-06  61.394237  72.228542  61.394237  72.156342          1        0.0   \n",
      "2002-06-07  69.339365  70.783951  69.339365  70.783951          0        0.0   \n",
      "2002-06-10  68.617081  72.228554  68.617081  72.228554          3        0.0   \n",
      "2002-06-11  72.156355  72.156355  70.061669  70.711761          0        0.0   \n",
      "2002-06-12  69.700562  70.061661  68.617075  70.061661          2        0.0   \n",
      "...               ...        ...        ...        ...        ...        ...   \n",
      "2020-12-22   2.140000   2.170000   2.100000   2.110000  128774800        0.0   \n",
      "2020-12-23   2.120000   2.190000   2.090000   2.160000  119614800        0.0   \n",
      "2020-12-28   2.180000   2.230000   2.140000   2.220000  102316300        0.0   \n",
      "2020-12-29   2.240000   2.260000   2.160000   2.180000  155718200        0.0   \n",
      "2020-12-30   2.180000   2.210000   2.160000   2.200000   71800000        0.0   \n",
      "\n",
      "            Stock Splits  \n",
      "Date                      \n",
      "2002-06-06           0.0  \n",
      "2002-06-07           0.0  \n",
      "2002-06-10           0.0  \n",
      "2002-06-11           0.0  \n",
      "2002-06-12           0.0  \n",
      "...                  ...  \n",
      "2020-12-22           0.0  \n",
      "2020-12-23           0.0  \n",
      "2020-12-28           0.0  \n",
      "2020-12-29           0.0  \n",
      "2020-12-30           0.0  \n",
      "\n",
      "[4631 rows x 7 columns]\n"
     ]
    }
   ],
   "source": [
    "data.dropna(subset=[\"Low\"], inplace=True)\n",
    "print(data)"
   ]
  },
  {
   "cell_type": "code",
   "execution_count": null,
   "metadata": {},
   "outputs": [],
   "source": []
  }
 ],
 "metadata": {
  "kernelspec": {
   "display_name": "Python 3",
   "language": "python",
   "name": "python3"
  },
  "language_info": {
   "codemirror_mode": {
    "name": "ipython",
    "version": 3
   },
   "file_extension": ".py",
   "mimetype": "text/x-python",
   "name": "python",
   "nbconvert_exporter": "python",
   "pygments_lexer": "ipython3",
   "version": "3.7.1"
  }
 },
 "nbformat": 4,
 "nbformat_minor": 2
}
