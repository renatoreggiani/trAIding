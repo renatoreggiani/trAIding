{
 "cells": [
  {
   "cell_type": "code",
   "execution_count": 19,
   "metadata": {},
   "outputs": [],
   "source": [
    "import yfinance as yf\n",
    "import pandas as pd\n",
    "import numpy as np\n",
    "import matplotlib.pyplot as plt \n",
    "import os\n",
    "import json\n",
    "import datetime\n",
    "\n",
    "from pmdarima.arima import ADFTest\n",
    "from statsmodels.tsa.arima_model import ARIMA\n",
    "from statsmodels.tsa.stattools import adfuller\n",
    "from pmdarima.arima import auto_arima\n",
    "    \n",
    "    \n",
    "plt.style.use('fivethirtyeight')\n",
    "\n",
    "# criando a pasta de registro de calibração\n",
    "if not os.path.isdir(\"files\"):\n",
    "    os.mkdir(\"files\")"
   ]
  },
  {
   "cell_type": "code",
   "execution_count": 20,
   "metadata": {},
   "outputs": [],
   "source": [
    "def get_finance_data(ticker, period='1y', interval='1d'):\n",
    "    tkr = yf.Ticker(ticker)\n",
    "    df = tkr.history(period=period, interval=interval)\n",
    "    return df\n",
    "\n",
    "def test_unit_root(s):\n",
    "    adf = adfuller(s)\n",
    "    return adf[0] > adf[4]['1%']\n",
    "\n",
    "def stationary_test(s):\n",
    "    adf_test = ADFTest(alpha=0.01)\n",
    "    return not adf_test.should_diff(s)[1]\n",
    "\n",
    "def get_arima_model(s):\n",
    "    is_stat = stationary_test(s)\n",
    "    is_seasonal = test_unit_root(s) \n",
    "    arima_model = auto_arima(s, stationary=is_stat, start_p=0, d=1, start_q=0, max_p=5, max_d=5, max_q=5, start_P=0, D=1, \n",
    "                             start_Q=1, max_P=5, max_D=5, max_Q=5, m=12, seasonal=is_seasonal, error_action='warn', trace=True, \n",
    "                             suppress_warnings=True, stepwise=False, random_state=20, n_fits=50, n_jobs=-1)\n",
    "    return arima_model"
   ]
  },
  {
   "cell_type": "code",
   "execution_count": 44,
   "metadata": {},
   "outputs": [],
   "source": [
    "def run_arima_coach(yticker_list):\n",
    "    n_steps = 2\n",
    "    for yticker in yticker_list:\n",
    "        ticker = yticker\n",
    "        print(\"capturando dados do yFinance: \"+yticker)\n",
    "        data = get_finance_data(yticker)\n",
    "        train = data['Low'][:len(data)-n_steps+1]\n",
    "        test = data['Low'][-n_steps:]\n",
    "        if os.path.isfile(\"files/db.json\"):\n",
    "            with open('files/db.json','r+') as jfile:\n",
    "                jdata = json.load(jfile)\n",
    "                if ticker not in jdata.keys():\n",
    "                    print(\"ticker \"+ticker+\" não encontrado\")\n",
    "                    jdata[ticker]={}\n",
    "                    jdata[ticker].update({\"yticker\":yticker})\n",
    "                    jfile.seek(0)\n",
    "                    json.dump(jdata, jfile)\n",
    "                else:\n",
    "                    print(\"dados de \"+ticker+\" já capturados\")\n",
    "\n",
    "        my_arima = []\n",
    "        if \"ARIMA\" not in jdata[ticker]:\n",
    "            print(\"rodando auto arima para \"+ticker)\n",
    "            arima_model = get_arima_model(train)\n",
    "            my_arima.append(arima_model.order[0])\n",
    "            my_arima.append(arima_model.order[1])\n",
    "            my_arima.append(arima_model.order[2])\n",
    "            my_arima.append(arima_model.seasonal_order[0])\n",
    "            my_arima.append(arima_model.seasonal_order[1])\n",
    "            my_arima.append(arima_model.seasonal_order[2])\n",
    "            my_arima.append(arima_model.seasonal_order[3])    \n",
    "            with open('files/db.json','r+') as jfile:\n",
    "                hoje = datetime.datetime.now().strftime(\"%d-%m-%Y\")\n",
    "                jdata[ticker].update({\"ARIMA\":{\"parametros\":my_arima,\"train_date\":hoje}})\n",
    "                jfile.seek(0)\n",
    "                json.dump(jdata, jfile)\n",
    "        \n",
    "        jfile.close()\n",
    "            \n",
    "        #temp\n",
    "        print(jdata)"
   ]
  },
  {
   "cell_type": "code",
   "execution_count": 46,
   "metadata": {},
   "outputs": [
    {
     "name": "stdout",
     "output_type": "stream",
     "text": [
      "capturando dados do yFinance: VILG11.SA\n",
      "dados de VILG11.SA já capturados\n",
      "{'BBFI11B.SA': {'yticker': 'BBFI11B.SA', 'ARIMA': {'parametros': [0, 1, 0, 4, 1, 0, 12], 'train_date': '01-01-2021'}}, 'VILG11.SA': {'yticker': 'VILG11.SA', 'ARIMA': {'parametros': [], 'train_date': '01-01-2021'}}, 'RNDP11.SA': {'yticker': 'RNDP11.SA', 'ARIMA': {'parametros': [0, 1, 1, 4, 1, 0, 12], 'train_date': '01-01-2021'}}}\n",
      "capturando dados do yFinance: RNDP11.SA\n",
      "dados de RNDP11.SA já capturados\n",
      "{'BBFI11B.SA': {'yticker': 'BBFI11B.SA', 'ARIMA': {'parametros': [0, 1, 0, 4, 1, 0, 12], 'train_date': '01-01-2021'}}, 'VILG11.SA': {'yticker': 'VILG11.SA', 'ARIMA': {'parametros': [], 'train_date': '01-01-2021'}}, 'RNDP11.SA': {'yticker': 'RNDP11.SA', 'ARIMA': {'parametros': [0, 1, 1, 4, 1, 0, 12], 'train_date': '01-01-2021'}}}\n"
     ]
    }
   ],
   "source": [
    "teste = [\"VILG11.SA\",\"RNDP11.SA\"]\n",
    "\n",
    "run_arima_coach(teste)"
   ]
  },
  {
   "cell_type": "code",
   "execution_count": 26,
   "metadata": {},
   "outputs": [
    {
     "ename": "NameError",
     "evalue": "name 'jdata' is not defined",
     "output_type": "error",
     "traceback": [
      "\u001b[1;31m---------------------------------------------------------------------------\u001b[0m",
      "\u001b[1;31mNameError\u001b[0m                                 Traceback (most recent call last)",
      "\u001b[1;32m<ipython-input-26-45ed07ad30cc>\u001b[0m in \u001b[0;36m<module>\u001b[1;34m\u001b[0m\n\u001b[1;32m----> 1\u001b[1;33m \u001b[0mjdata\u001b[0m\u001b[1;33m\u001b[0m\u001b[1;33m\u001b[0m\u001b[0m\n\u001b[0m",
      "\u001b[1;31mNameError\u001b[0m: name 'jdata' is not defined"
     ]
    }
   ],
   "source": []
  },
  {
   "cell_type": "code",
   "execution_count": null,
   "metadata": {},
   "outputs": [],
   "source": []
  },
  {
   "cell_type": "code",
   "execution_count": null,
   "metadata": {},
   "outputs": [],
   "source": []
  }
 ],
 "metadata": {
  "kernelspec": {
   "display_name": "Python 3",
   "language": "python",
   "name": "python3"
  },
  "language_info": {
   "codemirror_mode": {
    "name": "ipython",
    "version": 3
   },
   "file_extension": ".py",
   "mimetype": "text/x-python",
   "name": "python",
   "nbconvert_exporter": "python",
   "pygments_lexer": "ipython3",
   "version": "3.7.1"
  }
 },
 "nbformat": 4,
 "nbformat_minor": 2
}
