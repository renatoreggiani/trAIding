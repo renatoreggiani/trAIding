{
 "cells": [
  {
   "cell_type": "markdown",
   "metadata": {},
   "source": [
    "# Documentação\n",
    "\n",
    "`!pip install yfinance`\n",
    "\n",
    "### Artigo original:\n",
    "https://towardsdatascience.com/how-to-create-a-fully-automated-ai-based-trading-system-with-python-708503c1a907\n",
    "\n",
    "### Modelo ARIMA:\n",
    "https://pt.wikipedia.org/wiki/ARIMA\n",
    "\n",
    "### Uso do Auto-ARIMA:\n",
    "https://towardsdatascience.com/time-series-forecasting-using-auto-arima-in-python-bb83e49210cd\n",
    "\n"
   ]
  },
  {
   "cell_type": "markdown",
   "metadata": {},
   "source": [
    "## Requisitos\n",
    "~~~python\n",
    "!pip install yfinance\n",
    "~~~"
   ]
  },
  {
   "cell_type": "code",
   "execution_count": 1,
   "metadata": {
    "scrolled": true
   },
   "outputs": [],
   "source": [
    "ticker = \"HGLG11\"\n",
    "yticker = \"HGLG11.SA\"\n",
    "n_steps = 30"
   ]
  },
  {
   "cell_type": "code",
   "execution_count": 2,
   "metadata": {},
   "outputs": [],
   "source": [
    "import yfinance as yf\n",
    "import pandas as pd\n",
    "import numpy as np\n",
    "import matplotlib.pyplot as plt \n",
    "import os\n",
    "import json\n",
    "import datetime\n",
    "\n",
    "\n",
    "from functions import get_finance_data, arima_forecast, get_auto_arima, get_auto_sarima, stationary_test\n",
    "\n",
    "# from pmdarima.arima import auto_arima\n",
    "\n",
    "plt.style.use('fivethirtyeight')\n",
    "\n",
    "# criando a pasta de registro de calibração\n",
    "if not os.path.isdir(\"files\"):\n",
    "    os.mkdir(\"files\")"
   ]
  },
  {
   "cell_type": "code",
   "execution_count": 3,
   "metadata": {},
   "outputs": [],
   "source": [
    "data = get_finance_data(yticker)\n",
    "train = data['Low'][:len(data)-n_steps+1]\n",
    "test = data['Low'][-n_steps:]"
   ]
  },
  {
   "cell_type": "code",
   "execution_count": 4,
   "metadata": {},
   "outputs": [],
   "source": [
    "with open('files/db.json') as json_file:\n",
    "    jdata = json.load(json_file)"
   ]
  },
  {
   "cell_type": "code",
   "execution_count": null,
   "metadata": {},
   "outputs": [],
   "source": []
  },
  {
   "cell_type": "code",
   "execution_count": null,
   "metadata": {},
   "outputs": [],
   "source": [
    "my_arima = []\n",
    "my_sarima = []\n",
    "\n",
    "if os.path.isfile(\"files/db.json\"):\n",
    "    with open('files/db.json','r+') as jfile:\n",
    "        jdata = json.load(jfile)\n",
    "        if ticker in jdata.keys():\n",
    "            if \"ARIMA\" in jdata[ticker]:\n",
    "                my_arima.append(jdata[ticker][\"ARIMA\"][\"parametros\"][0])\n",
    "                my_arima.append(jdata[ticker][\"ARIMA\"][\"parametros\"][1])\n",
    "                my_arima.append(jdata[ticker][\"ARIMA\"][\"parametros\"][2])\n",
    "            else:\n",
    "                arima_model = get_auto_arima(train)\n",
    "                my_arima.append(arima_model.order[0])\n",
    "                my_arima.append(arima_model.order[1])\n",
    "                my_arima.append(arima_model.order[2])\n",
    "                json.dump(jdata,jfile)\n",
    "            if \"SARIMA\" in jdata[ticker]:\n",
    "                my_sarima.append(jdata[ticker][\"SARIMA\"][\"parametros\"][0])\n",
    "                my_sarima.append(jdata[ticker][\"SARIMA\"][\"parametros\"][1])\n",
    "                my_sarima.append(jdata[ticker][\"SARIMA\"][\"parametros\"][2])\n",
    "                my_sarima.append(jdata[ticker][\"SARIMA\"][\"parametros\"][3])\n",
    "                my_sarima.append(jdata[ticker][\"SARIMA\"][\"parametros\"][4])\n",
    "                my_sarima.append(jdata[ticker][\"SARIMA\"][\"parametros\"][5])\n",
    "                my_sarima.append(jdata[ticker][\"SARIMA\"][\"parametros\"][6])\n",
    "            else:\n",
    "                sarima_model = get_auto_sarima(train)\n",
    "                my_sarima.append(arima_model.order[0])\n",
    "                my_sarima.append(arima_model.order[1])\n",
    "                my_sarima.append(arima_model.order[2])\n",
    "                my_sarima.append(arima_model.seasonal_order[0])\n",
    "                my_sarima.append(arima_model.seasonal_order[1])\n",
    "                my_sarima.append(arima_model.seasonal_order[2])\n",
    "                my_sarima.append(arima_model.seasonal_order[3])\n",
    "                \n",
    "            if \"TensorFlow\" in jdata[ticker]:\n",
    "                print(jdata[ticker][\"TensorFlow\"][\"parametros\"])\n",
    "            else:\n",
    "                print('rodar Tensor Flow '+ticker)\n",
    "        else:\n",
    "            print('rodar todos')\n",
    "            arima_model = get_auto_arima(train)\n",
    "            my_arima.append(arima_model.order[0])\n",
    "            my_arima.append(arima_model.order[1])\n",
    "            my_arima.append(arima_model.order[2])\n",
    "            sarima_model = get_auto_sarima(train)\n",
    "            my_sarima.append(sarima_model.order[0])\n",
    "            my_sarima.append(sarima_model.order[1])\n",
    "            my_sarima.append(sarima_model.order[2])\n",
    "            my_sarima.append(sarima_model.seasonal_order[0])\n",
    "            my_sarima.append(sarima_model.seasonal_order[1])\n",
    "            my_sarima.append(sarima_model.seasonal_order[2])\n",
    "            my_sarima.append(sarima_model.seasonal_order[3])\n",
    "            hoje = datetime.datetime.now().strftime(\"%d-%m-%Y\")\n",
    "            jdata[ticker]={}\n",
    "            jdata[ticker].update({\"yticker\":yticker, \"ARIMA\":{\"parametros\":my_arima,\"train_date\":hoje}, \"SARIMA\":{\"parametros\":my_sarima,\"train_date\":hoje})\n",
    "            jfile.seek(0)\n",
    "            json.dump(jdata, jfile)\n",
    "            \n"
   ]
  },
  {
   "cell_type": "code",
   "execution_count": null,
   "metadata": {},
   "outputs": [],
   "source": [
    "datetime.datetime.now().strftime(\"%d-%m-%Y\")"
   ]
  },
  {
   "cell_type": "code",
   "execution_count": null,
   "metadata": {
    "scrolled": true
   },
   "outputs": [],
   "source": [
    "jdata\n"
   ]
  },
  {
   "cell_type": "code",
   "execution_count": null,
   "metadata": {},
   "outputs": [],
   "source": [
    "jdata"
   ]
  },
  {
   "cell_type": "code",
   "execution_count": null,
   "metadata": {},
   "outputs": [],
   "source": [
    "def desvio(registro):\n",
    "    return ((registro['predição']/registro['valor'])-1)*100"
   ]
  },
  {
   "cell_type": "code",
   "execution_count": null,
   "metadata": {},
   "outputs": [],
   "source": [
    "df_arima = arima_forecast(train, next=n_steps, p=my_arima[0], d=my_arima[1], q=my_arima[2])"
   ]
  },
  {
   "cell_type": "code",
   "execution_count": null,
   "metadata": {},
   "outputs": [],
   "source": [
    "df_arima"
   ]
  },
  {
   "cell_type": "code",
   "execution_count": null,
   "metadata": {
    "scrolled": false
   },
   "outputs": [],
   "source": [
    "df = pd.DataFrame({'ARIMA':df_arima,'valor':test}, index=test.index)\n",
    "prd = df\n",
    "df"
   ]
  },
  {
   "cell_type": "code",
   "execution_count": null,
   "metadata": {},
   "outputs": [],
   "source": []
  },
  {
   "cell_type": "code",
   "execution_count": null,
   "metadata": {},
   "outputs": [],
   "source": [
    "plt.figure(figsize=(8,5))\n",
    "plt.plot(train, label=\"treino\")\n",
    "plt.plot(test, label=\"teste\")\n",
    "plt.plot(prd['ARIMA'], label=\"ARIMA\")\n",
    "plt.legend(loc='lower right')\n",
    "plt.title(label=ticker)\n",
    "plt.show"
   ]
  },
  {
   "cell_type": "code",
   "execution_count": null,
   "metadata": {},
   "outputs": [],
   "source": [
    "test"
   ]
  },
  {
   "cell_type": "code",
   "execution_count": null,
   "metadata": {},
   "outputs": [],
   "source": [
    "train[:-1]"
   ]
  }
 ],
 "metadata": {
  "kernelspec": {
   "display_name": "Python 3",
   "language": "python",
   "name": "python3"
  },
  "language_info": {
   "codemirror_mode": {
    "name": "ipython",
    "version": 3
   },
   "file_extension": ".py",
   "mimetype": "text/x-python",
   "name": "python",
   "nbconvert_exporter": "python",
   "pygments_lexer": "ipython3",
   "version": "3.7.1"
  }
 },
 "nbformat": 4,
 "nbformat_minor": 2
}
