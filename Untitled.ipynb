{
 "cells": [
  {
   "cell_type": "code",
   "execution_count": 7,
   "metadata": {
    "scrolled": true
   },
   "outputs": [
    {
     "name": "stdout",
     "output_type": "stream",
     "text": [
      "Collecting pmdarima\n",
      "  Using cached https://files.pythonhosted.org/packages/d3/b8/0295767de22ac446faa0fa596e06112eedb498f897682dd338fb4bf035c2/pmdarima-1.8.0-cp37-cp37m-win_amd64.whl\n",
      "Requirement already satisfied: numpy>=1.17.3 in c:\\users\\f8564619\\appdata\\local\\continuum\\anaconda3\\lib\\site-packages (from pmdarima) (1.19.4)\n",
      "Requirement already satisfied: urllib3 in c:\\users\\f8564619\\appdata\\local\\continuum\\anaconda3\\lib\\site-packages (from pmdarima) (1.24.1)\n",
      "Requirement already satisfied: setuptools!=50.0.0,>=38.6.0 in c:\\users\\f8564619\\appdata\\local\\continuum\\anaconda3\\lib\\site-packages (from pmdarima) (40.6.3)\n",
      "Requirement already satisfied: joblib>=0.11 in c:\\users\\f8564619\\appdata\\local\\continuum\\anaconda3\\lib\\site-packages (from pmdarima) (1.0.0)\n",
      "Requirement already satisfied: Cython<0.29.18,>=0.29 in c:\\users\\f8564619\\appdata\\local\\continuum\\anaconda3\\lib\\site-packages (from pmdarima) (0.29.2)\n",
      "Collecting statsmodels!=0.12.0,>=0.11 (from pmdarima)\n",
      "  Using cached https://files.pythonhosted.org/packages/6b/be/c1e4977be0018e1587714b4be570b321558549a69ae1cf334330aae9581f/statsmodels-0.12.1-cp37-none-win_amd64.whl\n",
      "Collecting scikit-learn>=0.22 (from pmdarima)\n",
      "  Using cached https://files.pythonhosted.org/packages/2f/9e/91095e6e92f6f8255949dd61ee60c91fd0fc1d4580731acf88166622aa9b/scikit_learn-0.24.0-cp37-cp37m-win_amd64.whl\n",
      "Requirement already satisfied: pandas>=0.19 in c:\\users\\f8564619\\appdata\\local\\continuum\\anaconda3\\lib\\site-packages (from pmdarima) (1.1.5)\n",
      "Collecting scipy>=1.3.2 (from pmdarima)\n",
      "  Using cached https://files.pythonhosted.org/packages/0e/d2/1a6ec41bca8722b56aa779313391ee46595085d0ceefa49b5acd308c7a38/scipy-1.5.4-cp37-cp37m-win_amd64.whl\n",
      "Requirement already satisfied: patsy>=0.5 in c:\\users\\f8564619\\appdata\\local\\continuum\\anaconda3\\lib\\site-packages (from statsmodels!=0.12.0,>=0.11->pmdarima) (0.5.1)\n",
      "Requirement already satisfied: threadpoolctl>=2.0.0 in c:\\users\\f8564619\\appdata\\local\\continuum\\anaconda3\\lib\\site-packages (from scikit-learn>=0.22->pmdarima) (2.1.0)\n",
      "Requirement already satisfied: python-dateutil>=2.7.3 in c:\\users\\f8564619\\appdata\\local\\continuum\\anaconda3\\lib\\site-packages (from pandas>=0.19->pmdarima) (2.7.5)\n",
      "Requirement already satisfied: pytz>=2017.2 in c:\\users\\f8564619\\appdata\\local\\continuum\\anaconda3\\lib\\site-packages (from pandas>=0.19->pmdarima) (2018.7)\n",
      "Requirement already satisfied: six in c:\\users\\f8564619\\appdata\\local\\continuum\\anaconda3\\lib\\site-packages (from patsy>=0.5->statsmodels!=0.12.0,>=0.11->pmdarima) (1.12.0)\n",
      "Installing collected packages: scipy, statsmodels, scikit-learn, pmdarima\n",
      "  Found existing installation: scipy 1.1.0\n",
      "    Uninstalling scipy-1.1.0:\n",
      "      Successfully uninstalled scipy-1.1.0\n"
     ]
    },
    {
     "name": "stderr",
     "output_type": "stream",
     "text": [
      "Could not install packages due to an EnvironmentError: [WinError 5] Acesso negado: 'C:\\\\Users\\\\f8564619\\\\AppData\\\\Local\\\\Temp\\\\pip-uninstall-u2kzo0y2\\\\users\\\\f8564619\\\\appdata\\\\local\\\\continuum\\\\anaconda3\\\\lib\\\\site-packages\\\\scipy\\\\fftpack\\\\convolve.cp37-win_amd64.pyd'\n",
      "Consider using the `--user` option or check the permissions.\n",
      "\n"
     ]
    }
   ],
   "source": [
    "!pip install pmdarima"
   ]
  },
  {
   "cell_type": "code",
   "execution_count": 9,
   "metadata": {},
   "outputs": [],
   "source": [
    "import pmdarima"
   ]
  }
 ],
 "metadata": {
  "kernelspec": {
   "display_name": "Python 3",
   "language": "python",
   "name": "python3"
  },
  "language_info": {
   "codemirror_mode": {
    "name": "ipython",
    "version": 3
   },
   "file_extension": ".py",
   "mimetype": "text/x-python",
   "name": "python",
   "nbconvert_exporter": "python",
   "pygments_lexer": "ipython3",
   "version": "3.7.1"
  }
 },
 "nbformat": 4,
 "nbformat_minor": 2
}
