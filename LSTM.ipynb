{
 "cells": [
  {
   "cell_type": "markdown",
   "metadata": {},
   "source": [
    "<p><b>Predição preço de ações utilizando LSTM.</b></p>\n",
    "\n",
    "#### Redes Neurais\n",
    "\n",
    "https://pathmind.com/wiki/neural-network\n",
    "\n",
    "\n",
    " #### LSTM\n",
    "\n",
    "https://pathmind.com/wiki/lstm#recurrent"
   ]
  },
  {
   "cell_type": "markdown",
   "metadata": {},
   "source": [
    "#### Construção da LSTM"
   ]
  },
  {
   "cell_type": "code",
   "execution_count": 1,
   "metadata": {},
   "outputs": [
    {
     "ename": "ModuleNotFoundError",
     "evalue": "No module named 'keras'",
     "output_type": "error",
     "traceback": [
      "\u001b[1;31m---------------------------------------------------------------------------\u001b[0m",
      "\u001b[1;31mModuleNotFoundError\u001b[0m                       Traceback (most recent call last)",
      "\u001b[1;32m<ipython-input-1-c6b3fc9bab7a>\u001b[0m in \u001b[0;36m<module>\u001b[1;34m\u001b[0m\n\u001b[0;32m     12\u001b[0m \u001b[1;33m\u001b[0m\u001b[0m\n\u001b[0;32m     13\u001b[0m \u001b[1;31m#Bibliotecas para construímos a LSTM\u001b[0m\u001b[1;33m\u001b[0m\u001b[1;33m\u001b[0m\u001b[1;33m\u001b[0m\u001b[0m\n\u001b[1;32m---> 14\u001b[1;33m \u001b[1;32mfrom\u001b[0m \u001b[0mkeras\u001b[0m\u001b[1;33m.\u001b[0m\u001b[0mmodels\u001b[0m \u001b[1;32mimport\u001b[0m \u001b[0mSequential\u001b[0m\u001b[1;33m\u001b[0m\u001b[1;33m\u001b[0m\u001b[0m\n\u001b[0m\u001b[0;32m     15\u001b[0m \u001b[1;32mfrom\u001b[0m \u001b[0mkeras\u001b[0m\u001b[1;33m.\u001b[0m\u001b[0mlayers\u001b[0m \u001b[1;32mimport\u001b[0m \u001b[0mLSTM\u001b[0m\u001b[1;33m,\u001b[0m \u001b[0mDropout\u001b[0m\u001b[1;33m,\u001b[0m \u001b[0mDense\u001b[0m\u001b[1;33m,\u001b[0m \u001b[0mLeakyReLU\u001b[0m\u001b[1;33m\u001b[0m\u001b[1;33m\u001b[0m\u001b[0m\n\u001b[0;32m     16\u001b[0m \u001b[1;32mfrom\u001b[0m \u001b[0msklearn\u001b[0m\u001b[1;33m.\u001b[0m\u001b[0mpreprocessing\u001b[0m \u001b[1;32mimport\u001b[0m \u001b[0mMinMaxScaler\u001b[0m\u001b[1;33m\u001b[0m\u001b[1;33m\u001b[0m\u001b[0m\n",
      "\u001b[1;31mModuleNotFoundError\u001b[0m: No module named 'keras'"
     ]
    }
   ],
   "source": [
    "#Bibliotecas para manipulação dos dados\n",
    "import pandas as pd\n",
    "import numpy as np\n",
    "from datetime import datetime\n",
    "\n",
    "#Bibliotecas de gráfico\n",
    "import matplotlib.pyplot as plt\n",
    "%matplotlib inline\n",
    "from matplotlib.pylab import rcParams\n",
    "rcParams['figure.figsize']=20,10\n",
    "plt.style.use('ggplot')\n",
    "\n",
    "#Bibliotecas para construímos a LSTM\n",
    "from keras.models import Sequential\n",
    "from keras.layers import LSTM, Dropout, Dense, LeakyReLU\n",
    "from sklearn.preprocessing import MinMaxScaler\n",
    "from sklearn.model_selection import train_test_split\n",
    "\n",
    "from functions import get_finance_data\n",
    "\n",
    "#Biblioteca para retirar avisos\n",
    "import warnings\n",
    "warnings.filterwarnings(\"ignore\")"
   ]
  },
  {
   "cell_type": "code",
   "execution_count": 4,
   "metadata": {},
   "outputs": [],
   "source": [
    "import tensorflow"
   ]
  },
  {
   "cell_type": "markdown",
   "metadata": {},
   "source": [
    "#### Tratamento de Dados"
   ]
  },
  {
   "cell_type": "code",
   "execution_count": null,
   "metadata": {},
   "outputs": [],
   "source": [
    "#Leitura dos dados\n",
    "dados=pd.read_csv(\"Apple_stocks.csv\",sep=\",\")"
   ]
  },
  {
   "cell_type": "code",
   "execution_count": null,
   "metadata": {},
   "outputs": [],
   "source": [
    "#Conhecendo os dados que iremos trabalhar\n",
    "dados.head()"
   ]
  },
  {
   "cell_type": "code",
   "execution_count": null,
   "metadata": {},
   "outputs": [],
   "source": [
    "dados.dtypes"
   ]
  },
  {
   "cell_type": "markdown",
   "metadata": {},
   "source": [
    "<p> Podemos observar que nossos dados não estão em um formato que podem ser utilizados em uma LSTM, pois por padrão as sequências de dados de <i>input</i> devem ser numéricos.</p>\n",
    "<p>Além disso, a coluna <i>Date</i> está com um formato diferente do desejável para construírmos nossa Série Temporal.<p>\n"
   ]
  },
  {
   "cell_type": "code",
   "execution_count": null,
   "metadata": {},
   "outputs": [],
   "source": [
    "#Vamos criar uma cópia dos dados originais para podermos manipular os dados.\n",
    "df = dados.copy()"
   ]
  },
  {
   "cell_type": "code",
   "execution_count": null,
   "metadata": {},
   "outputs": [],
   "source": [
    "#Renomeando as colunas\n",
    "df.columns = [\"Date\",\"Close\",\"Volume\",\"Open\",\"High\",\"Low\"]"
   ]
  },
  {
   "cell_type": "markdown",
   "metadata": {},
   "source": [
    "O objetivo da nossa LSTM vai ser prever o preço de fechamento da ação, com isso precisamos transformar os dados da coluna <i><b>Close</b></i> de <i>object</i> para <i>float</i>."
   ]
  },
  {
   "cell_type": "code",
   "execution_count": null,
   "metadata": {},
   "outputs": [],
   "source": [
    "#Definindo a função para alteramos as datas\n",
    "def to_string_date(x:str):\n",
    "    return pd.to_datetime(\n",
    "                datetime.strftime(\n",
    "                      datetime.strptime(x.replace(\"/\",\"-\"),\"%m-%d-%Y\"),\"%Y-%m-%d\"))"
   ]
  },
  {
   "cell_type": "code",
   "execution_count": null,
   "metadata": {},
   "outputs": [],
   "source": [
    "#Definindo a função para alteramos o valor de fechamento\n",
    "def to_float(x:str):\n",
    "    return float(x[x.find(\"$\")+1:])"
   ]
  },
  {
   "cell_type": "code",
   "execution_count": null,
   "metadata": {},
   "outputs": [],
   "source": [
    "#Aplicamos as funções nas colunas que precisam de transformação\n",
    "df[\"Date\"] = df[\"Date\"].apply(to_string_date)\n",
    "df[\"Close\"] = df[\"Close\"].apply(to_float)\n",
    "df = df.sort_values('Date')"
   ]
  },
  {
   "cell_type": "code",
   "execution_count": null,
   "metadata": {},
   "outputs": [],
   "source": [
    "#Visualização dos dados após alteração\n",
    "df.head()"
   ]
  },
  {
   "cell_type": "markdown",
   "metadata": {},
   "source": [
    "<p>Agora que fizemos o tratamento das colunas que iremos utilizar, precisamos colocar nossos dados no formato de uma Série Temporal.</p>\n"
   ]
  },
  {
   "cell_type": "code",
   "execution_count": null,
   "metadata": {},
   "outputs": [],
   "source": [
    "df.index = df[\"Date\"]\n",
    "df = df[\"Close\"]"
   ]
  },
  {
   "cell_type": "markdown",
   "metadata": {},
   "source": [
    "<p>Após criada nossa Série, vamos fazer um plot dos dados.</p>"
   ]
  },
  {
   "cell_type": "code",
   "execution_count": null,
   "metadata": {},
   "outputs": [],
   "source": [
    "#Vamos analisar o comportamento da nossa variável resposta\n",
    "plt.figure(figsize=(16,8))\n",
    "plt.ylabel(\"Preço de Fechamento em USD($)\",fontsize=15)\n",
    "plt.title('Série de Preço de Fechamento',fontsize=25)\n",
    "plt.xticks(rotation= 45,fontsize=15)\n",
    "plt.plot(df)"
   ]
  },
  {
   "cell_type": "markdown",
   "metadata": {},
   "source": [
    "<p>Ao analisarmos o gráfico podemos perceber uma tedência na nossa série, além de uma grande discrepância entre os valores observados. </p>\n",
    "<p>Para solucionarmos o problema da diferença entre os valores, vamos usar uma técnica de normalização.</p>"
   ]
  },
  {
   "cell_type": "code",
   "execution_count": null,
   "metadata": {},
   "outputs": [],
   "source": [
    "dataset = df.values.reshape((-1,1))\n",
    "scaler = MinMaxScaler(feature_range=(0, 1)) \n",
    "dataset = scaler.fit_transform(dataset)"
   ]
  },
  {
   "cell_type": "markdown",
   "metadata": {},
   "source": [
    "<p>Antes de iniciarmos o processo de modelagem propriamente dito, temos que decidir quantas observações do passado vamos utilizar para estimarmos o valor futuro.</p>\n",
    "<p>Além disso, temos que decidir quantos passos à frente vamos querer estimar.</p>"
   ]
  },
  {
   "cell_type": "code",
   "execution_count": null,
   "metadata": {},
   "outputs": [],
   "source": [
    "'''Para treinar nossa rede, usaremos um intervalo de tempo para prevermos o nosso próximo valor'''\n",
    "look_back = 5\n",
    "future_target = 1"
   ]
  },
  {
   "cell_type": "markdown",
   "metadata": {},
   "source": [
    "<p>Então, seguindo o processo de modelagem, vamos separar nossos dados em dados de treino e teste. Nesse caso, vamos usar 70% dos dados como dados de teste.</p>"
   ]
  },
  {
   "cell_type": "code",
   "execution_count": null,
   "metadata": {},
   "outputs": [],
   "source": [
    "'''Separando os dados em treino e teste.'''\n",
    "tam = int(len(dataset) * 0.70)\n",
    "dataset_teste = dataset[tam:]\n",
    "dataset_treino = dataset[:tam]"
   ]
  },
  {
   "cell_type": "markdown",
   "metadata": {},
   "source": [
    "<p>Por padrão, Redes Neurais necessitam que os dados de <i>input</i> estejam na forma matricial, de preferência uma matriz tridimensional.<p>"
   ]
  },
  {
   "cell_type": "code",
   "execution_count": null,
   "metadata": {},
   "outputs": [],
   "source": [
    "#Função de transformação dos dados\n",
    "def process_data(data, look_back, forward_days,jump=1):\n",
    "    X,Y = [],[]\n",
    "    for i in range(0,len(data) -look_back -forward_days +1, jump):\n",
    "        X.append(data[i:(i+look_back)])\n",
    "        Y.append(data[(i+look_back):(i+look_back+forward_days)])\n",
    "    return np.array(X),np.array(Y)\n"
   ]
  },
  {
   "cell_type": "code",
   "execution_count": null,
   "metadata": {},
   "outputs": [],
   "source": [
    "X, y = process_data(dataset_treino,look_back,future_target)\n",
    "y = np.array([list(a.ravel()) for a in y])\n",
    "\n",
    "x_test, y_test = process_data(dataset_teste,look_back,future_target)\n",
    "y_test = np.array([list(a.ravel()) for a in y_test])"
   ]
  },
  {
   "cell_type": "markdown",
   "metadata": {},
   "source": [
    "<p>Realizamos esse processo para permitir que a rede possa identificar que cada conjunto de valores de X_train gere o valor de y_train, ou seja, o input x_train[0] gera o output y_train[0] e assim sussecivamente.<p>"
   ]
  },
  {
   "cell_type": "code",
   "execution_count": null,
   "metadata": {},
   "outputs": [],
   "source": [
    "X[0]"
   ]
  },
  {
   "cell_type": "code",
   "execution_count": null,
   "metadata": {},
   "outputs": [],
   "source": [
    "y[0]"
   ]
  },
  {
   "cell_type": "markdown",
   "metadata": {},
   "source": [
    "<p>Agora, vamos separar nosso conjunto de dados de teste e separar um porcentagem para validação.</p>"
   ]
  },
  {
   "cell_type": "code",
   "execution_count": null,
   "metadata": {},
   "outputs": [],
   "source": [
    "X_train, X_validate, y_train, y_validate = train_test_split(X, y, test_size=0.20, random_state=42)"
   ]
  },
  {
   "cell_type": "markdown",
   "metadata": {},
   "source": [
    "<p>No próximo passo vamos contruir a rede neural propriamente dita.</p>\n",
    "<p>Iremos usar alguns paramêtros padrões, pois o processo de tunning dos parâmetros é um processo que exige testes e investigações mais profundas sobre os dados.</p>"
   ]
  },
  {
   "cell_type": "code",
   "execution_count": null,
   "metadata": {},
   "outputs": [],
   "source": [
    "#Definindo os números de neurônios por camada\n",
    "n_first = 128\n",
    "EPOCHS = 50\n",
    "#Construido o modelo\n",
    "model = Sequential()\n",
    "model.add(LSTM(n_first,input_shape = (look_back,1)))\n",
    "model.add(LeakyReLU(alpha=0.3))\n",
    "model.add(Dropout(0.3))\n",
    "model.add(Dense(1))\n",
    "model.compile(loss='mean_squared_error', optimizer='adam')\n",
    "\n",
    "history = model.fit(X_train,y_train,epochs=EPOCHS,validation_data=(X_validate,y_validate),shuffle=False,batch_size=2, verbose=2)"
   ]
  },
  {
   "cell_type": "markdown",
   "metadata": {},
   "source": [
    "<p>Após o treinamento do nosso modelo, podemos verificar o comportamento da função custo nos dados de validação e nos dados de teste.</p>\n",
    "<p>A análise do comportamento das curvas podem ser usados como indicador de <i>underfitting</i> ou <i>overfitting</i>.</p>"
   ]
  },
  {
   "cell_type": "code",
   "execution_count": null,
   "metadata": {},
   "outputs": [],
   "source": [
    "#Gráfico do resultado da função perda por epochs\n",
    "plt.figure(figsize = (15,10))\n",
    "plt.plot(history.history['loss'], label='loss')\n",
    "plt.plot(history.history['val_loss'], label='val_loss')\n",
    "plt.ylabel(\"Número de Epochs\")\n",
    "plt.legend(loc='best',fontsize=15)\n",
    "plt.show()"
   ]
  },
  {
   "cell_type": "markdown",
   "metadata": {},
   "source": [
    "<p>Em seguida, usamos nosso modelo escolhido para seguirmos para o processo de predição.</p>"
   ]
  },
  {
   "cell_type": "code",
   "execution_count": null,
   "metadata": {},
   "outputs": [],
   "source": [
    "#Salvando os valores preditos\n",
    "Xt = model.predict(x_test)"
   ]
  },
  {
   "cell_type": "markdown",
   "metadata": {},
   "source": [
    "<p>Por fim, podemos identificar o comportamento do nosso modelo na série.</p>\n",
    "<p>Podemos observar que nosso modelo se comportou bem diante das configurações que escolhemos.</p>"
   ]
  },
  {
   "cell_type": "code",
   "execution_count": null,
   "metadata": {},
   "outputs": [],
   "source": [
    "plt.figure(figsize = (15,10))\n",
    "plt.plot(scaler.inverse_transform(y_test.reshape(-1,1)),c='b', label='Teste')\n",
    "plt.plot(scaler.inverse_transform(Xt.reshape(-1,1)), c='r',label='Predito')\n",
    "plt.ylabel(\"Preço de Fechamento em USD($)\")\n",
    "plt.legend(loc='best')\n",
    "plt.show()"
   ]
  },
  {
   "cell_type": "markdown",
   "metadata": {},
   "source": [
    "#### Próximos passos"
   ]
  },
  {
   "cell_type": "markdown",
   "metadata": {},
   "source": [
    "<p>Vimos que treinar uma Rede Neural não é uma tarefa de outro mundo, contudo exige conhecimento e prática para aperfeiçoar a rede.</p>\n"
   ]
  },
  {
   "cell_type": "markdown",
   "metadata": {},
   "source": []
  }
 ],
 "metadata": {
  "kernelspec": {
   "display_name": "Python 3",
   "language": "python",
   "name": "python3"
  },
  "language_info": {
   "codemirror_mode": {
    "name": "ipython",
    "version": 3
   },
   "file_extension": ".py",
   "mimetype": "text/x-python",
   "name": "python",
   "nbconvert_exporter": "python",
   "pygments_lexer": "ipython3",
   "version": "3.8.5"
  }
 },
 "nbformat": 4,
 "nbformat_minor": 4
}
