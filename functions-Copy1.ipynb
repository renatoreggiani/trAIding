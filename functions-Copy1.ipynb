{
 "cells": [
  {
   "cell_type": "code",
   "execution_count": 1,
   "metadata": {},
   "outputs": [
    {
     "name": "stderr",
     "output_type": "stream",
     "text": [
      "[NbConvertApp] Converting notebook functions.ipynb to python\n",
      "[NbConvertApp] Writing 5037 bytes to functions.py\n"
     ]
    }
   ],
   "source": [
    "!jupyter  nbconvert --to python functions.ipynb"
   ]
  },
  {
   "cell_type": "code",
   "execution_count": 2,
   "metadata": {},
   "outputs": [],
   "source": [
    "import yfinance as yf\n",
    "from pmdarima.arima import ADFTest\n",
    "from statsmodels.tsa.arima_model import ARIMA\n",
    "from pmdarima.arima import auto_arima\n",
    "import warnings\n",
    "warnings.filterwarnings('ignore')"
   ]
  },
  {
   "cell_type": "markdown",
   "metadata": {},
   "source": [
    "# Função get_finance_data\n",
    "    Função para capturar os dados dos ativos, acrescentar \".SA\" no final do ticker para ativos \n",
    "    negociados na Bovespa, exemplo \"PETR4.SA\".\n",
    "    Exemplo url base da API: https://query1.finance.yahoo.com/v7/finance/options/PETR4.SA?date=20201222\n",
    "    Exemplo url scrape da API: https://finance.yahoo.com/quote/PETR4.SA\n",
    "    \n",
    "###    Parameters\n",
    "    period: default '1y', periodos validos: 1d,5d,1mo,3mo,6mo,1y,2y,5y,10y,ytd,max\n",
    "    inteval: default '1d', intervalos validos: 1m, 2m, 5m, 15m, 30m, 60m, 90m, 1d, 5d, 1wk, 1mo, 3mo.\n"
   ]
  },
  {
   "cell_type": "code",
   "execution_count": 3,
   "metadata": {},
   "outputs": [],
   "source": [
    "def get_finance_data(ticker, period='1y', interval='1d'):\n",
    "    '''\n",
    "    Função para capturar os dados dos ativos, acrescentar \".SA\" no final do ticker para ativos \n",
    "    negociados na Bovespa, exemplo \"PETR4.SA\".\n",
    "    Exemplo url base da API: https://query1.finance.yahoo.com/v7/finance/options/PETR4.SA?date=20201222\n",
    "    Exemplo url scrape da API: https://finance.yahoo.com/quote/PETR4.SA\n",
    "    \n",
    "    Parameters\n",
    "    ----------\n",
    "    period: default '1y', periodos validos: 1d,5d,1mo,3mo,6mo,1y,2y,5y,10y,ytd,max\n",
    "    inteval: default '1d', intervalos validos: 1m, 2m, 5m, 15m, 30m, 60m, 90m, 1d, 5d, 1wk, 1mo, 3mo.\n",
    "    '''\n",
    "    \n",
    "    tkr = yf.Ticker(ticker)\n",
    "    df = tkr.history(period=period, interval=interval)\n",
    "    return df"
   ]
  },
  {
   "cell_type": "markdown",
   "metadata": {},
   "source": [
    "# Função get_forecast\n",
    "    Função que entrega as próximas previsões\n",
    "    \n",
    "###    Parameters\n",
    "    df: data frame com os dados historicos\n",
    "    ar, i, ma: parâmteros ARIMA\n",
    "    next: Quantidade de previsões\n",
    "    col_ref: Coluna de referência"
   ]
  },
  {
   "cell_type": "code",
   "execution_count": 4,
   "metadata": {},
   "outputs": [],
   "source": [
    "def arima_forecast(df, col_ref='Low', next=1, p=5, d=1, q=0):\n",
    "    '''\n",
    "    Função que entrega as próximas previsões utilizando ARIMA\n",
    "    \n",
    "    Parameters\n",
    "    ----------\n",
    "    df: data frame com os dados historicos\n",
    "    ar, i, ma: parâmteros ARIMA\n",
    "    next: Quantidade de previsões\n",
    "    col_ref: Coluna de referência\n",
    "    '''    \n",
    "    \n",
    "    y = df[col_ref].values\n",
    "    model = ARIMA(y, order=(p,d,q)).fit()\n",
    "    forecast = model.forecast(steps=next)[0]\n",
    "    return forecast"
   ]
  },
  {
   "cell_type": "markdown",
   "metadata": {},
   "source": [
    "# Função stationary_test\n",
    "    Stationarity is an important concept in time-series and any time-series data should undergo a stationarity test before proceeding with a model.\n",
    "\n",
    "###    Parameters\n",
    "    df: data frame com os dados historicos\n",
    "    col_ref: Coluna de referência"
   ]
  },
  {
   "cell_type": "code",
   "execution_count": 5,
   "metadata": {},
   "outputs": [],
   "source": [
    "def stationary_test(df, col_ref='Low'):\n",
    "    adf_test = ADFTest(alpha=0.05)\n",
    "    return not adf_test.should_diff(df[col_ref])[1]"
   ]
  },
  {
   "cell_type": "markdown",
   "metadata": {},
   "source": [
    "# Função get_auto_arima\n",
    "    Retorna os valores ideais para calibração do ARIMA\n",
    "\n",
    "###    Parameters\n",
    "    ticker: ticker do papel\n",
    "    period: default '1y', periodos validos: 1d,5d,1mo,3mo,6mo,1y,2y,5y,10y,ytd,max\n",
    "    inteval: default '1d', intervalos validos: 1m, 2m, 5m, 15m, 30m, 60m, 90m, 1d, 5d, 1wk, 1mo, 3mo.\n",
    "    col_ref: default 'Low', Coluna de referência "
   ]
  },
  {
   "cell_type": "code",
   "execution_count": 6,
   "metadata": {},
   "outputs": [],
   "source": [
    "def get_auto_arima(ticker, period='1y', interval='1d', col_ref='Low'):\n",
    "    df = get_finance_data(ticker, period, interval)\n",
    "    is_stat = stationary_test(df)\n",
    "    train = df[col_ref]\n",
    "    arima_model = auto_arima(train, stationary=is_stat, start_p=0, d=1, start_q=0, max_p=5, max_d=5, max_q=5, start_P=0, D=1, \n",
    "                             start_Q=1, max_P=5, max_D=5, max_Q=5, m=12, seasonal=True, error_action='warn', trace=True, \n",
    "                             suppress_warnings=True, stepwise=True, random_state=20, n_fits=50)\n",
    "    return arima_model"
   ]
  },
  {
   "cell_type": "markdown",
   "metadata": {},
   "source": [
    "# Exemplo de uso\n",
    "\n",
    "~~~python\n",
    "    #coletando dados\n",
    "    ticker='HGLG11.SA'\n",
    "    data = get_finance_data(ticker)\n",
    "    train = data['Low'][:len(data)-50]\n",
    "    test = data['Low'][-50:]\n",
    "\n",
    "    #criando modelo ARIMA\n",
    "    arima_model = get_auto_arima(ticker)\n",
    "    prd = pd.DataFrame(arima_model.predict(n_periods=50), index=test.index)\n",
    "    AR,I,MA = arima_model.order\n",
    "    \n",
    "    #fazendo projeção e plotando\n",
    "    get_forecast(data, next=50, p=AR,d=I,q=MA)\n",
    "    plt.figure(figsize=(8,5))\n",
    "    plt.plot(train, label=\"treino\")\n",
    "    plt.plot(test, label=\"teste\")\n",
    "    plt.plot(prd, label=\"predicao\")\n",
    "    plt.legend(loc='lower right')\n",
    "    plt.title(label=ticker)\n",
    "    plt.show\n",
    "~~~"
   ]
  },
  {
   "cell_type": "code",
   "execution_count": 7,
   "metadata": {},
   "outputs": [
    {
     "data": {
      "text/plain": [
       "'\\nimport yfinance as yf\\nimport pandas as pd\\nimport numpy as np\\nimport matplotlib.pyplot as plt \\nplt.style.use(\\'fivethirtyeight\\')\\nticker=\\'HGLG11.SA\\'\\ndata = get_finance_data(ticker)\\narima_model = get_auto_arima(ticker)\\ntrain = data[\\'Low\\'][:len(data)-50]\\ntest = data[\\'Low\\'][-50:]\\nprd = pd.DataFrame(arima_model.predict(n_periods=50), index=test.index)\\nAR,I,MA = arima_model.order\\nget_forecast(data, next=50, p=AR,d=I,q=MA)\\nplt.figure(figsize=(8,5))\\nplt.plot(train, label=\"treino\")\\nplt.plot(test, label=\"teste\")\\nplt.plot(prd, label=\"predicao\")\\nplt.legend(loc=\\'lower right\\')\\nplt.title(label=ticker)\\nplt.show\\n'"
      ]
     },
     "execution_count": 7,
     "metadata": {},
     "output_type": "execute_result"
    }
   ],
   "source": [
    "'''\n",
    "import yfinance as yf\n",
    "import pandas as pd\n",
    "import numpy as np\n",
    "import matplotlib.pyplot as plt \n",
    "plt.style.use('fivethirtyeight')\n",
    "ticker='HGLG11.SA'\n",
    "data = get_finance_data(ticker)\n",
    "arima_model = get_auto_arima(ticker)\n",
    "train = data['Low'][:len(data)-50]\n",
    "test = data['Low'][-50:]\n",
    "prd = pd.DataFrame(arima_model.predict(n_periods=50), index=test.index)\n",
    "AR,I,MA = arima_model.order\n",
    "get_forecast(data, next=50, p=AR,d=I,q=MA)\n",
    "plt.figure(figsize=(8,5))\n",
    "plt.plot(train, label=\"treino\")\n",
    "plt.plot(test, label=\"teste\")\n",
    "plt.plot(prd, label=\"predicao\")\n",
    "plt.legend(loc='lower right')\n",
    "plt.title(label=ticker)\n",
    "plt.show\n",
    "'''"
   ]
  }
 ],
 "metadata": {
  "kernelspec": {
   "display_name": "Python 3",
   "language": "python",
   "name": "python3"
  },
  "language_info": {
   "codemirror_mode": {
    "name": "ipython",
    "version": 3
   },
   "file_extension": ".py",
   "mimetype": "text/x-python",
   "name": "python",
   "nbconvert_exporter": "python",
   "pygments_lexer": "ipython3",
   "version": "3.7.1"
  }
 },
 "nbformat": 4,
 "nbformat_minor": 2
}
