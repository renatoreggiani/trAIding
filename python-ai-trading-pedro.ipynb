{
 "cells": [
  {
   "cell_type": "markdown",
   "metadata": {},
   "source": [
    "# Documentação\n",
    "\n",
    "`!pip install yfinance`\n",
    "\n",
    "### Artigo original:\n",
    "https://towardsdatascience.com/how-to-create-a-fully-automated-ai-based-trading-system-with-python-708503c1a907\n",
    "\n",
    "### Modelo ARIMA:\n",
    "https://pt.wikipedia.org/wiki/ARIMA\n",
    "\n",
    "### Uso do Auto-ARIMA:\n",
    "https://towardsdatascience.com/time-series-forecasting-using-auto-arima-in-python-bb83e49210cd\n",
    "\n"
   ]
  },
  {
   "cell_type": "markdown",
   "metadata": {},
   "source": [
    "## Requisitos\n",
    "~~~python\n",
    "!pip install yfinance\n",
    "~~~"
   ]
  },
  {
   "cell_type": "code",
   "execution_count": 2,
   "metadata": {
    "scrolled": true
   },
   "outputs": [],
   "source": [
    "ticker = \"RBBV11.SA\"\n",
    "n_steps = 30"
   ]
  },
  {
   "cell_type": "code",
   "execution_count": 6,
   "metadata": {},
   "outputs": [],
   "source": [
    "import yfinance as yf\n",
    "import pandas as pd\n",
    "import numpy as np\n",
    "import matplotlib.pyplot as plt \n",
    "import os\n",
    "import json\n",
    "\n",
    "\n",
    "# from functions import get_finance_data, arima_forecast, get_auto_arima, test_unit_root, stationary_test\n",
    "\n",
    "# from pmdarima.arima import auto_arima\n",
    "\n",
    "plt.style.use('fivethirtyeight')\n",
    "\n",
    "# criando a pasta de registro de calibração\n",
    "if not os.path.isdir(\"files\"):\n",
    "    os.mkdir(\"files\")"
   ]
  },
  {
   "cell_type": "code",
   "execution_count": null,
   "metadata": {},
   "outputs": [],
   "source": [
    "data = get_finance_data(ticker)\n",
    "train = data['Low'][:len(data)-n_steps]\n",
    "test = data['Low'][-n_steps:]"
   ]
  },
  {
   "cell_type": "code",
   "execution_count": 10,
   "metadata": {},
   "outputs": [],
   "source": [
    "with open('files/db.json') as json_file:\n",
    "    jdata = json.load(json_file)"
   ]
  },
  {
   "cell_type": "code",
   "execution_count": 7,
   "metadata": {},
   "outputs": [
    {
     "name": "stdout",
     "output_type": "stream",
     "text": [
      "{\"ticker\":\"BBFI11B.SA\", \"ARIMA\":[1,0,0,1,1,1], \"SARIMA\":[1,0,2,0,1,2,12]},{\"ticker\":\"RBBV11.SA\", \"ARIMA\":[1,0,0,1,1,1], \"SARIMA\":[1,0,2,0,1,2,12]}\n",
      "achou \"RBBV11.SA\"\n",
      "\n",
      "{\"ticker\":\"BBFI11B.SA\", \"ARIMA\":[1,0,0,1,1,1], \"SARIMA\":[1,0,2,0,1,2,12]},{\"ticker\":\"RBBV11.SA\", \"ARIMA\":[1,0,0,1,1,1], \"SARIMA\":[1,0,2,0,1,2,12]}\n"
     ]
    }
   ],
   "source": [
    "ticker=\"RBBV11.SA\"\n",
    "str_ticker='\"'+ticker+'\"'\n",
    "if os.path.isfile(\"files/db.json\"):\n",
    "    with open('files/db.json') as json_file:\n",
    "        data = json_file.readlines()\n",
    "        print(data[0])\n",
    "        if str_ticker in data[0]:\n",
    "            print('achou '+str_ticker+'\\n')\n",
    "            print(data[0])\n",
    "        else:\n",
    "            print('rodar arima '+str_ticker)\n",
    "       "
   ]
  },
  {
   "cell_type": "code",
   "execution_count": 4,
   "metadata": {
    "scrolled": true
   },
   "outputs": [
    {
     "name": "stderr",
     "output_type": "stream",
     "text": [
      "C:\\Users\\pedro\\AppData\\Roaming\\Python\\Python37\\site-packages\\pmdarima\\arima\\_validation.py:62: UserWarning: m (12) set for non-seasonal fit. Setting to 0\n",
      "  warnings.warn(\"m (%i) set for non-seasonal fit. Setting to 0\" % m)\n"
     ]
    },
    {
     "name": "stdout",
     "output_type": "stream",
     "text": [
      "\n",
      "Best model:  ARIMA(2,1,3)(0,0,0)[0] intercept\n",
      "Total fit time: 5.206 seconds\n"
     ]
    }
   ],
   "source": [
    "arima_model = get_auto_arima(train)"
   ]
  },
  {
   "cell_type": "code",
   "execution_count": 9,
   "metadata": {},
   "outputs": [
    {
     "data": {
      "text/plain": [
       "True"
      ]
     },
     "execution_count": 9,
     "metadata": {},
     "output_type": "execute_result"
    }
   ],
   "source": []
  },
  {
   "cell_type": "code",
   "execution_count": null,
   "metadata": {},
   "outputs": [],
   "source": [
    "def desvio(registro):\n",
    "    return ((registro['predição']/registro['valor'])-1)*100"
   ]
  },
  {
   "cell_type": "code",
   "execution_count": null,
   "metadata": {
    "scrolled": true
   },
   "outputs": [],
   "source": [
    "df = pd.DataFrame({'predição':arima_model.predict(n_periods=n_steps),'valor':test}, index=test.index)\n",
    "df['desvio (%)'] = df.apply(desvio, axis=1)\n",
    "prd = df\n",
    "df\n"
   ]
  },
  {
   "cell_type": "code",
   "execution_count": null,
   "metadata": {},
   "outputs": [],
   "source": [
    "plt.figure(figsize=(8,5))\n",
    "plt.plot(train, label=\"treino\")\n",
    "plt.plot(test, label=\"teste\")\n",
    "plt.plot(prd['predição'], label=\"predicao\")\n",
    "plt.legend(loc='lower right')\n",
    "plt.title(label=ticker)\n",
    "plt.show"
   ]
  }
 ],
 "metadata": {
  "kernelspec": {
   "display_name": "Python 3",
   "language": "python",
   "name": "python3"
  },
  "language_info": {
   "codemirror_mode": {
    "name": "ipython",
    "version": 3
   },
   "file_extension": ".py",
   "mimetype": "text/x-python",
   "name": "python",
   "nbconvert_exporter": "python",
   "pygments_lexer": "ipython3",
   "version": "3.8.5"
  }
 },
 "nbformat": 4,
 "nbformat_minor": 2
}
