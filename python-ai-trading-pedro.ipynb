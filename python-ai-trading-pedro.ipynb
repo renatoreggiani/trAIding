{
 "cells": [
  {
   "cell_type": "markdown",
   "metadata": {},
   "source": [
    "# Documentação\n",
    "\n",
    "`!pip install yfinance`\n",
    "\n",
    "### Artigo original:\n",
    "https://towardsdatascience.com/how-to-create-a-fully-automated-ai-based-trading-system-with-python-708503c1a907\n",
    "\n",
    "### Modelo ARIMA:\n",
    "https://pt.wikipedia.org/wiki/ARIMA\n",
    "\n",
    "### Uso do Auto-ARIMA:\n",
    "https://towardsdatascience.com/time-series-forecasting-using-auto-arima-in-python-bb83e49210cd\n",
    "\n"
   ]
  },
  {
   "cell_type": "markdown",
   "metadata": {},
   "source": [
    "## Requisitos\n",
    "~~~python\n",
    "!pip install yfinance\n",
    "~~~"
   ]
  },
  {
   "cell_type": "code",
   "execution_count": 47,
   "metadata": {},
   "outputs": [],
   "source": [
    "from functions import test_unit_root, stationary_test\n",
    "\n",
    "#colocar essa parada no functions!!!\n",
    "def get_arima_model(s):\n",
    "    is_stat = stationary_test(s)\n",
    "    is_seasonal = test_unit_root(s) \n",
    "    arima_model = auto_arima(s, stationary=is_stat, start_p=0, d=1, start_q=0, max_p=5, max_d=5, max_q=5, start_P=0, D=1, \n",
    "                             start_Q=1, max_P=5, max_D=5, max_Q=5, m=12, seasonal=is_seasonal, error_action='warn', trace=True, \n",
    "                             suppress_warnings=True, stepwise=False, random_state=20, n_fits=50, n_jobs=-1)\n",
    "    return arima_model"
   ]
  },
  {
   "cell_type": "code",
   "execution_count": 72,
   "metadata": {
    "scrolled": true
   },
   "outputs": [],
   "source": [
    "ticker = \"RNDP11\"\n",
    "yticker = \"RNDP11.SA\"\n",
    "n_steps = 30"
   ]
  },
  {
   "cell_type": "code",
   "execution_count": 73,
   "metadata": {},
   "outputs": [
    {
     "ename": "ImportError",
     "evalue": "cannot import name 'get_arima_model' from 'functions' (C:\\Users\\pedro\\GitHub\\trAIding\\trAIding\\functions.py)",
     "output_type": "error",
     "traceback": [
      "\u001b[1;31m---------------------------------------------------------------------------\u001b[0m",
      "\u001b[1;31mImportError\u001b[0m                               Traceback (most recent call last)",
      "\u001b[1;32m<ipython-input-73-45c7318decd9>\u001b[0m in \u001b[0;36m<module>\u001b[1;34m\u001b[0m\n\u001b[0;32m      7\u001b[0m \u001b[1;32mimport\u001b[0m \u001b[0mdatetime\u001b[0m\u001b[1;33m\u001b[0m\u001b[1;33m\u001b[0m\u001b[0m\n\u001b[0;32m      8\u001b[0m \u001b[1;33m\u001b[0m\u001b[0m\n\u001b[1;32m----> 9\u001b[1;33m \u001b[1;32mfrom\u001b[0m \u001b[0mfunctions\u001b[0m \u001b[1;32mimport\u001b[0m \u001b[0mget_finance_data\u001b[0m\u001b[1;33m,\u001b[0m \u001b[0marima_forecast\u001b[0m\u001b[1;33m,\u001b[0m \u001b[0mget_arima_model\u001b[0m\u001b[1;33m\u001b[0m\u001b[1;33m\u001b[0m\u001b[0m\n\u001b[0m\u001b[0;32m     10\u001b[0m \u001b[1;33m\u001b[0m\u001b[0m\n\u001b[0;32m     11\u001b[0m \u001b[0mplt\u001b[0m\u001b[1;33m.\u001b[0m\u001b[0mstyle\u001b[0m\u001b[1;33m.\u001b[0m\u001b[0muse\u001b[0m\u001b[1;33m(\u001b[0m\u001b[1;34m'fivethirtyeight'\u001b[0m\u001b[1;33m)\u001b[0m\u001b[1;33m\u001b[0m\u001b[1;33m\u001b[0m\u001b[0m\n",
      "\u001b[1;31mImportError\u001b[0m: cannot import name 'get_arima_model' from 'functions' (C:\\Users\\pedro\\GitHub\\trAIding\\trAIding\\functions.py)"
     ]
    }
   ],
   "source": [
    "import yfinance as yf\n",
    "import pandas as pd\n",
    "import numpy as np\n",
    "import matplotlib.pyplot as plt \n",
    "import os\n",
    "import json\n",
    "import datetime\n",
    "\n",
    "from functions import get_finance_data, arima_forecast, get_arima_model\n",
    "\n",
    "plt.style.use('fivethirtyeight')\n",
    "\n",
    "# criando a pasta de registro de calibração\n",
    "if not os.path.isdir(\"files\"):\n",
    "    os.mkdir(\"files\")"
   ]
  },
  {
   "cell_type": "code",
   "execution_count": 74,
   "metadata": {},
   "outputs": [],
   "source": [
    "data = get_finance_data(yticker)\n",
    "train = data['Low'][:len(data)-n_steps+1]\n",
    "test = data['Low'][-n_steps:]"
   ]
  },
  {
   "cell_type": "code",
   "execution_count": 75,
   "metadata": {},
   "outputs": [],
   "source": [
    "with open('files/db.json') as json_file:\n",
    "    jdata = json.load(json_file)"
   ]
  },
  {
   "cell_type": "code",
   "execution_count": null,
   "metadata": {},
   "outputs": [],
   "source": []
  },
  {
   "cell_type": "code",
   "execution_count": 76,
   "metadata": {},
   "outputs": [
    {
     "name": "stdout",
     "output_type": "stream",
     "text": [
      "ticker não encontrado\n"
     ]
    },
    {
     "data": {
      "text/plain": [
       "{'BBFI11B': {'yticker': 'BBFI11B.SA',\n",
       "  'ARIMA': {'parametros': [0, 1, 0, 4, 1, 0, 12], 'train_date': '01-01-2021'}},\n",
       " 'HGLG11': {'yticker': 'HGLG11.SA',\n",
       "  'ARIMA': {'parametros': [0, 1, 0, 0, 1, 3, 12], 'train_date': '01-01-2021'}},\n",
       " 'RNDP11': {'yticker': 'RNDP11.SA'}}"
      ]
     },
     "execution_count": 76,
     "metadata": {},
     "output_type": "execute_result"
    }
   ],
   "source": [
    "if os.path.isfile(\"files/db.json\"):\n",
    "    with open('files/db.json','r+') as jfile:\n",
    "        jdata = json.load(jfile)\n",
    "        if ticker not in jdata.keys():\n",
    "            print(\"ticker não encontrado\")\n",
    "            jdata[ticker]={}\n",
    "            jdata[ticker].update({\"yticker\":yticker})\n",
    "            jfile.seek(0)\n",
    "            json.dump(jdata, jfile)            \n",
    "jdata"
   ]
  },
  {
   "cell_type": "code",
   "execution_count": null,
   "metadata": {},
   "outputs": [],
   "source": []
  },
  {
   "cell_type": "code",
   "execution_count": 77,
   "metadata": {},
   "outputs": [
    {
     "name": "stdout",
     "output_type": "stream",
     "text": [
      "rodando auto arima para RNDP11\n",
      "\n",
      "Best model:  ARIMA(0,1,1)(4,1,0)[12]          \n",
      "Total fit time: 65.357 seconds\n"
     ]
    }
   ],
   "source": [
    "my_arima = []\n",
    "\n",
    "if \"ARIMA\" in jdata[ticker]:\n",
    "    print(\"carregando \"+ticker+\" do JSON\")\n",
    "    my_arima.append(jdata[ticker][\"ARIMA\"][\"parametros\"][0])\n",
    "    my_arima.append(jdata[ticker][\"ARIMA\"][\"parametros\"][1])\n",
    "    my_arima.append(jdata[ticker][\"ARIMA\"][\"parametros\"][2])\n",
    "    my_arima.append(jdata[ticker][\"ARIMA\"][\"parametros\"][3])\n",
    "    my_arima.append(jdata[ticker][\"ARIMA\"][\"parametros\"][4])\n",
    "    my_arima.append(jdata[ticker][\"ARIMA\"][\"parametros\"][5])\n",
    "    my_arima.append(jdata[ticker][\"ARIMA\"][\"parametros\"][6])\n",
    "else:\n",
    "    print(\"rodando auto arima para \"+ticker)\n",
    "    arima_model = get_arima_model(train)\n",
    "    my_arima.append(arima_model.order[0])\n",
    "    my_arima.append(arima_model.order[1])\n",
    "    my_arima.append(arima_model.order[2])\n",
    "    my_arima.append(arima_model.seasonal_order[0])\n",
    "    my_arima.append(arima_model.seasonal_order[1])\n",
    "    my_arima.append(arima_model.seasonal_order[2])\n",
    "    my_arima.append(arima_model.seasonal_order[3])"
   ]
  },
  {
   "cell_type": "code",
   "execution_count": 78,
   "metadata": {},
   "outputs": [
    {
     "name": "stdout",
     "output_type": "stream",
     "text": [
      "rodar Tensor Flow RNDP11\n"
     ]
    }
   ],
   "source": [
    "#inserir código pra rodar e capturar parametros do tensor flow\n",
    "if \"TensorFlow\" in jdata[ticker]:\n",
    "    print(jdata[ticker][\"TensorFlow\"][\"parametros\"])\n",
    "else:\n",
    "    print('rodar Tensor Flow '+ticker)"
   ]
  },
  {
   "cell_type": "code",
   "execution_count": 79,
   "metadata": {
    "scrolled": true
   },
   "outputs": [],
   "source": [
    "with open('files/db.json','r+') as jfile:\n",
    "    hoje = datetime.datetime.now().strftime(\"%d-%m-%Y\")\n",
    "    jdata[ticker].update({\"ARIMA\":{\"parametros\":my_arima,\"train_date\":hoje}})\n",
    "    jfile.seek(0)\n",
    "    json.dump(jdata, jfile)"
   ]
  },
  {
   "cell_type": "code",
   "execution_count": 80,
   "metadata": {},
   "outputs": [
    {
     "data": {
      "text/plain": [
       "{'BBFI11B': {'yticker': 'BBFI11B.SA',\n",
       "  'ARIMA': {'parametros': [0, 1, 0, 4, 1, 0, 12], 'train_date': '01-01-2021'}},\n",
       " 'HGLG11': {'yticker': 'HGLG11.SA',\n",
       "  'ARIMA': {'parametros': [0, 1, 0, 0, 1, 3, 12], 'train_date': '01-01-2021'}},\n",
       " 'RNDP11': {'yticker': 'RNDP11.SA',\n",
       "  'ARIMA': {'parametros': [0, 1, 1, 4, 1, 0, 12], 'train_date': '01-01-2021'}}}"
      ]
     },
     "execution_count": 80,
     "metadata": {},
     "output_type": "execute_result"
    }
   ],
   "source": [
    "jdata"
   ]
  },
  {
   "cell_type": "code",
   "execution_count": null,
   "metadata": {},
   "outputs": [],
   "source": [
    "def desvio(registro):\n",
    "    return ((registro['predição']/registro['valor'])-1)*100"
   ]
  },
  {
   "cell_type": "code",
   "execution_count": null,
   "metadata": {},
   "outputs": [],
   "source": [
    "df_arima = arima_forecast(train, next=n_steps, p=my_arima[0], d=my_arima[1], q=my_arima[2])"
   ]
  },
  {
   "cell_type": "code",
   "execution_count": null,
   "metadata": {},
   "outputs": [],
   "source": [
    "df_arima"
   ]
  },
  {
   "cell_type": "code",
   "execution_count": null,
   "metadata": {
    "scrolled": false
   },
   "outputs": [],
   "source": [
    "df = pd.DataFrame({'ARIMA':df_arima,'valor':test}, index=test.index)\n",
    "prd = df\n",
    "df"
   ]
  },
  {
   "cell_type": "code",
   "execution_count": null,
   "metadata": {},
   "outputs": [],
   "source": []
  },
  {
   "cell_type": "code",
   "execution_count": null,
   "metadata": {},
   "outputs": [],
   "source": [
    "plt.figure(figsize=(8,5))\n",
    "plt.plot(train, label=\"treino\")\n",
    "plt.plot(test, label=\"teste\")\n",
    "plt.plot(prd['ARIMA'], label=\"ARIMA\")\n",
    "plt.legend(loc='lower right')\n",
    "plt.title(label=ticker)\n",
    "plt.show"
   ]
  },
  {
   "cell_type": "code",
   "execution_count": null,
   "metadata": {},
   "outputs": [],
   "source": [
    "test"
   ]
  },
  {
   "cell_type": "code",
   "execution_count": null,
   "metadata": {},
   "outputs": [],
   "source": [
    "train[:-1]"
   ]
  }
 ],
 "metadata": {
  "kernelspec": {
   "display_name": "Python 3",
   "language": "python",
   "name": "python3"
  },
  "language_info": {
   "codemirror_mode": {
    "name": "ipython",
    "version": 3
   },
   "file_extension": ".py",
   "mimetype": "text/x-python",
   "name": "python",
   "nbconvert_exporter": "python",
   "pygments_lexer": "ipython3",
   "version": "3.7.1"
  }
 },
 "nbformat": 4,
 "nbformat_minor": 2
}
