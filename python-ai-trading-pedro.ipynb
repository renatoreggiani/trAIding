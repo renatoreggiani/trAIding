{
 "cells": [
  {
   "cell_type": "markdown",
   "metadata": {},
   "source": [
    "# Documentação\n",
    "\n",
    "!pip install yfinance\n",
    "\n",
    "### Artigo original:\n",
    "https://towardsdatascience.com/how-to-create-a-fully-automated-ai-based-trading-system-with-python-708503c1a907\n",
    "\n",
    "### Modelo ARIMA:\n",
    "https://pt.wikipedia.org/wiki/ARIMA\n",
    "\n",
    "### Uso do Auto-ARIMA:\n",
    "https://towardsdatascience.com/time-series-forecasting-using-auto-arima-in-python-bb83e49210cd"
   ]
  },
  {
   "cell_type": "code",
   "execution_count": 1,
   "metadata": {},
   "outputs": [],
   "source": [
    "ticker = \"RBBV11.SA\""
   ]
  },
  {
   "cell_type": "code",
   "execution_count": 2,
   "metadata": {},
   "outputs": [],
   "source": [
    "import yfinance as yf\n",
    "import pandas as pd\n",
    "import numpy as np\n",
    "\n",
    "from statsmodels.tsa.arima_model import ARIMA\n",
    "\n",
    "import matplotlib.pyplot as plt \n",
    "plt.style.use('fivethirtyeight')"
   ]
  },
  {
   "cell_type": "code",
   "execution_count": 3,
   "metadata": {},
   "outputs": [],
   "source": [
    "def get_finance_data(ticker, period='1y', interval='1d'):\n",
    "    '''\n",
    "    Função para capturar os dados dos ativos, acrescentar \".SA\" no final do ticker para ativos \n",
    "    negociados na Bovespa, exemplo \"PETR4.SA\".\n",
    "    Exemplo url base da API: https://query1.finance.yahoo.com/v7/finance/options/PETR4.SA?date=20201222\n",
    "    Exemplo url scrape da API: https://finance.yahoo.com/quote/PETR4.SA\n",
    "    \n",
    "    Parameters\n",
    "    ----------\n",
    "    period: default '1y', periodos validos: 1d,5d,1mo,3mo,6mo,1y,2y,5y,10y,ytd,max\n",
    "    inteval: default '1d', intervalos validos: 1m, 2m, 5m, 15m, 30m, 60m, 90m, 1d, 5d, 1wk, 1mo, 3mo.\n",
    "    '''\n",
    "    \n",
    "    google = yf.Ticker(ticker)\n",
    "    \n",
    "    df = google.history(period=period, interval=interval)\n",
    "#     df['date'] = pd.to_datetime(df.index).time\n",
    "#     df.set_index('date', inplace=True)\n",
    "    return df\n",
    "\n",
    "\n",
    "def get_forecast(df, col_ref='Low'):\n",
    "    # Assuming that we've properly trained the model before and that the \n",
    "    # hyperparameters are correctly tweaked, we use the full dataset to fit\n",
    "    y = df[col_ref].values\n",
    "    model = ARIMA(y, order=(7,1,2)).fit()\n",
    "    forecast = model.forecast(steps=1)[0]\n",
    "\n",
    "    # Returning the last real data and the forecast for the next minute\n",
    "    return (y[len(y)-1], forecast)"
   ]
  },
  {
   "cell_type": "code",
   "execution_count": 4,
   "metadata": {
    "scrolled": false
   },
   "outputs": [
    {
     "name": "stderr",
     "output_type": "stream",
     "text": [
      "C:\\Users\\pedro\\AppData\\Roaming\\Python\\Python37\\site-packages\\statsmodels\\tsa\\arima_model.py:472: FutureWarning: \n",
      "statsmodels.tsa.arima_model.ARMA and statsmodels.tsa.arima_model.ARIMA have\n",
      "been deprecated in favor of statsmodels.tsa.arima.model.ARIMA (note the .\n",
      "between arima and model) and\n",
      "statsmodels.tsa.SARIMAX. These will be removed after the 0.12 release.\n",
      "\n",
      "statsmodels.tsa.arima.model.ARIMA makes use of the statespace framework and\n",
      "is both well tested and maintained.\n",
      "\n",
      "To silence this warning and continue using ARMA and ARIMA until they are\n",
      "removed, use:\n",
      "\n",
      "import warnings\n",
      "warnings.filterwarnings('ignore', 'statsmodels.tsa.arima_model.ARMA',\n",
      "                        FutureWarning)\n",
      "warnings.filterwarnings('ignore', 'statsmodels.tsa.arima_model.ARIMA',\n",
      "                        FutureWarning)\n",
      "\n",
      "  warnings.warn(ARIMA_DEPRECATION_WARN, FutureWarning)\n",
      "C:\\Users\\pedro\\AppData\\Roaming\\Python\\Python37\\site-packages\\statsmodels\\tsa\\arima_model.py:472: FutureWarning: \n",
      "statsmodels.tsa.arima_model.ARMA and statsmodels.tsa.arima_model.ARIMA have\n",
      "been deprecated in favor of statsmodels.tsa.arima.model.ARIMA (note the .\n",
      "between arima and model) and\n",
      "statsmodels.tsa.SARIMAX. These will be removed after the 0.12 release.\n",
      "\n",
      "statsmodels.tsa.arima.model.ARIMA makes use of the statespace framework and\n",
      "is both well tested and maintained.\n",
      "\n",
      "To silence this warning and continue using ARMA and ARIMA until they are\n",
      "removed, use:\n",
      "\n",
      "import warnings\n",
      "warnings.filterwarnings('ignore', 'statsmodels.tsa.arima_model.ARMA',\n",
      "                        FutureWarning)\n",
      "warnings.filterwarnings('ignore', 'statsmodels.tsa.arima_model.ARIMA',\n",
      "                        FutureWarning)\n",
      "\n",
      "  warnings.warn(ARIMA_DEPRECATION_WARN, FutureWarning)\n"
     ]
    },
    {
     "data": {
      "text/plain": [
       "(94.98999786376953, array([94.61518321]))"
      ]
     },
     "execution_count": 4,
     "metadata": {},
     "output_type": "execute_result"
    }
   ],
   "source": [
    "df = get_finance_data(ticker)\n",
    "\n",
    "get_forecast(df, col_ref='Close')"
   ]
  },
  {
   "cell_type": "code",
   "execution_count": 5,
   "metadata": {
    "scrolled": false
   },
   "outputs": [
    {
     "data": {
      "text/html": [
       "<div>\n",
       "<style scoped>\n",
       "    .dataframe tbody tr th:only-of-type {\n",
       "        vertical-align: middle;\n",
       "    }\n",
       "\n",
       "    .dataframe tbody tr th {\n",
       "        vertical-align: top;\n",
       "    }\n",
       "\n",
       "    .dataframe thead th {\n",
       "        text-align: right;\n",
       "    }\n",
       "</style>\n",
       "<table border=\"1\" class=\"dataframe\">\n",
       "  <thead>\n",
       "    <tr style=\"text-align: right;\">\n",
       "      <th></th>\n",
       "      <th>Open</th>\n",
       "      <th>High</th>\n",
       "      <th>Low</th>\n",
       "      <th>Close</th>\n",
       "      <th>Volume</th>\n",
       "      <th>Dividends</th>\n",
       "      <th>Stock Splits</th>\n",
       "    </tr>\n",
       "    <tr>\n",
       "      <th>Date</th>\n",
       "      <th></th>\n",
       "      <th></th>\n",
       "      <th></th>\n",
       "      <th></th>\n",
       "      <th></th>\n",
       "      <th></th>\n",
       "      <th></th>\n",
       "    </tr>\n",
       "  </thead>\n",
       "  <tbody>\n",
       "    <tr>\n",
       "      <th>2020-12-16</th>\n",
       "      <td>93.010002</td>\n",
       "      <td>94.000000</td>\n",
       "      <td>93.010002</td>\n",
       "      <td>93.309998</td>\n",
       "      <td>764</td>\n",
       "      <td>0</td>\n",
       "      <td>0</td>\n",
       "    </tr>\n",
       "    <tr>\n",
       "      <th>2020-12-17</th>\n",
       "      <td>93.309998</td>\n",
       "      <td>94.849998</td>\n",
       "      <td>93.150002</td>\n",
       "      <td>94.050003</td>\n",
       "      <td>474</td>\n",
       "      <td>0</td>\n",
       "      <td>0</td>\n",
       "    </tr>\n",
       "    <tr>\n",
       "      <th>2020-12-18</th>\n",
       "      <td>93.500000</td>\n",
       "      <td>94.870003</td>\n",
       "      <td>93.139999</td>\n",
       "      <td>93.430000</td>\n",
       "      <td>480</td>\n",
       "      <td>0</td>\n",
       "      <td>0</td>\n",
       "    </tr>\n",
       "    <tr>\n",
       "      <th>2020-12-21</th>\n",
       "      <td>93.430000</td>\n",
       "      <td>95.000000</td>\n",
       "      <td>93.430000</td>\n",
       "      <td>94.589996</td>\n",
       "      <td>727</td>\n",
       "      <td>0</td>\n",
       "      <td>0</td>\n",
       "    </tr>\n",
       "    <tr>\n",
       "      <th>2020-12-22</th>\n",
       "      <td>94.500000</td>\n",
       "      <td>94.989998</td>\n",
       "      <td>94.500000</td>\n",
       "      <td>94.989998</td>\n",
       "      <td>469</td>\n",
       "      <td>0</td>\n",
       "      <td>0</td>\n",
       "    </tr>\n",
       "  </tbody>\n",
       "</table>\n",
       "</div>"
      ],
      "text/plain": [
       "                 Open       High        Low      Close  Volume  Dividends  \\\n",
       "Date                                                                        \n",
       "2020-12-16  93.010002  94.000000  93.010002  93.309998     764          0   \n",
       "2020-12-17  93.309998  94.849998  93.150002  94.050003     474          0   \n",
       "2020-12-18  93.500000  94.870003  93.139999  93.430000     480          0   \n",
       "2020-12-21  93.430000  95.000000  93.430000  94.589996     727          0   \n",
       "2020-12-22  94.500000  94.989998  94.500000  94.989998     469          0   \n",
       "\n",
       "            Stock Splits  \n",
       "Date                      \n",
       "2020-12-16             0  \n",
       "2020-12-17             0  \n",
       "2020-12-18             0  \n",
       "2020-12-21             0  \n",
       "2020-12-22             0  "
      ]
     },
     "execution_count": 5,
     "metadata": {},
     "output_type": "execute_result"
    }
   ],
   "source": [
    "df.tail()"
   ]
  },
  {
   "cell_type": "code",
   "execution_count": 6,
   "metadata": {},
   "outputs": [
    {
     "data": {
      "text/plain": [
       "94.98999786376953"
      ]
     },
     "execution_count": 6,
     "metadata": {},
     "output_type": "execute_result"
    }
   ],
   "source": [
    "df['Close'][-1]"
   ]
  },
  {
   "cell_type": "code",
   "execution_count": 7,
   "metadata": {},
   "outputs": [],
   "source": [
    "ativo = yf.Ticker(ticker)"
   ]
  },
  {
   "cell_type": "code",
   "execution_count": 8,
   "metadata": {},
   "outputs": [
    {
     "data": {
      "text/plain": [
       "Date\n",
       "2017-09-04    0.183839\n",
       "2017-10-03    0.269152\n",
       "2017-11-03    0.243087\n",
       "2017-12-04    0.499334\n",
       "Name: Dividends, dtype: float64"
      ]
     },
     "execution_count": 8,
     "metadata": {},
     "output_type": "execute_result"
    }
   ],
   "source": [
    "ativo.get_dividends()"
   ]
  },
  {
   "cell_type": "markdown",
   "metadata": {},
   "source": [
    "### Tentando fazer auto arima"
   ]
  },
  {
   "cell_type": "code",
   "execution_count": 9,
   "metadata": {},
   "outputs": [],
   "source": [
    "#! pip install pmdarima\n"
   ]
  },
  {
   "cell_type": "code",
   "execution_count": 10,
   "metadata": {},
   "outputs": [],
   "source": [
    "from pmdarima.arima import auto_arima"
   ]
  },
  {
   "cell_type": "code",
   "execution_count": 11,
   "metadata": {},
   "outputs": [],
   "source": [
    "df = get_finance_data(ticker)"
   ]
  },
  {
   "cell_type": "code",
   "execution_count": null,
   "metadata": {},
   "outputs": [],
   "source": []
  },
  {
   "cell_type": "code",
   "execution_count": 12,
   "metadata": {},
   "outputs": [
    {
     "data": {
      "image/png": "[encoded data removed]",
      "text/plain": [
       "<Figure size 432x288 with 1 Axes>"
      ]
     },
     "metadata": {
      "needs_background": "light"
     },
     "output_type": "display_data"
    }
   ],
   "source": [
    "y = df['Low'].values\n",
    "plt.plot(range(0,len(y)),y, label='Historico')\n",
    "plt.legend()\n",
    "plt.show()"
   ]
  },
  {
   "cell_type": "code",
   "execution_count": null,
   "metadata": {},
   "outputs": [],
   "source": []
  },
  {
   "cell_type": "code",
   "execution_count": 13,
   "metadata": {
    "scrolled": true
   },
   "outputs": [
    {
     "data": {
      "text/plain": [
       "<matplotlib.axes._subplots.AxesSubplot at 0x2038a90de80>"
      ]
     },
     "execution_count": 13,
     "metadata": {},
     "output_type": "execute_result"
    },
    {
     "data": {
      "image/png": "[encoded data removed]",
      "text/plain": [
       "<Figure size 432x288 with 1 Axes>"
      ]
     },
     "metadata": {
      "needs_background": "light"
     },
     "output_type": "display_data"
    }
   ],
   "source": [
    "df['Low'].plot(label='Historico')"
   ]
  },
  {
   "cell_type": "code",
   "execution_count": 14,
   "metadata": {},
   "outputs": [
    {
     "data": {
      "text/plain": [
       "(0.5973855859781368, True)"
      ]
     },
     "execution_count": 14,
     "metadata": {},
     "output_type": "execute_result"
    }
   ],
   "source": [
    "from pmdarima.arima import ADFTest\n",
    "adf_test = ADFTest(alpha=0.05)\n",
    "adf_test.should_diff(df['Low'])"
   ]
  },
  {
   "cell_type": "code",
   "execution_count": null,
   "metadata": {},
   "outputs": [
    {
     "data": {
      "image/png": "[encoded data removed]",
      "text/plain": [
       "<Figure size 432x288 with 1 Axes>"
      ]
     },
     "metadata": {
      "needs_background": "light"
     },
     "output_type": "display_data"
    }
   ],
   "source": [
    "train = df['Low'][:85]\n",
    "test = df['Low'][-20:]\n",
    "plt.plot(train, label='treino')\n",
    "plt.plot(test, label='teste')\n",
    "plt.legend()\n",
    "plt.show()"
   ]
  },
  {
   "cell_type": "markdown",
   "metadata": {},
   "source": []
  },
  {
   "cell_type": "raw",
   "metadata": {},
   "source": []
  },
  {
   "cell_type": "code",
   "execution_count": null,
   "metadata": {},
   "outputs": [
    {
     "name": "stdout",
     "output_type": "stream",
     "text": [
      "Performing stepwise search to minimize aic\n",
      " ARIMA(0,1,0)(0,1,1)[12]             : AIC=inf, Time=0.28 sec\n",
      " ARIMA(0,1,0)(0,1,0)[12]             : AIC=314.479, Time=0.01 sec\n",
      " ARIMA(1,1,0)(1,1,0)[12]             : AIC=290.393, Time=0.07 sec\n",
      " ARIMA(0,1,1)(0,1,1)[12]             : AIC=inf, Time=0.47 sec\n",
      " ARIMA(1,1,0)(0,1,0)[12]             : AIC=308.764, Time=0.02 sec\n",
      " ARIMA(1,1,0)(2,1,0)[12]             : AIC=281.093, Time=0.24 sec\n",
      " ARIMA(1,1,0)(3,1,0)[12]             : AIC=281.537, Time=0.39 sec\n",
      " ARIMA(1,1,0)(2,1,1)[12]             : AIC=inf, Time=1.08 sec\n",
      " ARIMA(1,1,0)(1,1,1)[12]             : AIC=inf, Time=0.37 sec\n",
      " ARIMA(1,1,0)(3,1,1)[12]             : AIC=inf, Time=3.13 sec\n",
      " ARIMA(0,1,0)(2,1,0)[12]             : AIC=288.527, Time=0.17 sec\n",
      " ARIMA(2,1,0)(2,1,0)[12]             : AIC=277.496, Time=0.27 sec\n",
      " ARIMA(2,1,0)(1,1,0)[12]             : AIC=286.914, Time=0.09 sec\n",
      " ARIMA(2,1,0)(3,1,0)[12]             : AIC=277.742, Time=0.60 sec\n",
      " ARIMA(2,1,0)(2,1,1)[12]             : AIC=inf, Time=1.40 sec\n",
      " ARIMA(2,1,0)(1,1,1)[12]             : AIC=inf, Time=0.72 sec\n",
      " ARIMA(2,1,0)(3,1,1)[12]             : AIC=inf, Time=3.02 sec\n",
      " ARIMA(3,1,0)(2,1,0)[12]             : AIC=277.323, Time=0.36 sec\n",
      " ARIMA(3,1,0)(1,1,0)[12]             : AIC=286.283, Time=0.11 sec\n",
      " ARIMA(3,1,0)(3,1,0)[12]             : AIC=277.448, Time=0.59 sec\n",
      " ARIMA(3,1,0)(2,1,1)[12]             : AIC=inf, Time=1.54 sec\n",
      " ARIMA(3,1,0)(1,1,1)[12]             : AIC=inf, Time=0.72 sec\n",
      " ARIMA(3,1,0)(3,1,1)[12]             : AIC=inf, Time=3.03 sec\n",
      " ARIMA(4,1,0)(2,1,0)[12]             : AIC=276.031, Time=0.47 sec\n",
      " ARIMA(4,1,0)(1,1,0)[12]             : AIC=284.543, Time=0.16 sec\n",
      " ARIMA(4,1,0)(3,1,0)[12]             : AIC=276.156, Time=0.78 sec\n",
      " ARIMA(4,1,0)(2,1,1)[12]             : AIC=inf, Time=2.08 sec\n",
      " ARIMA(4,1,0)(1,1,1)[12]             : AIC=inf, Time=0.73 sec\n",
      " ARIMA(4,1,0)(3,1,1)[12]             : AIC=inf, Time=3.21 sec\n",
      " ARIMA(5,1,0)(2,1,0)[12]             : AIC=273.458, Time=0.56 sec\n",
      " ARIMA(5,1,0)(1,1,0)[12]             : AIC=283.379, Time=0.19 sec\n",
      " ARIMA(5,1,0)(3,1,0)[12]             : AIC=271.813, Time=0.99 sec\n",
      " ARIMA(5,1,0)(4,1,0)[12]             : AIC=inf, Time=4.56 sec\n",
      " ARIMA(5,1,0)(3,1,1)[12]             : AIC=inf, Time=5.86 sec\n",
      " ARIMA(5,1,0)(2,1,1)[12]             : AIC=inf, Time=3.52 sec\n",
      " ARIMA(5,1,0)(4,1,1)[12]             : AIC=258.414, Time=8.31 sec\n"
     ]
    }
   ],
   "source": [
    "arima_model = auto_arima(train, start_p=0, d=1, start_q=0, max_p=5, mas_d=5, max_q=5, start_P=0, D=1, start_Q=1, max_P=5, \n",
    "                         max_D=5, max_Q=5, m=12, seasonal=True, error_action='warn', trace=True, suppress_warnings=True, \n",
    "                         stepwise=True, random_state=20, n_fits=50)"
   ]
  },
  {
   "cell_type": "code",
   "execution_count": null,
   "metadata": {},
   "outputs": [],
   "source": [
    "arima_model.summary()"
   ]
  },
  {
   "cell_type": "code",
   "execution_count": null,
   "metadata": {},
   "outputs": [],
   "source": [
    "prd = pd.DataFrame(arima_model.predict(n_periods=20), index=test.index)\n",
    "prd.columns = ['Low']\n",
    "prd"
   ]
  },
  {
   "cell_type": "code",
   "execution_count": null,
   "metadata": {},
   "outputs": [],
   "source": [
    "plt.figure(figsize=(8,5))\n",
    "plt.plot(train, label=\"treino\")\n",
    "plt.plot(test, label=\"teste\")\n",
    "plt.plot(prd, label=\"predicao\")\n",
    "plt.legend(loc='upper right')\n",
    "plt.show"
   ]
  }
 ],
 "metadata": {
  "kernelspec": {
   "display_name": "Python 3",
   "language": "python",
   "name": "python3"
  },
  "language_info": {
   "codemirror_mode": {
    "name": "ipython",
    "version": 3
   },
   "file_extension": ".py",
   "mimetype": "text/x-python",
   "name": "python",
   "nbconvert_exporter": "python",
   "pygments_lexer": "ipython3",
   "version": "3.7.1"
  }
 },
 "nbformat": 4,
 "nbformat_minor": 2
}
