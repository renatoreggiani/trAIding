{
 "cells": [
  {
   "cell_type": "markdown",
   "metadata": {},
   "source": [
    "# Documentação\n",
    "\n",
    "`!pip install yfinance`\n",
    "\n",
    "### Artigo original:\n",
    "https://towardsdatascience.com/how-to-create-a-fully-automated-ai-based-trading-system-with-python-708503c1a907\n",
    "\n",
    "### Modelo ARIMA:\n",
    "https://pt.wikipedia.org/wiki/ARIMA\n",
    "\n",
    "### Uso do Auto-ARIMA:\n",
    "https://towardsdatascience.com/time-series-forecasting-using-auto-arima-in-python-bb83e49210cd\n",
    "\n"
   ]
  },
  {
   "cell_type": "markdown",
   "metadata": {},
   "source": [
    "## Requisitos\n",
    "~~~python\n",
    "!pip install yfinance\n",
    "~~~"
   ]
  },
  {
   "cell_type": "code",
   "execution_count": 13,
   "metadata": {},
   "outputs": [
    {
     "name": "stdout",
     "output_type": "stream",
     "text": [
      "Insira o código do papel:EURUSD=X\n"
     ]
    }
   ],
   "source": [
    "ticker = input('Insira o código do papel:')"
   ]
  },
  {
   "cell_type": "code",
   "execution_count": 20,
   "metadata": {},
   "outputs": [
    {
     "name": "stdout",
     "output_type": "stream",
     "text": [
      "Quantas predições deseja?20\n"
     ]
    }
   ],
   "source": [
    "n_steps = int(input('Quantas predições deseja?'))"
   ]
  },
  {
   "cell_type": "code",
   "execution_count": 3,
   "metadata": {},
   "outputs": [],
   "source": [
    "import yfinance as yf\n",
    "import pandas as pd\n",
    "import numpy as np\n",
    "import matplotlib.pyplot as plt \n",
    "\n",
    "from functions import get_finance_data, get_forecast, get_auto_arima\n",
    "\n",
    "plt.style.use('fivethirtyeight')"
   ]
  },
  {
   "cell_type": "code",
   "execution_count": 22,
   "metadata": {},
   "outputs": [],
   "source": [
    "#ticker = \"RBBV11.SA\"\n",
    "data = get_finance_data(ticker)\n",
    "train = data['Low'][:len(data)-n_steps]\n",
    "test = data['Low'][-n_steps:]"
   ]
  },
  {
   "cell_type": "code",
   "execution_count": 15,
   "metadata": {
    "scrolled": true
   },
   "outputs": [
    {
     "name": "stdout",
     "output_type": "stream",
     "text": [
      "Performing stepwise search to minimize aic\n",
      " ARIMA(0,1,0)(0,1,1)[12]             : AIC=-1922.486, Time=0.46 sec\n",
      " ARIMA(0,1,0)(0,1,0)[12]             : AIC=-1793.514, Time=0.10 sec\n",
      " ARIMA(1,1,0)(1,1,0)[12]             : AIC=-1879.322, Time=0.55 sec\n",
      " ARIMA(0,1,1)(0,1,1)[12]             : AIC=-1931.648, Time=0.80 sec\n",
      " ARIMA(0,1,1)(0,1,0)[12]             : AIC=-1802.126, Time=0.24 sec\n",
      " ARIMA(0,1,1)(1,1,1)[12]             : AIC=inf, Time=1.82 sec\n",
      " ARIMA(0,1,1)(0,1,2)[12]             : AIC=-1927.039, Time=2.65 sec\n",
      " ARIMA(0,1,1)(1,1,0)[12]             : AIC=-1879.032, Time=0.56 sec\n",
      " ARIMA(0,1,1)(1,1,2)[12]             : AIC=-1888.288, Time=1.22 sec\n",
      " ARIMA(1,1,1)(0,1,1)[12]             : AIC=-1930.164, Time=1.09 sec\n",
      " ARIMA(0,1,2)(0,1,1)[12]             : AIC=-1929.946, Time=0.92 sec\n",
      " ARIMA(1,1,0)(0,1,1)[12]             : AIC=-1932.330, Time=0.44 sec\n",
      " ARIMA(1,1,0)(0,1,0)[12]             : AIC=-1803.982, Time=0.10 sec\n",
      " ARIMA(1,1,0)(1,1,1)[12]             : AIC=-1917.954, Time=0.82 sec\n",
      " ARIMA(1,1,0)(0,1,2)[12]             : AIC=-1933.318, Time=1.89 sec\n",
      " ARIMA(1,1,0)(1,1,2)[12]             : AIC=-1934.645, Time=4.26 sec\n",
      " ARIMA(1,1,0)(2,1,2)[12]             : AIC=-1930.220, Time=4.78 sec\n",
      " ARIMA(1,1,0)(1,1,3)[12]             : AIC=-1931.998, Time=12.60 sec\n",
      " ARIMA(1,1,0)(0,1,3)[12]             : AIC=-1933.017, Time=4.92 sec\n",
      " ARIMA(1,1,0)(2,1,1)[12]             : AIC=-1923.518, Time=2.31 sec\n",
      " ARIMA(1,1,0)(2,1,3)[12]             : AIC=-1928.647, Time=8.16 sec\n",
      " ARIMA(0,1,0)(1,1,2)[12]             : AIC=inf, Time=4.61 sec\n",
      " ARIMA(2,1,0)(1,1,2)[12]             : AIC=inf, Time=6.93 sec\n",
      " ARIMA(1,1,1)(1,1,2)[12]             : AIC=-1930.140, Time=7.54 sec\n",
      " ARIMA(2,1,1)(1,1,2)[12]             : AIC=-1929.924, Time=8.77 sec\n",
      " ARIMA(1,1,0)(1,1,2)[12] intercept   : AIC=-1917.637, Time=3.61 sec\n",
      "\n",
      "Best model:  ARIMA(1,1,0)(1,1,2)[12]          \n",
      "Total fit time: 82.192 seconds\n"
     ]
    }
   ],
   "source": [
    "arima_model = get_auto_arima(ticker)"
   ]
  },
  {
   "cell_type": "code",
   "execution_count": 16,
   "metadata": {},
   "outputs": [],
   "source": [
    "def desvio(registro):\n",
    "    return ((registro['predição']/registro['valor'])-1)*100"
   ]
  },
  {
   "cell_type": "code",
   "execution_count": 23,
   "metadata": {
    "scrolled": true
   },
   "outputs": [
    {
     "data": {
      "text/html": [
       "<div>\n",
       "<style scoped>\n",
       "    .dataframe tbody tr th:only-of-type {\n",
       "        vertical-align: middle;\n",
       "    }\n",
       "\n",
       "    .dataframe tbody tr th {\n",
       "        vertical-align: top;\n",
       "    }\n",
       "\n",
       "    .dataframe thead th {\n",
       "        text-align: right;\n",
       "    }\n",
       "</style>\n",
       "<table border=\"1\" class=\"dataframe\">\n",
       "  <thead>\n",
       "    <tr style=\"text-align: right;\">\n",
       "      <th></th>\n",
       "      <th>predição</th>\n",
       "      <th>valor</th>\n",
       "      <th>desvio (%)</th>\n",
       "    </tr>\n",
       "    <tr>\n",
       "      <th>Date</th>\n",
       "      <th></th>\n",
       "      <th></th>\n",
       "      <th></th>\n",
       "    </tr>\n",
       "  </thead>\n",
       "  <tbody>\n",
       "    <tr>\n",
       "      <th>2020-11-30</th>\n",
       "      <td>1.217354</td>\n",
       "      <td>1.194415</td>\n",
       "      <td>1.920558</td>\n",
       "    </tr>\n",
       "    <tr>\n",
       "      <th>2020-12-01</th>\n",
       "      <td>1.218509</td>\n",
       "      <td>1.193599</td>\n",
       "      <td>2.086967</td>\n",
       "    </tr>\n",
       "    <tr>\n",
       "      <th>2020-12-02</th>\n",
       "      <td>1.218052</td>\n",
       "      <td>1.204079</td>\n",
       "      <td>1.160439</td>\n",
       "    </tr>\n",
       "    <tr>\n",
       "      <th>2020-12-03</th>\n",
       "      <td>1.217184</td>\n",
       "      <td>1.210243</td>\n",
       "      <td>0.573461</td>\n",
       "    </tr>\n",
       "    <tr>\n",
       "      <th>2020-12-04</th>\n",
       "      <td>1.217893</td>\n",
       "      <td>1.213371</td>\n",
       "      <td>0.372632</td>\n",
       "    </tr>\n",
       "    <tr>\n",
       "      <th>2020-12-07</th>\n",
       "      <td>1.218879</td>\n",
       "      <td>1.208080</td>\n",
       "      <td>0.893898</td>\n",
       "    </tr>\n",
       "    <tr>\n",
       "      <th>2020-12-08</th>\n",
       "      <td>1.220032</td>\n",
       "      <td>1.209716</td>\n",
       "      <td>0.852731</td>\n",
       "    </tr>\n",
       "    <tr>\n",
       "      <th>2020-12-09</th>\n",
       "      <td>1.220359</td>\n",
       "      <td>1.207394</td>\n",
       "      <td>1.073799</td>\n",
       "    </tr>\n",
       "    <tr>\n",
       "      <th>2020-12-10</th>\n",
       "      <td>1.221443</td>\n",
       "      <td>1.208036</td>\n",
       "      <td>1.109811</td>\n",
       "    </tr>\n",
       "    <tr>\n",
       "      <th>2020-12-11</th>\n",
       "      <td>1.221016</td>\n",
       "      <td>1.210786</td>\n",
       "      <td>0.844946</td>\n",
       "    </tr>\n",
       "    <tr>\n",
       "      <th>2020-12-14</th>\n",
       "      <td>1.222462</td>\n",
       "      <td>1.211754</td>\n",
       "      <td>0.883651</td>\n",
       "    </tr>\n",
       "    <tr>\n",
       "      <th>2020-12-15</th>\n",
       "      <td>1.223356</td>\n",
       "      <td>1.212695</td>\n",
       "      <td>0.879194</td>\n",
       "    </tr>\n",
       "    <tr>\n",
       "      <th>2020-12-16</th>\n",
       "      <td>1.224488</td>\n",
       "      <td>1.214698</td>\n",
       "      <td>0.806005</td>\n",
       "    </tr>\n",
       "    <tr>\n",
       "      <th>2020-12-17</th>\n",
       "      <td>1.225641</td>\n",
       "      <td>1.219245</td>\n",
       "      <td>0.524632</td>\n",
       "    </tr>\n",
       "    <tr>\n",
       "      <th>2020-12-18</th>\n",
       "      <td>1.225228</td>\n",
       "      <td>1.222718</td>\n",
       "      <td>0.205262</td>\n",
       "    </tr>\n",
       "    <tr>\n",
       "      <th>2020-12-21</th>\n",
       "      <td>1.224300</td>\n",
       "      <td>1.213077</td>\n",
       "      <td>0.925161</td>\n",
       "    </tr>\n",
       "    <tr>\n",
       "      <th>2020-12-22</th>\n",
       "      <td>1.225087</td>\n",
       "      <td>1.216604</td>\n",
       "      <td>0.697231</td>\n",
       "    </tr>\n",
       "    <tr>\n",
       "      <th>2020-12-23</th>\n",
       "      <td>1.226373</td>\n",
       "      <td>1.215776</td>\n",
       "      <td>0.871659</td>\n",
       "    </tr>\n",
       "    <tr>\n",
       "      <th>2020-12-24</th>\n",
       "      <td>1.227449</td>\n",
       "      <td>1.217938</td>\n",
       "      <td>0.780888</td>\n",
       "    </tr>\n",
       "    <tr>\n",
       "      <th>2020-12-25</th>\n",
       "      <td>1.227474</td>\n",
       "      <td>1.216700</td>\n",
       "      <td>0.885443</td>\n",
       "    </tr>\n",
       "  </tbody>\n",
       "</table>\n",
       "</div>"
      ],
      "text/plain": [
       "            predição     valor  desvio (%)\n",
       "Date                                      \n",
       "2020-11-30  1.217354  1.194415    1.920558\n",
       "2020-12-01  1.218509  1.193599    2.086967\n",
       "2020-12-02  1.218052  1.204079    1.160439\n",
       "2020-12-03  1.217184  1.210243    0.573461\n",
       "2020-12-04  1.217893  1.213371    0.372632\n",
       "2020-12-07  1.218879  1.208080    0.893898\n",
       "2020-12-08  1.220032  1.209716    0.852731\n",
       "2020-12-09  1.220359  1.207394    1.073799\n",
       "2020-12-10  1.221443  1.208036    1.109811\n",
       "2020-12-11  1.221016  1.210786    0.844946\n",
       "2020-12-14  1.222462  1.211754    0.883651\n",
       "2020-12-15  1.223356  1.212695    0.879194\n",
       "2020-12-16  1.224488  1.214698    0.806005\n",
       "2020-12-17  1.225641  1.219245    0.524632\n",
       "2020-12-18  1.225228  1.222718    0.205262\n",
       "2020-12-21  1.224300  1.213077    0.925161\n",
       "2020-12-22  1.225087  1.216604    0.697231\n",
       "2020-12-23  1.226373  1.215776    0.871659\n",
       "2020-12-24  1.227449  1.217938    0.780888\n",
       "2020-12-25  1.227474  1.216700    0.885443"
      ]
     },
     "execution_count": 23,
     "metadata": {},
     "output_type": "execute_result"
    }
   ],
   "source": [
    "df = pd.DataFrame({'predição':arima_model.predict(n_periods=n_steps),'valor':test}, index=test.index)\n",
    "df['desvio (%)'] = df.apply(desvio, axis=1)\n",
    "prd = df\n",
    "df\n"
   ]
  },
  {
   "cell_type": "code",
   "execution_count": 24,
   "metadata": {},
   "outputs": [
    {
     "data": {
      "text/plain": [
       "<function matplotlib.pyplot.show(*args, **kw)>"
      ]
     },
     "execution_count": 24,
     "metadata": {},
     "output_type": "execute_result"
    },
    {
     "data": {
      "image/png": "[encoded data removed]",
      "text/plain": [
       "<Figure size 576x360 with 1 Axes>"
      ]
     },
     "metadata": {
      "needs_background": "light"
     },
     "output_type": "display_data"
    }
   ],
   "source": [
    "plt.figure(figsize=(8,5))\n",
    "plt.plot(train, label=\"treino\")\n",
    "plt.plot(test, label=\"teste\")\n",
    "plt.plot(prd['predição'], label=\"predicao\")\n",
    "plt.legend(loc='lower left')\n",
    "plt.title(label=ticker)\n",
    "plt.show"
   ]
  },
  {
   "cell_type": "code",
   "execution_count": 25,
   "metadata": {},
   "outputs": [],
   "source": [
    "arima_model.predict?"
   ]
  }
 ],
 "metadata": {
  "kernelspec": {
   "display_name": "Python 3",
   "language": "python",
   "name": "python3"
  },
  "language_info": {
   "codemirror_mode": {
    "name": "ipython",
    "version": 3
   },
   "file_extension": ".py",
   "mimetype": "text/x-python",
   "name": "python",
   "nbconvert_exporter": "python",
   "pygments_lexer": "ipython3",
   "version": "3.7.1"
  }
 },
 "nbformat": 4,
 "nbformat_minor": 2
}
