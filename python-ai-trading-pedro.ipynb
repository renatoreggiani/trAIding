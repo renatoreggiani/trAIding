{
 "cells": [
  {
   "cell_type": "markdown",
   "metadata": {},
   "source": [
    "# Documentação\n",
    "\n",
    "`!pip install yfinance`\n",
    "\n",
    "### Artigo original:\n",
    "https://towardsdatascience.com/how-to-create-a-fully-automated-ai-based-trading-system-with-python-708503c1a907\n",
    "\n",
    "### Modelo ARIMA:\n",
    "https://pt.wikipedia.org/wiki/ARIMA\n",
    "\n",
    "### Uso do Auto-ARIMA:\n",
    "https://towardsdatascience.com/time-series-forecasting-using-auto-arima-in-python-bb83e49210cd\n",
    "\n"
   ]
  },
  {
   "cell_type": "markdown",
   "metadata": {},
   "source": [
    "## Requisitos\n",
    "~~~python\n",
    "!pip install yfinance\n",
    "~~~"
   ]
  },
  {
   "cell_type": "code",
   "execution_count": 1,
   "metadata": {},
   "outputs": [],
   "source": [
    "import yfinance as yf\n",
    "import pandas as pd\n",
    "import numpy as np\n",
    "\n",
    "from statsmodels.tsa.arima_model import ARIMA\n",
    "\n",
    "import matplotlib.pyplot as plt \n",
    "plt.style.use('fivethirtyeight')"
   ]
  },
  {
   "cell_type": "code",
   "execution_count": 21,
   "metadata": {},
   "outputs": [],
   "source": [
    "def get_finance_data(ticker, period='1y', interval='1d'):\n",
    "    '''\n",
    "    Função para capturar os dados dos ativos, acrescentar \".SA\" no final do ticker para ativos \n",
    "    negociados na Bovespa, exemplo \"PETR4.SA\".\n",
    "    Exemplo url base da API: https://query1.finance.yahoo.com/v7/finance/options/PETR4.SA?date=20201222\n",
    "    Exemplo url scrape da API: https://finance.yahoo.com/quote/PETR4.SA\n",
    "    \n",
    "    Parameters\n",
    "    ----------\n",
    "    period: default '1y', periodos validos: 1d,5d,1mo,3mo,6mo,1y,2y,5y,10y,ytd,max\n",
    "    inteval: default '1d', intervalos validos: 1m, 2m, 5m, 15m, 30m, 60m, 90m, 1d, 5d, 1wk, 1mo, 3mo.\n",
    "    '''\n",
    "    \n",
    "    google = yf.Ticker(ticker)\n",
    "    \n",
    "    df = google.history(period=period, interval=interval)\n",
    "#     df['date'] = pd.to_datetime(df.index).time\n",
    "#     df.set_index('date', inplace=True)\n",
    "    return df\n",
    "\n",
    "\n",
    "def get_forecast(df, col_ref='Low'):\n",
    "    # Assuming that we've properly trained the model before and that the \n",
    "    # hyperparameters are correctly tweaked, we use the full dataset to fit\n",
    "    y = df[col_ref].values\n",
    "    model = ARIMA(y, order=(5,1,3)).fit()\n",
    "    forecast = model.forecast(steps=1)[0]\n",
    "\n",
    "    # Returning the last real data and the forecast for the next minute\n",
    "    return (y[len(y)-1], forecast)"
   ]
  },
  {
   "cell_type": "code",
   "execution_count": 30,
   "metadata": {},
   "outputs": [
    {
     "name": "stderr",
     "output_type": "stream",
     "text": [
      "C:\\Users\\pedro\\AppData\\Roaming\\Python\\Python37\\site-packages\\statsmodels\\tsa\\arima_model.py:472: FutureWarning: \n",
      "statsmodels.tsa.arima_model.ARMA and statsmodels.tsa.arima_model.ARIMA have\n",
      "been deprecated in favor of statsmodels.tsa.arima.model.ARIMA (note the .\n",
      "between arima and model) and\n",
      "statsmodels.tsa.SARIMAX. These will be removed after the 0.12 release.\n",
      "\n",
      "statsmodels.tsa.arima.model.ARIMA makes use of the statespace framework and\n",
      "is both well tested and maintained.\n",
      "\n",
      "To silence this warning and continue using ARMA and ARIMA until they are\n",
      "removed, use:\n",
      "\n",
      "import warnings\n",
      "warnings.filterwarnings('ignore', 'statsmodels.tsa.arima_model.ARMA',\n",
      "                        FutureWarning)\n",
      "warnings.filterwarnings('ignore', 'statsmodels.tsa.arima_model.ARIMA',\n",
      "                        FutureWarning)\n",
      "\n",
      "  warnings.warn(ARIMA_DEPRECATION_WARN, FutureWarning)\n",
      "C:\\Users\\pedro\\AppData\\Roaming\\Python\\Python37\\site-packages\\statsmodels\\tsa\\arima_model.py:472: FutureWarning: \n",
      "statsmodels.tsa.arima_model.ARMA and statsmodels.tsa.arima_model.ARIMA have\n",
      "been deprecated in favor of statsmodels.tsa.arima.model.ARIMA (note the .\n",
      "between arima and model) and\n",
      "statsmodels.tsa.SARIMAX. These will be removed after the 0.12 release.\n",
      "\n",
      "statsmodels.tsa.arima.model.ARIMA makes use of the statespace framework and\n",
      "is both well tested and maintained.\n",
      "\n",
      "To silence this warning and continue using ARMA and ARIMA until they are\n",
      "removed, use:\n",
      "\n",
      "import warnings\n",
      "warnings.filterwarnings('ignore', 'statsmodels.tsa.arima_model.ARMA',\n",
      "                        FutureWarning)\n",
      "warnings.filterwarnings('ignore', 'statsmodels.tsa.arima_model.ARIMA',\n",
      "                        FutureWarning)\n",
      "\n",
      "  warnings.warn(ARIMA_DEPRECATION_WARN, FutureWarning)\n"
     ]
    },
    {
     "data": {
      "text/plain": [
       "(91.55000305175781, array([91.63498808]))"
      ]
     },
     "execution_count": 30,
     "metadata": {},
     "output_type": "execute_result"
    }
   ],
   "source": [
    "ticker = \"RBBV11.SA\"\n",
    "df = get_finance_data(ticker)[:-50]\n",
    "get_forecast(df, col_ref='Low')"
   ]
  },
  {
   "cell_type": "code",
   "execution_count": 32,
   "metadata": {},
   "outputs": [
    {
     "data": {
      "text/plain": [
       "Date\n",
       "2019-12-23    88.010002\n",
       "2019-12-26    88.010002\n",
       "2019-12-27    88.300003\n",
       "2019-12-30    88.300003\n",
       "2020-01-02    88.019997\n",
       "                ...    \n",
       "2020-10-05    92.500000\n",
       "2020-10-06    91.550003\n",
       "2020-10-07    91.550003\n",
       "2020-10-08    92.800003\n",
       "2020-10-09    91.550003\n",
       "Name: Low, Length: 198, dtype: float64"
      ]
     },
     "execution_count": 32,
     "metadata": {},
     "output_type": "execute_result"
    }
   ],
   "source": [
    "train"
   ]
  },
  {
   "cell_type": "code",
   "execution_count": 28,
   "metadata": {},
   "outputs": [],
   "source": [
    "ativo = yf.Ticker(ticker)"
   ]
  },
  {
   "cell_type": "code",
   "execution_count": null,
   "metadata": {
    "scrolled": true
   },
   "outputs": [],
   "source": [
    "ativo.get_dividends()"
   ]
  },
  {
   "cell_type": "markdown",
   "metadata": {},
   "source": [
    "## Auto arima\n",
    "#### Requisitos: \n",
    "~~~python\n",
    "!pip install pmdarima\n",
    "~~~"
   ]
  },
  {
   "cell_type": "code",
   "execution_count": null,
   "metadata": {},
   "outputs": [],
   "source": [
    "#!pip install pmdarima"
   ]
  },
  {
   "cell_type": "code",
   "execution_count": 5,
   "metadata": {
    "scrolled": true
   },
   "outputs": [],
   "source": [
    "from pmdarima.arima import auto_arima"
   ]
  },
  {
   "cell_type": "code",
   "execution_count": 6,
   "metadata": {},
   "outputs": [],
   "source": [
    "df = get_finance_data(ticker)"
   ]
  },
  {
   "cell_type": "code",
   "execution_count": 7,
   "metadata": {},
   "outputs": [
    {
     "data": {
      "image/png": "[encoded data removed]",
      "text/plain": [
       "<Figure size 432x288 with 1 Axes>"
      ]
     },
     "metadata": {
      "needs_background": "light"
     },
     "output_type": "display_data"
    }
   ],
   "source": [
    "y = df['Low'].values\n",
    "plt.plot(range(0,len(y)),y, label='Historico')\n",
    "plt.legend()\n",
    "plt.show()"
   ]
  },
  {
   "cell_type": "code",
   "execution_count": null,
   "metadata": {},
   "outputs": [],
   "source": []
  },
  {
   "cell_type": "code",
   "execution_count": 8,
   "metadata": {
    "scrolled": true
   },
   "outputs": [
    {
     "data": {
      "text/plain": [
       "<matplotlib.axes._subplots.AxesSubplot at 0x28507c7a7f0>"
      ]
     },
     "execution_count": 8,
     "metadata": {},
     "output_type": "execute_result"
    },
    {
     "data": {
      "image/png": "[encoded data removed]",
      "text/plain": [
       "<Figure size 432x288 with 1 Axes>"
      ]
     },
     "metadata": {
      "needs_background": "light"
     },
     "output_type": "display_data"
    }
   ],
   "source": [
    "df['Low'].plot(label='Historico')"
   ]
  },
  {
   "cell_type": "code",
   "execution_count": 9,
   "metadata": {},
   "outputs": [
    {
     "data": {
      "text/plain": [
       "(0.5953610477639489, True)"
      ]
     },
     "execution_count": 9,
     "metadata": {},
     "output_type": "execute_result"
    }
   ],
   "source": [
    "from pmdarima.arima import ADFTest\n",
    "adf_test = ADFTest(alpha=0.05)\n",
    "adf_test.should_diff(df['Low'])"
   ]
  },
  {
   "cell_type": "code",
   "execution_count": 16,
   "metadata": {
    "scrolled": true
   },
   "outputs": [
    {
     "data": {
      "image/png": "[encoded data removed]",
      "text/plain": [
       "<Figure size 432x288 with 1 Axes>"
      ]
     },
     "metadata": {
      "needs_background": "light"
     },
     "output_type": "display_data"
    }
   ],
   "source": [
    "# train = df['Low'][:85]\n",
    "train = df['Low'][:len(df)-50]\n",
    "test = df['Low'][-50:]\n",
    "plt.plot(train, label='treino')\n",
    "plt.plot(test, label='teste')\n",
    "plt.legend()\n",
    "plt.show()"
   ]
  },
  {
   "cell_type": "markdown",
   "metadata": {},
   "source": []
  },
  {
   "cell_type": "code",
   "execution_count": 17,
   "metadata": {},
   "outputs": [
    {
     "name": "stdout",
     "output_type": "stream",
     "text": [
      "Performing stepwise search to minimize aic\n",
      " ARIMA(0,1,0)(0,1,1)[12]             : AIC=inf, Time=0.41 sec\n",
      " ARIMA(0,1,0)(0,1,0)[12]             : AIC=682.445, Time=0.02 sec\n",
      " ARIMA(1,1,0)(1,1,0)[12]             : AIC=607.612, Time=0.10 sec\n",
      " ARIMA(0,1,1)(0,1,1)[12]             : AIC=inf, Time=0.57 sec\n",
      " ARIMA(1,1,0)(0,1,0)[12]             : AIC=666.655, Time=0.02 sec\n",
      " ARIMA(1,1,0)(2,1,0)[12]             : AIC=594.353, Time=0.22 sec\n",
      " ARIMA(1,1,0)(3,1,0)[12]             : AIC=590.421, Time=0.47 sec\n",
      " ARIMA(1,1,0)(4,1,0)[12]             : AIC=579.674, Time=1.05 sec\n",
      " ARIMA(1,1,0)(5,1,0)[12]             : AIC=575.370, Time=2.90 sec\n",
      " ARIMA(1,1,0)(5,1,1)[12]             : AIC=inf, Time=21.09 sec\n",
      " ARIMA(1,1,0)(4,1,1)[12]             : AIC=inf, Time=9.07 sec\n",
      " ARIMA(0,1,0)(5,1,0)[12]             : AIC=590.294, Time=2.77 sec\n",
      " ARIMA(2,1,0)(5,1,0)[12]             : AIC=567.267, Time=3.55 sec\n",
      " ARIMA(2,1,0)(4,1,0)[12]             : AIC=571.936, Time=1.41 sec\n",
      " ARIMA(2,1,0)(5,1,1)[12]             : AIC=inf, Time=17.23 sec\n",
      " ARIMA(2,1,0)(4,1,1)[12]             : AIC=inf, Time=7.05 sec\n",
      " ARIMA(3,1,0)(5,1,0)[12]             : AIC=563.483, Time=3.89 sec\n",
      " ARIMA(3,1,0)(4,1,0)[12]             : AIC=565.875, Time=1.82 sec\n",
      " ARIMA(3,1,0)(5,1,1)[12]             : AIC=inf, Time=26.70 sec\n",
      " ARIMA(3,1,0)(4,1,1)[12]             : AIC=inf, Time=9.81 sec\n",
      " ARIMA(4,1,0)(5,1,0)[12]             : AIC=559.915, Time=5.92 sec\n",
      " ARIMA(4,1,0)(4,1,0)[12]             : AIC=563.666, Time=3.23 sec\n",
      " ARIMA(4,1,0)(5,1,1)[12]             : AIC=inf, Time=32.26 sec\n",
      " ARIMA(4,1,0)(4,1,1)[12]             : AIC=inf, Time=22.44 sec\n",
      " ARIMA(5,1,0)(5,1,0)[12]             : AIC=557.178, Time=5.20 sec\n",
      " ARIMA(5,1,0)(4,1,0)[12]             : AIC=561.185, Time=3.77 sec\n",
      " ARIMA(5,1,0)(5,1,1)[12]             : AIC=inf, Time=32.28 sec\n",
      " ARIMA(5,1,0)(4,1,1)[12]             : AIC=inf, Time=28.71 sec\n",
      " ARIMA(5,1,1)(5,1,0)[12]             : AIC=552.652, Time=14.72 sec\n",
      " ARIMA(5,1,1)(4,1,0)[12]             : AIC=555.662, Time=9.84 sec\n",
      " ARIMA(5,1,1)(5,1,1)[12]             : AIC=inf, Time=45.14 sec\n",
      " ARIMA(5,1,1)(4,1,1)[12]             : AIC=inf, Time=29.22 sec\n",
      " ARIMA(4,1,1)(5,1,0)[12]             : AIC=557.165, Time=9.02 sec\n",
      " ARIMA(5,1,2)(5,1,0)[12]             : AIC=547.325, Time=20.20 sec\n",
      " ARIMA(5,1,2)(4,1,0)[12]             : AIC=551.659, Time=15.77 sec\n",
      " ARIMA(5,1,2)(5,1,1)[12]             : AIC=inf, Time=46.90 sec\n",
      " ARIMA(5,1,2)(4,1,1)[12]             : AIC=inf, Time=39.86 sec\n",
      " ARIMA(4,1,2)(5,1,0)[12]             : AIC=547.015, Time=17.20 sec\n",
      " ARIMA(4,1,2)(4,1,0)[12]             : AIC=550.824, Time=12.45 sec\n",
      " ARIMA(4,1,2)(5,1,1)[12]             : AIC=inf, Time=38.15 sec\n",
      " ARIMA(4,1,2)(4,1,1)[12]             : AIC=inf, Time=33.00 sec\n",
      " ARIMA(3,1,2)(5,1,0)[12]             : AIC=554.343, Time=9.95 sec\n",
      " ARIMA(4,1,3)(5,1,0)[12]             : AIC=547.673, Time=37.13 sec\n",
      " ARIMA(3,1,1)(5,1,0)[12]             : AIC=563.762, Time=6.28 sec\n",
      " ARIMA(3,1,3)(5,1,0)[12]             : AIC=552.487, Time=18.59 sec\n",
      " ARIMA(5,1,3)(5,1,0)[12]             : AIC=544.940, Time=26.57 sec\n",
      " ARIMA(5,1,3)(4,1,0)[12]             : AIC=550.088, Time=19.42 sec\n",
      " ARIMA(5,1,3)(5,1,1)[12]             : AIC=inf, Time=48.79 sec\n",
      " ARIMA(5,1,3)(4,1,1)[12]             : AIC=inf, Time=30.76 sec\n",
      " ARIMA(5,1,4)(5,1,0)[12]             : AIC=546.251, Time=44.40 sec\n",
      " ARIMA(4,1,4)(5,1,0)[12]             : AIC=549.480, Time=39.97 sec\n",
      " ARIMA(5,1,3)(5,1,0)[12] intercept   : AIC=546.939, Time=41.82 sec\n",
      "\n",
      "Best model:  ARIMA(5,1,3)(5,1,0)[12]          \n",
      "Total fit time: 899.198 seconds\n"
     ]
    }
   ],
   "source": [
    "arima_model = auto_arima(train, start_p=0, d=1, start_q=0, max_p=5, mas_d=5, max_q=5, start_P=0, D=1, start_Q=1, max_P=5, \n",
    "                         max_D=5, max_Q=5, m=12, seasonal=True, error_action='warn', trace=True, suppress_warnings=True, \n",
    "                         stepwise=True, random_state=20, n_fits=50)"
   ]
  },
  {
   "cell_type": "code",
   "execution_count": 18,
   "metadata": {},
   "outputs": [
    {
     "data": {
      "text/html": [
       "<table class=\"simpletable\">\n",
       "<caption>SARIMAX Results</caption>\n",
       "<tr>\n",
       "  <th>Dep. Variable:</th>                  <td>y</td>                <th>  No. Observations:  </th>    <td>198</td>  \n",
       "</tr>\n",
       "<tr>\n",
       "  <th>Model:</th>           <td>SARIMAX(5, 1, 3)x(5, 1, [], 12)</td> <th>  Log Likelihood     </th> <td>-258.470</td>\n",
       "</tr>\n",
       "<tr>\n",
       "  <th>Date:</th>                   <td>Wed, 23 Dec 2020</td>         <th>  AIC                </th>  <td>544.940</td>\n",
       "</tr>\n",
       "<tr>\n",
       "  <th>Time:</th>                       <td>20:30:48</td>             <th>  BIC                </th>  <td>590.025</td>\n",
       "</tr>\n",
       "<tr>\n",
       "  <th>Sample:</th>                         <td>0</td>                <th>  HQIC               </th>  <td>563.212</td>\n",
       "</tr>\n",
       "<tr>\n",
       "  <th></th>                             <td> - 198</td>              <th>                     </th>     <td> </td>   \n",
       "</tr>\n",
       "<tr>\n",
       "  <th>Covariance Type:</th>               <td>opg</td>               <th>                     </th>     <td> </td>   \n",
       "</tr>\n",
       "</table>\n",
       "<table class=\"simpletable\">\n",
       "<tr>\n",
       "      <td></td>        <th>coef</th>     <th>std err</th>      <th>z</th>      <th>P>|z|</th>  <th>[0.025</th>    <th>0.975]</th>  \n",
       "</tr>\n",
       "<tr>\n",
       "  <th>ar.L1</th>    <td>   -0.7278</td> <td>    0.215</td> <td>   -3.392</td> <td> 0.001</td> <td>   -1.148</td> <td>   -0.307</td>\n",
       "</tr>\n",
       "<tr>\n",
       "  <th>ar.L2</th>    <td>   -0.2028</td> <td>    0.314</td> <td>   -0.646</td> <td> 0.518</td> <td>   -0.818</td> <td>    0.412</td>\n",
       "</tr>\n",
       "<tr>\n",
       "  <th>ar.L3</th>    <td>    0.4731</td> <td>    0.303</td> <td>    1.563</td> <td> 0.118</td> <td>   -0.120</td> <td>    1.066</td>\n",
       "</tr>\n",
       "<tr>\n",
       "  <th>ar.L4</th>    <td>    0.4660</td> <td>    0.137</td> <td>    3.390</td> <td> 0.001</td> <td>    0.197</td> <td>    0.735</td>\n",
       "</tr>\n",
       "<tr>\n",
       "  <th>ar.L5</th>    <td>    0.3850</td> <td>    0.121</td> <td>    3.184</td> <td> 0.001</td> <td>    0.148</td> <td>    0.622</td>\n",
       "</tr>\n",
       "<tr>\n",
       "  <th>ma.L1</th>    <td>    0.3926</td> <td>    0.203</td> <td>    1.936</td> <td> 0.053</td> <td>   -0.005</td> <td>    0.790</td>\n",
       "</tr>\n",
       "<tr>\n",
       "  <th>ma.L2</th>    <td>   -0.1122</td> <td>    0.255</td> <td>   -0.440</td> <td> 0.660</td> <td>   -0.612</td> <td>    0.387</td>\n",
       "</tr>\n",
       "<tr>\n",
       "  <th>ma.L3</th>    <td>   -0.6453</td> <td>    0.217</td> <td>   -2.973</td> <td> 0.003</td> <td>   -1.071</td> <td>   -0.220</td>\n",
       "</tr>\n",
       "<tr>\n",
       "  <th>ar.S.L12</th> <td>   -0.9472</td> <td>    0.090</td> <td>  -10.542</td> <td> 0.000</td> <td>   -1.123</td> <td>   -0.771</td>\n",
       "</tr>\n",
       "<tr>\n",
       "  <th>ar.S.L24</th> <td>   -0.7332</td> <td>    0.124</td> <td>   -5.889</td> <td> 0.000</td> <td>   -0.977</td> <td>   -0.489</td>\n",
       "</tr>\n",
       "<tr>\n",
       "  <th>ar.S.L36</th> <td>   -0.6102</td> <td>    0.130</td> <td>   -4.695</td> <td> 0.000</td> <td>   -0.865</td> <td>   -0.355</td>\n",
       "</tr>\n",
       "<tr>\n",
       "  <th>ar.S.L48</th> <td>   -0.5397</td> <td>    0.096</td> <td>   -5.632</td> <td> 0.000</td> <td>   -0.727</td> <td>   -0.352</td>\n",
       "</tr>\n",
       "<tr>\n",
       "  <th>ar.S.L60</th> <td>   -0.2703</td> <td>    0.060</td> <td>   -4.474</td> <td> 0.000</td> <td>   -0.389</td> <td>   -0.152</td>\n",
       "</tr>\n",
       "<tr>\n",
       "  <th>sigma2</th>   <td>    0.8681</td> <td>    0.078</td> <td>   11.162</td> <td> 0.000</td> <td>    0.716</td> <td>    1.021</td>\n",
       "</tr>\n",
       "</table>\n",
       "<table class=\"simpletable\">\n",
       "<tr>\n",
       "  <th>Ljung-Box (L1) (Q):</th>     <td>0.03</td> <th>  Jarque-Bera (JB):  </th> <td>1642.60</td>\n",
       "</tr>\n",
       "<tr>\n",
       "  <th>Prob(Q):</th>                <td>0.86</td> <th>  Prob(JB):          </th>  <td>0.00</td>  \n",
       "</tr>\n",
       "<tr>\n",
       "  <th>Heteroskedasticity (H):</th> <td>0.37</td> <th>  Skew:              </th>  <td>-2.00</td> \n",
       "</tr>\n",
       "<tr>\n",
       "  <th>Prob(H) (two-sided):</th>    <td>0.00</td> <th>  Kurtosis:          </th>  <td>17.04</td> \n",
       "</tr>\n",
       "</table><br/><br/>Warnings:<br/>[1] Covariance matrix calculated using the outer product of gradients (complex-step)."
      ],
      "text/plain": [
       "<class 'statsmodels.iolib.summary.Summary'>\n",
       "\"\"\"\n",
       "                                      SARIMAX Results                                      \n",
       "===========================================================================================\n",
       "Dep. Variable:                                   y   No. Observations:                  198\n",
       "Model:             SARIMAX(5, 1, 3)x(5, 1, [], 12)   Log Likelihood                -258.470\n",
       "Date:                             Wed, 23 Dec 2020   AIC                            544.940\n",
       "Time:                                     20:30:48   BIC                            590.025\n",
       "Sample:                                          0   HQIC                           563.212\n",
       "                                             - 198                                         \n",
       "Covariance Type:                               opg                                         \n",
       "==============================================================================\n",
       "                 coef    std err          z      P>|z|      [0.025      0.975]\n",
       "------------------------------------------------------------------------------\n",
       "ar.L1         -0.7278      0.215     -3.392      0.001      -1.148      -0.307\n",
       "ar.L2         -0.2028      0.314     -0.646      0.518      -0.818       0.412\n",
       "ar.L3          0.4731      0.303      1.563      0.118      -0.120       1.066\n",
       "ar.L4          0.4660      0.137      3.390      0.001       0.197       0.735\n",
       "ar.L5          0.3850      0.121      3.184      0.001       0.148       0.622\n",
       "ma.L1          0.3926      0.203      1.936      0.053      -0.005       0.790\n",
       "ma.L2         -0.1122      0.255     -0.440      0.660      -0.612       0.387\n",
       "ma.L3         -0.6453      0.217     -2.973      0.003      -1.071      -0.220\n",
       "ar.S.L12      -0.9472      0.090    -10.542      0.000      -1.123      -0.771\n",
       "ar.S.L24      -0.7332      0.124     -5.889      0.000      -0.977      -0.489\n",
       "ar.S.L36      -0.6102      0.130     -4.695      0.000      -0.865      -0.355\n",
       "ar.S.L48      -0.5397      0.096     -5.632      0.000      -0.727      -0.352\n",
       "ar.S.L60      -0.2703      0.060     -4.474      0.000      -0.389      -0.152\n",
       "sigma2         0.8681      0.078     11.162      0.000       0.716       1.021\n",
       "===================================================================================\n",
       "Ljung-Box (L1) (Q):                   0.03   Jarque-Bera (JB):              1642.60\n",
       "Prob(Q):                              0.86   Prob(JB):                         0.00\n",
       "Heteroskedasticity (H):               0.37   Skew:                            -2.00\n",
       "Prob(H) (two-sided):                  0.00   Kurtosis:                        17.04\n",
       "===================================================================================\n",
       "\n",
       "Warnings:\n",
       "[1] Covariance matrix calculated using the outer product of gradients (complex-step).\n",
       "\"\"\""
      ]
     },
     "execution_count": 18,
     "metadata": {},
     "output_type": "execute_result"
    }
   ],
   "source": [
    "arima_model.summary()"
   ]
  },
  {
   "cell_type": "code",
   "execution_count": 42,
   "metadata": {},
   "outputs": [
    {
     "data": {
      "text/plain": [
       "<matplotlib.axes._subplots.AxesSubplot at 0x28566a05a20>"
      ]
     },
     "execution_count": 42,
     "metadata": {},
     "output_type": "execute_result"
    },
    {
     "data": {
      "image/png": "[encoded data removed]",
      "text/plain": [
       "<Figure size 432x288 with 1 Axes>"
      ]
     },
     "metadata": {
      "needs_background": "light"
     },
     "output_type": "display_data"
    }
   ],
   "source": [
    "train.plot()"
   ]
  },
  {
   "cell_type": "code",
   "execution_count": 36,
   "metadata": {},
   "outputs": [
    {
     "data": {
      "text/html": [
       "<div>\n",
       "<style scoped>\n",
       "    .dataframe tbody tr th:only-of-type {\n",
       "        vertical-align: middle;\n",
       "    }\n",
       "\n",
       "    .dataframe tbody tr th {\n",
       "        vertical-align: top;\n",
       "    }\n",
       "\n",
       "    .dataframe thead th {\n",
       "        text-align: right;\n",
       "    }\n",
       "</style>\n",
       "<table border=\"1\" class=\"dataframe\">\n",
       "  <thead>\n",
       "    <tr style=\"text-align: right;\">\n",
       "      <th></th>\n",
       "      <th>Low</th>\n",
       "    </tr>\n",
       "    <tr>\n",
       "      <th>Date</th>\n",
       "      <th></th>\n",
       "    </tr>\n",
       "  </thead>\n",
       "  <tbody>\n",
       "    <tr>\n",
       "      <th>2020-10-13</th>\n",
       "      <td>91.517507</td>\n",
       "    </tr>\n",
       "    <tr>\n",
       "      <th>2020-10-14</th>\n",
       "      <td>91.403977</td>\n",
       "    </tr>\n",
       "    <tr>\n",
       "      <th>2020-10-15</th>\n",
       "      <td>91.772168</td>\n",
       "    </tr>\n",
       "    <tr>\n",
       "      <th>2020-10-16</th>\n",
       "      <td>91.572883</td>\n",
       "    </tr>\n",
       "    <tr>\n",
       "      <th>2020-10-19</th>\n",
       "      <td>91.722911</td>\n",
       "    </tr>\n",
       "    <tr>\n",
       "      <th>2020-10-20</th>\n",
       "      <td>92.030727</td>\n",
       "    </tr>\n",
       "    <tr>\n",
       "      <th>2020-10-21</th>\n",
       "      <td>91.383915</td>\n",
       "    </tr>\n",
       "    <tr>\n",
       "      <th>2020-10-22</th>\n",
       "      <td>91.435178</td>\n",
       "    </tr>\n",
       "    <tr>\n",
       "      <th>2020-10-23</th>\n",
       "      <td>91.450911</td>\n",
       "    </tr>\n",
       "    <tr>\n",
       "      <th>2020-10-26</th>\n",
       "      <td>91.136557</td>\n",
       "    </tr>\n",
       "    <tr>\n",
       "      <th>2020-10-27</th>\n",
       "      <td>91.192493</td>\n",
       "    </tr>\n",
       "    <tr>\n",
       "      <th>2020-10-28</th>\n",
       "      <td>91.317227</td>\n",
       "    </tr>\n",
       "    <tr>\n",
       "      <th>2020-10-29</th>\n",
       "      <td>90.752798</td>\n",
       "    </tr>\n",
       "    <tr>\n",
       "      <th>2020-10-30</th>\n",
       "      <td>90.430815</td>\n",
       "    </tr>\n",
       "    <tr>\n",
       "      <th>2020-11-03</th>\n",
       "      <td>90.710868</td>\n",
       "    </tr>\n",
       "    <tr>\n",
       "      <th>2020-11-04</th>\n",
       "      <td>91.072000</td>\n",
       "    </tr>\n",
       "    <tr>\n",
       "      <th>2020-11-05</th>\n",
       "      <td>91.328127</td>\n",
       "    </tr>\n",
       "    <tr>\n",
       "      <th>2020-11-06</th>\n",
       "      <td>91.430068</td>\n",
       "    </tr>\n",
       "    <tr>\n",
       "      <th>2020-11-09</th>\n",
       "      <td>91.018167</td>\n",
       "    </tr>\n",
       "    <tr>\n",
       "      <th>2020-11-10</th>\n",
       "      <td>91.010339</td>\n",
       "    </tr>\n",
       "    <tr>\n",
       "      <th>2020-11-11</th>\n",
       "      <td>90.817693</td>\n",
       "    </tr>\n",
       "    <tr>\n",
       "      <th>2020-11-12</th>\n",
       "      <td>90.768433</td>\n",
       "    </tr>\n",
       "    <tr>\n",
       "      <th>2020-11-13</th>\n",
       "      <td>91.080557</td>\n",
       "    </tr>\n",
       "    <tr>\n",
       "      <th>2020-11-16</th>\n",
       "      <td>91.210984</td>\n",
       "    </tr>\n",
       "    <tr>\n",
       "      <th>2020-11-17</th>\n",
       "      <td>90.684911</td>\n",
       "    </tr>\n",
       "    <tr>\n",
       "      <th>2020-11-18</th>\n",
       "      <td>90.705796</td>\n",
       "    </tr>\n",
       "    <tr>\n",
       "      <th>2020-11-19</th>\n",
       "      <td>90.718961</td>\n",
       "    </tr>\n",
       "    <tr>\n",
       "      <th>2020-11-23</th>\n",
       "      <td>90.914130</td>\n",
       "    </tr>\n",
       "    <tr>\n",
       "      <th>2020-11-24</th>\n",
       "      <td>90.941871</td>\n",
       "    </tr>\n",
       "    <tr>\n",
       "      <th>2020-11-25</th>\n",
       "      <td>91.292492</td>\n",
       "    </tr>\n",
       "    <tr>\n",
       "      <th>2020-11-26</th>\n",
       "      <td>90.982354</td>\n",
       "    </tr>\n",
       "    <tr>\n",
       "      <th>2020-11-27</th>\n",
       "      <td>91.032309</td>\n",
       "    </tr>\n",
       "    <tr>\n",
       "      <th>2020-11-30</th>\n",
       "      <td>90.913576</td>\n",
       "    </tr>\n",
       "    <tr>\n",
       "      <th>2020-12-01</th>\n",
       "      <td>90.661020</td>\n",
       "    </tr>\n",
       "    <tr>\n",
       "      <th>2020-12-02</th>\n",
       "      <td>91.031466</td>\n",
       "    </tr>\n",
       "    <tr>\n",
       "      <th>2020-12-03</th>\n",
       "      <td>90.875426</td>\n",
       "    </tr>\n",
       "    <tr>\n",
       "      <th>2020-12-04</th>\n",
       "      <td>90.742327</td>\n",
       "    </tr>\n",
       "    <tr>\n",
       "      <th>2020-12-07</th>\n",
       "      <td>90.518480</td>\n",
       "    </tr>\n",
       "    <tr>\n",
       "      <th>2020-12-08</th>\n",
       "      <td>90.745712</td>\n",
       "    </tr>\n",
       "    <tr>\n",
       "      <th>2020-12-09</th>\n",
       "      <td>90.938981</td>\n",
       "    </tr>\n",
       "    <tr>\n",
       "      <th>2020-12-10</th>\n",
       "      <td>90.949913</td>\n",
       "    </tr>\n",
       "    <tr>\n",
       "      <th>2020-12-11</th>\n",
       "      <td>91.255166</td>\n",
       "    </tr>\n",
       "    <tr>\n",
       "      <th>2020-12-14</th>\n",
       "      <td>91.140503</td>\n",
       "    </tr>\n",
       "    <tr>\n",
       "      <th>2020-12-15</th>\n",
       "      <td>91.214705</td>\n",
       "    </tr>\n",
       "    <tr>\n",
       "      <th>2020-12-16</th>\n",
       "      <td>91.107065</td>\n",
       "    </tr>\n",
       "    <tr>\n",
       "      <th>2020-12-17</th>\n",
       "      <td>90.903699</td>\n",
       "    </tr>\n",
       "    <tr>\n",
       "      <th>2020-12-18</th>\n",
       "      <td>91.050537</td>\n",
       "    </tr>\n",
       "    <tr>\n",
       "      <th>2020-12-21</th>\n",
       "      <td>90.870045</td>\n",
       "    </tr>\n",
       "    <tr>\n",
       "      <th>2020-12-22</th>\n",
       "      <td>90.691848</td>\n",
       "    </tr>\n",
       "    <tr>\n",
       "      <th>2020-12-23</th>\n",
       "      <td>90.639266</td>\n",
       "    </tr>\n",
       "  </tbody>\n",
       "</table>\n",
       "</div>"
      ],
      "text/plain": [
       "                  Low\n",
       "Date                 \n",
       "2020-10-13  91.517507\n",
       "2020-10-14  91.403977\n",
       "2020-10-15  91.772168\n",
       "2020-10-16  91.572883\n",
       "2020-10-19  91.722911\n",
       "2020-10-20  92.030727\n",
       "2020-10-21  91.383915\n",
       "2020-10-22  91.435178\n",
       "2020-10-23  91.450911\n",
       "2020-10-26  91.136557\n",
       "2020-10-27  91.192493\n",
       "2020-10-28  91.317227\n",
       "2020-10-29  90.752798\n",
       "2020-10-30  90.430815\n",
       "2020-11-03  90.710868\n",
       "2020-11-04  91.072000\n",
       "2020-11-05  91.328127\n",
       "2020-11-06  91.430068\n",
       "2020-11-09  91.018167\n",
       "2020-11-10  91.010339\n",
       "2020-11-11  90.817693\n",
       "2020-11-12  90.768433\n",
       "2020-11-13  91.080557\n",
       "2020-11-16  91.210984\n",
       "2020-11-17  90.684911\n",
       "2020-11-18  90.705796\n",
       "2020-11-19  90.718961\n",
       "2020-11-23  90.914130\n",
       "2020-11-24  90.941871\n",
       "2020-11-25  91.292492\n",
       "2020-11-26  90.982354\n",
       "2020-11-27  91.032309\n",
       "2020-11-30  90.913576\n",
       "2020-12-01  90.661020\n",
       "2020-12-02  91.031466\n",
       "2020-12-03  90.875426\n",
       "2020-12-04  90.742327\n",
       "2020-12-07  90.518480\n",
       "2020-12-08  90.745712\n",
       "2020-12-09  90.938981\n",
       "2020-12-10  90.949913\n",
       "2020-12-11  91.255166\n",
       "2020-12-14  91.140503\n",
       "2020-12-15  91.214705\n",
       "2020-12-16  91.107065\n",
       "2020-12-17  90.903699\n",
       "2020-12-18  91.050537\n",
       "2020-12-21  90.870045\n",
       "2020-12-22  90.691848\n",
       "2020-12-23  90.639266"
      ]
     },
     "execution_count": 36,
     "metadata": {},
     "output_type": "execute_result"
    }
   ],
   "source": [
    "prd = pd.DataFrame(arima_model.predict(n_periods=50), index=test.index)\n",
    "prd.columns = ['Low']\n",
    "prd"
   ]
  },
  {
   "cell_type": "code",
   "execution_count": 15,
   "metadata": {},
   "outputs": [
    {
     "data": {
      "text/plain": [
       "<function matplotlib.pyplot.show(*args, **kw)>"
      ]
     },
     "execution_count": 15,
     "metadata": {},
     "output_type": "execute_result"
    },
    {
     "data": {
      "image/png": "[encoded data removed]",
      "text/plain": [
       "<Figure size 576x360 with 1 Axes>"
      ]
     },
     "metadata": {
      "needs_background": "light"
     },
     "output_type": "display_data"
    }
   ],
   "source": [
    "plt.figure(figsize=(8,5))\n",
    "plt.plot(train, label=\"treino\")\n",
    "plt.plot(test, label=\"teste\")\n",
    "plt.plot(prd, label=\"predicao\")\n",
    "plt.legend(loc='lower right')\n",
    "plt.show"
   ]
  }
 ],
 "metadata": {
  "kernelspec": {
   "display_name": "Python 3",
   "language": "python",
   "name": "python3"
  },
  "language_info": {
   "codemirror_mode": {
    "name": "ipython",
    "version": 3
   },
   "file_extension": ".py",
   "mimetype": "text/x-python",
   "name": "python",
   "nbconvert_exporter": "python",
   "pygments_lexer": "ipython3",
   "version": "3.7.1"
  }
 },
 "nbformat": 4,
 "nbformat_minor": 2
}
