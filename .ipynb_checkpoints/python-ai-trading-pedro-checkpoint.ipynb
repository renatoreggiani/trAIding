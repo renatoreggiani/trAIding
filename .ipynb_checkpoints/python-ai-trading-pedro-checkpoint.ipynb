{
 "cells": [
  {
   "cell_type": "markdown",
   "metadata": {},
   "source": [
    "# Documentação\n",
    "\n",
    "`!pip install yfinance`\n",
    "\n",
    "### Artigo original:\n",
    "https://towardsdatascience.com/how-to-create-a-fully-automated-ai-based-trading-system-with-python-708503c1a907\n",
    "\n",
    "### Modelo ARIMA:\n",
    "https://pt.wikipedia.org/wiki/ARIMA\n",
    "\n",
    "### Uso do Auto-ARIMA:\n",
    "https://towardsdatascience.com/time-series-forecasting-using-auto-arima-in-python-bb83e49210cd\n",
    "\n"
   ]
  },
  {
   "cell_type": "markdown",
   "metadata": {},
   "source": [
    "## Requisitos\n",
    "~~~python\n",
    "!pip install yfinance\n",
    "~~~"
   ]
  },
  {
   "cell_type": "code",
   "execution_count": 2,
   "metadata": {
    "scrolled": true
   },
   "outputs": [],
   "source": [
    "ticker = \"HGLG11\"\n",
    "yticker = \"HGLG11.SA\"\n",
    "n_steps = 30"
   ]
  },
  {
   "cell_type": "code",
   "execution_count": 92,
   "metadata": {},
   "outputs": [],
   "source": [
    "import yfinance as yf\n",
    "import pandas as pd\n",
    "import numpy as np\n",
    "import matplotlib.pyplot as plt \n",
    "import os\n",
    "import json\n",
    "import datetime\n",
    "\n",
    "\n",
    "from functions import get_finance_data, arima_forecast, get_auto_arima, get_auto_sarima, stationary_test\n",
    "\n",
    "# from pmdarima.arima import auto_arima\n",
    "\n",
    "plt.style.use('fivethirtyeight')\n",
    "\n",
    "# criando a pasta de registro de calibração\n",
    "if not os.path.isdir(\"files\"):\n",
    "    os.mkdir(\"files\")"
   ]
  },
  {
   "cell_type": "code",
   "execution_count": 4,
   "metadata": {},
   "outputs": [],
   "source": [
    "data = get_finance_data(yticker)\n",
    "train = data['Low'][:len(data)-n_steps+1]\n",
    "test = data['Low'][-n_steps:]"
   ]
  },
  {
   "cell_type": "code",
   "execution_count": 5,
   "metadata": {},
   "outputs": [],
   "source": [
    "with open('files/db.json') as json_file:\n",
    "    jdata = json.load(json_file)"
   ]
  },
  {
   "cell_type": "code",
   "execution_count": null,
   "metadata": {},
   "outputs": [],
   "source": []
  },
  {
   "cell_type": "code",
   "execution_count": 90,
   "metadata": {},
   "outputs": [
    {
     "name": "stdout",
     "output_type": "stream",
     "text": [
      "rodar todos\n"
     ]
    },
    {
     "name": "stderr",
     "output_type": "stream",
     "text": [
      "C:\\Users\\pedro\\AppData\\Roaming\\Python\\Python37\\site-packages\\pmdarima\\arima\\_validation.py:62: UserWarning: m (12) set for non-seasonal fit. Setting to 0\n",
      "  warnings.warn(\"m (%i) set for non-seasonal fit. Setting to 0\" % m)\n"
     ]
    },
    {
     "name": "stdout",
     "output_type": "stream",
     "text": [
      "\n",
      "Best model:  ARIMA(2,1,1)(0,0,0)[0] intercept\n",
      "Total fit time: 0.990 seconds\n",
      "\n",
      "Best model:  ARIMA(0,1,0)(0,1,3)[12]          \n",
      "Total fit time: 61.166 seconds\n"
     ]
    }
   ],
   "source": [
    "my_arima = []\n",
    "my_sarima = []\n",
    "\n",
    "if os.path.isfile(\"files/db.json\"):\n",
    "    with open('files/db.json','r+') as jfile:\n",
    "        jdata = json.load(jfile)\n",
    "        if ticker in jdata.keys():\n",
    "            if \"ARIMA\" in jdata[ticker]:\n",
    "                my_arima.append(jdata[ticker][\"ARIMA\"][\"parametros\"][0])\n",
    "                my_arima.append(jdata[ticker][\"ARIMA\"][\"parametros\"][1])\n",
    "                my_arima.append(jdata[ticker][\"ARIMA\"][\"parametros\"][2])\n",
    "            else:\n",
    "                arima_model = get_auto_arima(train)\n",
    "                my_arima.append(arima_model.order[0])\n",
    "                my_arima.append(arima_model.order[1])\n",
    "                my_arima.append(arima_model.order[2])\n",
    "                json.dump(jdata,jfile)\n",
    "            if \"SARIMA\" in jdata[ticker]:\n",
    "                my_sarima.append(jdata[ticker][\"SARIMA\"][\"parametros\"][0])\n",
    "                my_sarima.append(jdata[ticker][\"SARIMA\"][\"parametros\"][1])\n",
    "                my_sarima.append(jdata[ticker][\"SARIMA\"][\"parametros\"][2])\n",
    "                my_sarima.append(jdata[ticker][\"SARIMA\"][\"parametros\"][3])\n",
    "                my_sarima.append(jdata[ticker][\"SARIMA\"][\"parametros\"][4])\n",
    "                my_sarima.append(jdata[ticker][\"SARIMA\"][\"parametros\"][5])\n",
    "                my_sarima.append(jdata[ticker][\"SARIMA\"][\"parametros\"][6])\n",
    "            else:\n",
    "                sarima_model = get_auto_sarima(train)\n",
    "                my_sarima.append(arima_model.order[0])\n",
    "                my_sarima.append(arima_model.order[1])\n",
    "                my_sarima.append(arima_model.order[2])\n",
    "                my_sarima.append(arima_model.seasonal_order[0])\n",
    "                my_sarima.append(arima_model.seasonal_order[1])\n",
    "                my_sarima.append(arima_model.seasonal_order[2])\n",
    "                my_sarima.append(arima_model.seasonal_order[3])\n",
    "                \n",
    "            if \"TensorFlow\" in jdata[ticker]:\n",
    "                print(jdata[ticker][\"TensorFlow\"][\"parametros\"])\n",
    "            else:\n",
    "                print('rodar Tensor Flow '+ticker)\n",
    "        else:\n",
    "            print('rodar todos')\n",
    "            arima_model = get_auto_arima(train)\n",
    "            my_arima.append(arima_model.order[0])\n",
    "            my_arima.append(arima_model.order[1])\n",
    "            my_arima.append(arima_model.order[2])\n",
    "            sarima_model = get_auto_sarima(train)\n",
    "            my_sarima.append(sarima_model.order[0])\n",
    "            my_sarima.append(sarima_model.order[1])\n",
    "            my_sarima.append(sarima_model.order[2])\n",
    "            my_sarima.append(sarima_model.seasonal_order[0])\n",
    "            my_sarima.append(sarima_model.seasonal_order[1])\n",
    "            my_sarima.append(sarima_model.seasonal_order[2])\n",
    "            my_sarima.append(sarima_model.seasonal_order[3])\n",
    "            hoje = datetime.datetime.now().strftime(\"%d-%m-%Y\")\n",
    "            jdata[ticker]={}\n",
    "            jdata[ticker].update({\"yticker\":yticker, \"ARIMA\":{\"parametros\":my_arima,\"train_date\":hoje}, \"SARIMA\":{\"parametros\":my_sarima,\"train_date\":hoje})\n",
    "            jfile.seek(0)\n",
    "            json.dump(jdata, jfile)\n",
    "            \n"
   ]
  },
  {
   "cell_type": "code",
   "execution_count": 95,
   "metadata": {},
   "outputs": [
    {
     "data": {
      "text/plain": [
       "'31-12-2020'"
      ]
     },
     "execution_count": 95,
     "metadata": {},
     "output_type": "execute_result"
    }
   ],
   "source": [
    "datetime.datetime.now().strftime(\"%d-%m-%Y\")"
   ]
  },
  {
   "cell_type": "code",
   "execution_count": 91,
   "metadata": {
    "scrolled": true
   },
   "outputs": [
    {
     "data": {
      "text/plain": [
       "{'BBFI11B': {'yticker': 'BBFI11B.SA',\n",
       "  'ARIMA': {'parametros': [1, 0, 0, 1, 1, 1], 'train_date': '30/12/2020'},\n",
       "  'SARIMA': {'parametros': [1, 0, 2, 0, 1, 2, 12],\n",
       "   'train_date': '30/12/2020'}},\n",
       " 'RBBV11': {'yticker': 'BBFI11B.SA',\n",
       "  'ARIMA': {'parametros': [1, 0, 0, 1, 1, 1], 'train_date': '30/12/2020'},\n",
       "  'SARIMA': {'parametros': [1, 0, 2, 0, 1, 2, 12],\n",
       "   'train_date': '30/12/2020'}},\n",
       " 'HGLG11': {'yticker': 'HGLG11.SA',\n",
       "  'ARIMA': {'parametros': [2, 1, 1], 'train_date': '30/12/2020'},\n",
       "  'SARIMA': {'parametros': [2, 1, 1, 0, 0, 0, 0], 'train_date': '30/12/2020'}}}"
      ]
     },
     "execution_count": 91,
     "metadata": {},
     "output_type": "execute_result"
    }
   ],
   "source": [
    "jdata\n"
   ]
  },
  {
   "cell_type": "code",
   "execution_count": 67,
   "metadata": {},
   "outputs": [
    {
     "data": {
      "text/plain": [
       "{'BBFI11B': {'yticker': 'BBFI11B.SA',\n",
       "  'ARIMA': {'parametros': [1, 0, 0, 1, 1, 1], 'train_date': '30/12/2020'},\n",
       "  'SARIMA': {'parametros': [1, 0, 2, 0, 1, 2, 12],\n",
       "   'train_date': '30/12/2020'}},\n",
       " 'RBBV11': {'yticker': 'BBFI11B.SA',\n",
       "  'ARIMA': {'parametros': [1, 0, 0, 1, 1, 1], 'train_date': '30/12/2020'},\n",
       "  'SARIMA': {'parametros': [1, 0, 2, 0, 1, 2, 12],\n",
       "   'train_date': '30/12/2020'}},\n",
       " 'HGLG11': {'yticker': 'HGLG11.SA',\n",
       "  'ARIMA': {'parametros': [1, 0, 0, 1, 1, 1], 'train_date': '30/12/2020'},\n",
       "  'SARIMA': {'parametros': [1, 0, 2, 0, 1, 2, 12],\n",
       "   'train_date': '30/12/2020'}}}"
      ]
     },
     "execution_count": 67,
     "metadata": {},
     "output_type": "execute_result"
    }
   ],
   "source": [
    "jdata"
   ]
  },
  {
   "cell_type": "code",
   "execution_count": 7,
   "metadata": {},
   "outputs": [],
   "source": [
    "def desvio(registro):\n",
    "    return ((registro['predição']/registro['valor'])-1)*100"
   ]
  },
  {
   "cell_type": "code",
   "execution_count": 12,
   "metadata": {},
   "outputs": [
    {
     "name": "stderr",
     "output_type": "stream",
     "text": [
      "C:\\Users\\pedro\\AppData\\Roaming\\Python\\Python37\\site-packages\\statsmodels\\tsa\\arima_model.py:472: FutureWarning: \n",
      "statsmodels.tsa.arima_model.ARMA and statsmodels.tsa.arima_model.ARIMA have\n",
      "been deprecated in favor of statsmodels.tsa.arima.model.ARIMA (note the .\n",
      "between arima and model) and\n",
      "statsmodels.tsa.SARIMAX. These will be removed after the 0.12 release.\n",
      "\n",
      "statsmodels.tsa.arima.model.ARIMA makes use of the statespace framework and\n",
      "is both well tested and maintained.\n",
      "\n",
      "To silence this warning and continue using ARMA and ARIMA until they are\n",
      "removed, use:\n",
      "\n",
      "import warnings\n",
      "warnings.filterwarnings('ignore', 'statsmodels.tsa.arima_model.ARMA',\n",
      "                        FutureWarning)\n",
      "warnings.filterwarnings('ignore', 'statsmodels.tsa.arima_model.ARIMA',\n",
      "                        FutureWarning)\n",
      "\n",
      "  warnings.warn(ARIMA_DEPRECATION_WARN, FutureWarning)\n",
      "C:\\Users\\pedro\\AppData\\Roaming\\Python\\Python37\\site-packages\\statsmodels\\tsa\\base\\tsa_model.py:583: ValueWarning: A date index has been provided, but it has no associated frequency information and so will be ignored when e.g. forecasting.\n",
      "  ' ignored when e.g. forecasting.', ValueWarning)\n",
      "C:\\Users\\pedro\\AppData\\Roaming\\Python\\Python37\\site-packages\\statsmodels\\tsa\\base\\tsa_model.py:583: ValueWarning: A date index has been provided, but it has no associated frequency information and so will be ignored when e.g. forecasting.\n",
      "  ' ignored when e.g. forecasting.', ValueWarning)\n",
      "C:\\Users\\pedro\\AppData\\Roaming\\Python\\Python37\\site-packages\\statsmodels\\tsa\\arima_model.py:472: FutureWarning: \n",
      "statsmodels.tsa.arima_model.ARMA and statsmodels.tsa.arima_model.ARIMA have\n",
      "been deprecated in favor of statsmodels.tsa.arima.model.ARIMA (note the .\n",
      "between arima and model) and\n",
      "statsmodels.tsa.SARIMAX. These will be removed after the 0.12 release.\n",
      "\n",
      "statsmodels.tsa.arima.model.ARIMA makes use of the statespace framework and\n",
      "is both well tested and maintained.\n",
      "\n",
      "To silence this warning and continue using ARMA and ARIMA until they are\n",
      "removed, use:\n",
      "\n",
      "import warnings\n",
      "warnings.filterwarnings('ignore', 'statsmodels.tsa.arima_model.ARMA',\n",
      "                        FutureWarning)\n",
      "warnings.filterwarnings('ignore', 'statsmodels.tsa.arima_model.ARIMA',\n",
      "                        FutureWarning)\n",
      "\n",
      "  warnings.warn(ARIMA_DEPRECATION_WARN, FutureWarning)\n"
     ]
    }
   ],
   "source": [
    "df_arima = arima_forecast(train, next=n_steps, p=my_arima[0], d=my_arima[1], q=my_arima[2])"
   ]
  },
  {
   "cell_type": "code",
   "execution_count": 9,
   "metadata": {},
   "outputs": [
    {
     "data": {
      "text/plain": [
       "array([167.69829444, 167.10219134, 167.27945928, 166.86654256,\n",
       "       166.88197822, 166.59032565, 166.51813474, 166.28923199,\n",
       "       166.17220961, 165.97531747, 165.83544238, 165.65486437,\n",
       "       165.50334304, 165.33107896, 165.17362255, 165.00559536,\n",
       "       164.84511435, 164.67924634, 164.51722396, 164.35245628,\n",
       "       164.1896484 , 164.02544148, 163.86223329, 163.69831213,\n",
       "       163.53489994, 163.37112441, 163.20760826, 163.04390695,\n",
       "       162.88033782, 162.71667433])"
      ]
     },
     "execution_count": 9,
     "metadata": {},
     "output_type": "execute_result"
    }
   ],
   "source": [
    "df_arima"
   ]
  },
  {
   "cell_type": "code",
   "execution_count": 13,
   "metadata": {
    "scrolled": false
   },
   "outputs": [
    {
     "data": {
      "text/html": [
       "<div>\n",
       "<style scoped>\n",
       "    .dataframe tbody tr th:only-of-type {\n",
       "        vertical-align: middle;\n",
       "    }\n",
       "\n",
       "    .dataframe tbody tr th {\n",
       "        vertical-align: top;\n",
       "    }\n",
       "\n",
       "    .dataframe thead th {\n",
       "        text-align: right;\n",
       "    }\n",
       "</style>\n",
       "<table border=\"1\" class=\"dataframe\">\n",
       "  <thead>\n",
       "    <tr style=\"text-align: right;\">\n",
       "      <th></th>\n",
       "      <th>ARIMA</th>\n",
       "      <th>valor</th>\n",
       "    </tr>\n",
       "    <tr>\n",
       "      <th>Date</th>\n",
       "      <th></th>\n",
       "      <th></th>\n",
       "    </tr>\n",
       "  </thead>\n",
       "  <tbody>\n",
       "    <tr>\n",
       "      <th>2020-11-16</th>\n",
       "      <td>167.698294</td>\n",
       "      <td>167.500000</td>\n",
       "    </tr>\n",
       "    <tr>\n",
       "      <th>2020-11-17</th>\n",
       "      <td>167.102191</td>\n",
       "      <td>167.500000</td>\n",
       "    </tr>\n",
       "    <tr>\n",
       "      <th>2020-11-18</th>\n",
       "      <td>167.279459</td>\n",
       "      <td>168.000000</td>\n",
       "    </tr>\n",
       "    <tr>\n",
       "      <th>2020-11-19</th>\n",
       "      <td>166.866543</td>\n",
       "      <td>168.119995</td>\n",
       "    </tr>\n",
       "    <tr>\n",
       "      <th>2020-11-23</th>\n",
       "      <td>166.881978</td>\n",
       "      <td>167.000000</td>\n",
       "    </tr>\n",
       "    <tr>\n",
       "      <th>2020-11-24</th>\n",
       "      <td>166.590326</td>\n",
       "      <td>166.429993</td>\n",
       "    </tr>\n",
       "    <tr>\n",
       "      <th>2020-11-25</th>\n",
       "      <td>166.518135</td>\n",
       "      <td>166.649994</td>\n",
       "    </tr>\n",
       "    <tr>\n",
       "      <th>2020-11-26</th>\n",
       "      <td>166.289232</td>\n",
       "      <td>167.070007</td>\n",
       "    </tr>\n",
       "    <tr>\n",
       "      <th>2020-11-27</th>\n",
       "      <td>166.172210</td>\n",
       "      <td>167.899994</td>\n",
       "    </tr>\n",
       "    <tr>\n",
       "      <th>2020-11-30</th>\n",
       "      <td>165.975317</td>\n",
       "      <td>167.199997</td>\n",
       "    </tr>\n",
       "    <tr>\n",
       "      <th>2020-12-01</th>\n",
       "      <td>165.835442</td>\n",
       "      <td>167.699997</td>\n",
       "    </tr>\n",
       "    <tr>\n",
       "      <th>2020-12-02</th>\n",
       "      <td>165.654864</td>\n",
       "      <td>167.089996</td>\n",
       "    </tr>\n",
       "    <tr>\n",
       "      <th>2020-12-03</th>\n",
       "      <td>165.503343</td>\n",
       "      <td>167.800003</td>\n",
       "    </tr>\n",
       "    <tr>\n",
       "      <th>2020-12-04</th>\n",
       "      <td>165.331079</td>\n",
       "      <td>167.929993</td>\n",
       "    </tr>\n",
       "    <tr>\n",
       "      <th>2020-12-07</th>\n",
       "      <td>165.173623</td>\n",
       "      <td>168.000000</td>\n",
       "    </tr>\n",
       "    <tr>\n",
       "      <th>2020-12-08</th>\n",
       "      <td>165.005595</td>\n",
       "      <td>168.000000</td>\n",
       "    </tr>\n",
       "    <tr>\n",
       "      <th>2020-12-09</th>\n",
       "      <td>164.845114</td>\n",
       "      <td>167.009995</td>\n",
       "    </tr>\n",
       "    <tr>\n",
       "      <th>2020-12-10</th>\n",
       "      <td>164.679246</td>\n",
       "      <td>167.020004</td>\n",
       "    </tr>\n",
       "    <tr>\n",
       "      <th>2020-12-11</th>\n",
       "      <td>164.517224</td>\n",
       "      <td>167.009995</td>\n",
       "    </tr>\n",
       "    <tr>\n",
       "      <th>2020-12-14</th>\n",
       "      <td>164.352456</td>\n",
       "      <td>167.800003</td>\n",
       "    </tr>\n",
       "    <tr>\n",
       "      <th>2020-12-15</th>\n",
       "      <td>164.189648</td>\n",
       "      <td>167.809998</td>\n",
       "    </tr>\n",
       "    <tr>\n",
       "      <th>2020-12-16</th>\n",
       "      <td>164.025441</td>\n",
       "      <td>168.100006</td>\n",
       "    </tr>\n",
       "    <tr>\n",
       "      <th>2020-12-17</th>\n",
       "      <td>163.862233</td>\n",
       "      <td>168.570007</td>\n",
       "    </tr>\n",
       "    <tr>\n",
       "      <th>2020-12-18</th>\n",
       "      <td>163.698312</td>\n",
       "      <td>168.750000</td>\n",
       "    </tr>\n",
       "    <tr>\n",
       "      <th>2020-12-21</th>\n",
       "      <td>163.534900</td>\n",
       "      <td>168.000000</td>\n",
       "    </tr>\n",
       "    <tr>\n",
       "      <th>2020-12-22</th>\n",
       "      <td>163.371124</td>\n",
       "      <td>169.949997</td>\n",
       "    </tr>\n",
       "    <tr>\n",
       "      <th>2020-12-23</th>\n",
       "      <td>163.207608</td>\n",
       "      <td>172.009995</td>\n",
       "    </tr>\n",
       "    <tr>\n",
       "      <th>2020-12-28</th>\n",
       "      <td>163.043907</td>\n",
       "      <td>173.250000</td>\n",
       "    </tr>\n",
       "    <tr>\n",
       "      <th>2020-12-29</th>\n",
       "      <td>162.880338</td>\n",
       "      <td>175.000000</td>\n",
       "    </tr>\n",
       "    <tr>\n",
       "      <th>2020-12-30</th>\n",
       "      <td>162.716674</td>\n",
       "      <td>178.589996</td>\n",
       "    </tr>\n",
       "  </tbody>\n",
       "</table>\n",
       "</div>"
      ],
      "text/plain": [
       "                 ARIMA       valor\n",
       "Date                              \n",
       "2020-11-16  167.698294  167.500000\n",
       "2020-11-17  167.102191  167.500000\n",
       "2020-11-18  167.279459  168.000000\n",
       "2020-11-19  166.866543  168.119995\n",
       "2020-11-23  166.881978  167.000000\n",
       "2020-11-24  166.590326  166.429993\n",
       "2020-11-25  166.518135  166.649994\n",
       "2020-11-26  166.289232  167.070007\n",
       "2020-11-27  166.172210  167.899994\n",
       "2020-11-30  165.975317  167.199997\n",
       "2020-12-01  165.835442  167.699997\n",
       "2020-12-02  165.654864  167.089996\n",
       "2020-12-03  165.503343  167.800003\n",
       "2020-12-04  165.331079  167.929993\n",
       "2020-12-07  165.173623  168.000000\n",
       "2020-12-08  165.005595  168.000000\n",
       "2020-12-09  164.845114  167.009995\n",
       "2020-12-10  164.679246  167.020004\n",
       "2020-12-11  164.517224  167.009995\n",
       "2020-12-14  164.352456  167.800003\n",
       "2020-12-15  164.189648  167.809998\n",
       "2020-12-16  164.025441  168.100006\n",
       "2020-12-17  163.862233  168.570007\n",
       "2020-12-18  163.698312  168.750000\n",
       "2020-12-21  163.534900  168.000000\n",
       "2020-12-22  163.371124  169.949997\n",
       "2020-12-23  163.207608  172.009995\n",
       "2020-12-28  163.043907  173.250000\n",
       "2020-12-29  162.880338  175.000000\n",
       "2020-12-30  162.716674  178.589996"
      ]
     },
     "execution_count": 13,
     "metadata": {},
     "output_type": "execute_result"
    }
   ],
   "source": [
    "df = pd.DataFrame({'ARIMA':df_arima,'valor':test}, index=test.index)\n",
    "prd = df\n",
    "df"
   ]
  },
  {
   "cell_type": "code",
   "execution_count": null,
   "metadata": {},
   "outputs": [],
   "source": []
  },
  {
   "cell_type": "code",
   "execution_count": 14,
   "metadata": {},
   "outputs": [
    {
     "data": {
      "text/plain": [
       "<function matplotlib.pyplot.show(*args, **kw)>"
      ]
     },
     "execution_count": 14,
     "metadata": {},
     "output_type": "execute_result"
    },
    {
     "data": {
      "image/png": "[encoded data removed]",
      "text/plain": [
       "<Figure size 576x360 with 1 Axes>"
      ]
     },
     "metadata": {
      "needs_background": "light"
     },
     "output_type": "display_data"
    }
   ],
   "source": [
    "plt.figure(figsize=(8,5))\n",
    "plt.plot(train, label=\"treino\")\n",
    "plt.plot(test, label=\"teste\")\n",
    "plt.plot(prd['ARIMA'], label=\"ARIMA\")\n",
    "plt.legend(loc='lower right')\n",
    "plt.title(label=ticker)\n",
    "plt.show"
   ]
  },
  {
   "cell_type": "code",
   "execution_count": null,
   "metadata": {},
   "outputs": [],
   "source": [
    "test"
   ]
  },
  {
   "cell_type": "code",
   "execution_count": null,
   "metadata": {},
   "outputs": [],
   "source": [
    "train[:-1]"
   ]
  }
 ],
 "metadata": {
  "kernelspec": {
   "display_name": "Python 3",
   "language": "python",
   "name": "python3"
  },
  "language_info": {
   "codemirror_mode": {
    "name": "ipython",
    "version": 3
   },
   "file_extension": ".py",
   "mimetype": "text/x-python",
   "name": "python",
   "nbconvert_exporter": "python",
   "pygments_lexer": "ipython3",
   "version": "3.7.1"
  }
 },
 "nbformat": 4,
 "nbformat_minor": 2
}
