{
 "cells": [
  {
   "cell_type": "markdown",
   "metadata": {},
   "source": [
    "# Documentação\n",
    "\n",
    "!pip install yfinance\n",
    "\n",
    "### Artigo ARIMA:\n",
    "https://towardsdatascience.com/how-to-create-a-fully-automated-ai-based-trading-system-with-python-708503c1a907\n",
    "\n",
    "### Modelo ARIMA:\n",
    "https://pt.wikipedia.org/wiki/ARIMA\n",
    "\n",
    "### Modelo SARIMA:\n",
    "https://machinelearningmastery.com/sarima-for-time-series-forecasting-in-python/\n",
    "\n",
    "### Uso do Auto-ARIMA:\n",
    "Metodo busca tanto ARIMA como SARIMA.\n",
    "\n",
    "https://towardsdatascience.com/time-series-forecasting-using-auto-arima-in-python-bb83e49210cd\n",
    "\n",
    "### R2Score\n",
    "https://scikit-learn.org/stable/modules/generated/sklearn.metrics.r2_score.html"
   ]
  },
  {
   "cell_type": "code",
   "execution_count": 1,
   "metadata": {
    "scrolled": true
   },
   "outputs": [],
   "source": [
    "import pandas as pd\n",
    "import numpy as np\n",
    "\n",
    "from statsmodels.tsa.arima_model import ARIMA\n",
    "\n",
    "import matplotlib.pyplot as plt \n",
    "plt.style.use('fivethirtyeight')\n",
    "\n",
    "import warnings\n",
    "warnings.filterwarnings('ignore')\n",
    "\n",
    "from functions import get_finance_data, arima_forecast, stationary_test, get_auto_arima"
   ]
  },
  {
   "cell_type": "code",
   "execution_count": 2,
   "metadata": {},
   "outputs": [],
   "source": [
    "df = get_finance_data('RBBV11.SA')[:-50]\n",
    "train = df['Low'][:-30]\n",
    "test = df['Low'][30:]"
   ]
  },
  {
   "cell_type": "code",
   "execution_count": 3,
   "metadata": {
    "scrolled": false
   },
   "outputs": [
    {
     "data": {
      "text/plain": [
       "array([91.02699887])"
      ]
     },
     "execution_count": 3,
     "metadata": {},
     "output_type": "execute_result"
    }
   ],
   "source": [
    "arima_forecast(train, 1, 3,1,3)"
   ]
  },
  {
   "cell_type": "code",
   "execution_count": null,
   "metadata": {},
   "outputs": [
    {
     "name": "stdout",
     "output_type": "stream",
     "text": [
      "Performing stepwise search to minimize aic\n",
      " ARIMA(0,1,0)(0,1,1)[12]             : AIC=inf, Time=0.22 sec\n",
      " ARIMA(0,1,0)(0,1,0)[12]             : AIC=590.981, Time=0.00 sec\n",
      " ARIMA(1,1,0)(1,1,0)[12]             : AIC=529.993, Time=0.07 sec\n",
      " ARIMA(0,1,1)(0,1,1)[12]             : AIC=inf, Time=0.65 sec\n",
      " ARIMA(1,1,0)(0,1,0)[12]             : AIC=578.001, Time=0.02 sec\n",
      " ARIMA(1,1,0)(2,1,0)[12]             : AIC=517.737, Time=0.16 sec\n",
      " ARIMA(1,1,0)(3,1,0)[12]             : AIC=515.502, Time=0.37 sec\n",
      " ARIMA(1,1,0)(4,1,0)[12]             : AIC=507.760, Time=0.87 sec\n",
      " ARIMA(1,1,0)(5,1,0)[12]             : AIC=505.636, Time=1.90 sec\n",
      " ARIMA(1,1,0)(5,1,1)[12]             : AIC=inf, Time=12.13 sec\n",
      " ARIMA(1,1,0)(4,1,1)[12]             : AIC=inf, Time=5.36 sec\n",
      " ARIMA(0,1,0)(5,1,0)[12]             : AIC=518.410, Time=2.14 sec\n",
      " ARIMA(2,1,0)(5,1,0)[12]             : AIC=498.470, Time=2.66 sec\n",
      " ARIMA(2,1,0)(4,1,0)[12]             : AIC=501.003, Time=1.18 sec\n",
      " ARIMA(2,1,0)(5,1,1)[12]             : AIC=inf, Time=14.75 sec\n",
      " ARIMA(2,1,0)(4,1,1)[12]             : AIC=inf, Time=5.97 sec\n",
      " ARIMA(3,1,0)(5,1,0)[12]             : AIC=494.845, Time=2.70 sec\n",
      " ARIMA(3,1,0)(4,1,0)[12]             : AIC=495.612, Time=1.35 sec\n",
      " ARIMA(3,1,0)(5,1,1)[12]             : AIC=inf, Time=15.42 sec\n",
      " ARIMA(3,1,0)(4,1,1)[12]             : AIC=inf, Time=8.66 sec\n",
      " ARIMA(4,1,0)(5,1,0)[12]             : AIC=491.500, Time=3.42 sec\n",
      " ARIMA(4,1,0)(4,1,0)[12]             : AIC=493.614, Time=1.97 sec\n",
      " ARIMA(4,1,0)(5,1,1)[12]             : AIC=inf, Time=15.16 sec\n",
      " ARIMA(4,1,0)(4,1,1)[12]             : AIC=inf, Time=11.39 sec\n",
      " ARIMA(5,1,0)(5,1,0)[12]             : AIC=487.752, Time=3.63 sec\n",
      " ARIMA(5,1,0)(4,1,0)[12]             : AIC=489.668, Time=2.24 sec\n",
      " ARIMA(5,1,0)(5,1,1)[12]             : AIC=inf, Time=20.08 sec\n",
      " ARIMA(5,1,0)(4,1,1)[12]             : AIC=inf, Time=11.35 sec\n",
      " ARIMA(5,1,1)(5,1,0)[12]             : AIC=489.042, Time=8.44 sec\n",
      " ARIMA(4,1,1)(5,1,0)[12]             : AIC=487.280, Time=5.90 sec\n",
      " ARIMA(4,1,1)(4,1,0)[12]             : AIC=489.548, Time=3.90 sec\n",
      " ARIMA(4,1,1)(5,1,1)[12]             : AIC=inf, Time=24.68 sec\n",
      " ARIMA(4,1,1)(4,1,1)[12]             : AIC=inf, Time=13.54 sec\n",
      " ARIMA(3,1,1)(5,1,0)[12]             : AIC=495.253, Time=4.29 sec\n",
      " ARIMA(4,1,2)(5,1,0)[12]             : AIC=480.813, Time=12.56 sec\n",
      " ARIMA(4,1,2)(4,1,0)[12]             : AIC=482.577, Time=7.87 sec\n",
      " ARIMA(4,1,2)(5,1,1)[12]             : AIC=inf, Time=20.37 sec\n",
      " ARIMA(4,1,2)(4,1,1)[12]             : AIC=inf, Time=15.08 sec\n",
      " ARIMA(3,1,2)(5,1,0)[12]             : AIC=487.401, Time=6.27 sec\n",
      " ARIMA(5,1,2)(5,1,0)[12]             : AIC=481.065, Time=15.27 sec\n",
      " ARIMA(4,1,3)(5,1,0)[12]             : AIC=490.505, Time=11.96 sec\n",
      " ARIMA(3,1,3)(5,1,0)[12]             : AIC=485.105, Time=9.70 sec\n",
      " ARIMA(5,1,3)(5,1,0)[12]             : AIC=477.939, Time=12.53 sec\n",
      " ARIMA(5,1,3)(4,1,0)[12]             : AIC=480.379, Time=8.09 sec\n",
      " ARIMA(5,1,3)(5,1,1)[12]             : AIC=inf, Time=23.91 sec\n",
      " ARIMA(5,1,3)(4,1,1)[12]             : AIC=inf, Time=16.64 sec\n",
      " ARIMA(5,1,4)(5,1,0)[12]             : AIC=477.679, Time=18.07 sec\n",
      " ARIMA(5,1,4)(4,1,0)[12]             : AIC=480.171, Time=15.71 sec\n",
      " ARIMA(5,1,4)(5,1,1)[12]             : AIC=inf, Time=25.01 sec\n",
      " ARIMA(5,1,4)(4,1,1)[12]             : AIC=inf, Time=20.75 sec\n",
      " ARIMA(4,1,4)(5,1,0)[12]             : AIC=476.234, Time=23.75 sec\n",
      " ARIMA(4,1,4)(4,1,0)[12]             : AIC=478.306, Time=17.67 sec\n",
      " ARIMA(4,1,4)(5,1,1)[12]             : AIC=inf, Time=24.42 sec\n",
      " ARIMA(4,1,4)(4,1,1)[12]             : AIC=inf, Time=21.30 sec\n",
      " ARIMA(3,1,4)(5,1,0)[12]             : AIC=473.730, Time=20.87 sec\n",
      " ARIMA(3,1,4)(4,1,0)[12]             : AIC=476.334, Time=9.64 sec\n",
      " ARIMA(3,1,4)(5,1,1)[12]             : AIC=inf, Time=24.32 sec\n",
      " ARIMA(3,1,4)(4,1,1)[12]             : AIC=inf, Time=10.51 sec\n",
      " ARIMA(2,1,4)(5,1,0)[12]             : AIC=479.590, Time=9.75 sec\n",
      " ARIMA(3,1,5)(5,1,0)[12]             : AIC=475.706, Time=14.75 sec\n",
      " ARIMA(2,1,3)(5,1,0)[12]             : AIC=493.085, Time=17.74 sec\n",
      " ARIMA(2,1,5)(5,1,0)[12]             : AIC=476.298, Time=22.68 sec\n",
      " ARIMA(4,1,5)(5,1,0)[12]             : AIC=474.579, Time=24.06 sec\n"
     ]
    }
   ],
   "source": [
    "arima_model = get_auto_arima(train)"
   ]
  },
  {
   "cell_type": "code",
   "execution_count": null,
   "metadata": {},
   "outputs": [],
   "source": [
    "arima_model.df_model()"
   ]
  },
  {
   "cell_type": "code",
   "execution_count": null,
   "metadata": {
    "scrolled": true
   },
   "outputs": [],
   "source": [
    "df_f = pd.DataFrame({'predição':arima_model.predict(n_periods=50),'valor':test}, index=test.index)\n",
    "df_f['desvio (%)'] = df_f.apply(desvio, axis=1)\n",
    "prd = df_f\n",
    "df_f"
   ]
  },
  {
   "cell_type": "code",
   "execution_count": null,
   "metadata": {},
   "outputs": [],
   "source": [
    "plt.figure(figsize=(8,5))\n",
    "plt.plot(train, label=\"treino\")\n",
    "plt.plot(test, label=\"teste\")\n",
    "plt.plot(prd['predição'], label=\"predicao\")\n",
    "plt.legend(loc='lower right')\n",
    "plt.title(label=ticker)\n",
    "plt.show"
   ]
  },
  {
   "cell_type": "code",
   "execution_count": null,
   "metadata": {},
   "outputs": [],
   "source": [
    "ativo.get_dividends()"
   ]
  }
 ],
 "metadata": {
  "kernelspec": {
   "display_name": "Python 3",
   "language": "python",
   "name": "python3"
  },
  "language_info": {
   "codemirror_mode": {
    "name": "ipython",
    "version": 3
   },
   "file_extension": ".py",
   "mimetype": "text/x-python",
   "name": "python",
   "nbconvert_exporter": "python",
   "pygments_lexer": "ipython3",
   "version": "3.7.1"
  }
 },
 "nbformat": 4,
 "nbformat_minor": 2
}
