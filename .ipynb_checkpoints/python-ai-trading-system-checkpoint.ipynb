{
 "cells": [
  {
   "cell_type": "markdown",
   "metadata": {},
   "source": [
    "# Documentação\n",
    "\n",
    "!pip install yfinance\n",
    "\n",
    "### Artigo ARIMA:\n",
    "https://towardsdatascience.com/how-to-create-a-fully-automated-ai-based-trading-system-with-python-708503c1a907\n",
    "\n",
    "### Modelo ARIMA:\n",
    "https://pt.wikipedia.org/wiki/ARIMA\n",
    "\n",
    "### Uso do Auto-ARIMA:\n",
    "https://towardsdatascience.com/time-series-forecasting-using-auto-arima-in-python-bb83e49210cd\n",
    "\n",
    "### R2Score\n",
    "https://scikit-learn.org/stable/modules/generated/sklearn.metrics.r2_score.html"
   ]
  },
  {
   "cell_type": "code",
   "execution_count": 1,
   "metadata": {
    "scrolled": true
   },
   "outputs": [],
   "source": [
    "import pandas as pd\n",
    "import numpy as np\n",
    "\n",
    "from statsmodels.tsa.arima_model import ARIMA\n",
    "\n",
    "import matplotlib.pyplot as plt \n",
    "plt.style.use('fivethirtyeight')\n",
    "\n",
    "import warnings\n",
    "warnings.filterwarnings('ignore')\n",
    "\n",
    "from functions import get_finance_data, arima_forecast, stationary_test, get_auto_arima"
   ]
  },
  {
   "cell_type": "code",
   "execution_count": 2,
   "metadata": {
    "scrolled": false
   },
   "outputs": [
    {
     "data": {
      "text/plain": [
       "array([91.50832987])"
      ]
     },
     "execution_count": 2,
     "metadata": {},
     "output_type": "execute_result"
    }
   ],
   "source": [
    "df = get_finance_data('RBBV11.SA')[:-50]\n",
    "\n",
    "arima_forecast(df, 'Low', 1, 5, 1, 0)"
   ]
  },
  {
   "cell_type": "code",
   "execution_count": null,
   "metadata": {},
   "outputs": [],
   "source": [
    "def stationary_test(df, col_ref='Low'):\n",
    "    adf_test = ADFTest(alpha=0.01)\n",
    "    return not adf_test.should_diff(df[col_ref])[1]"
   ]
  },
  {
   "cell_type": "code",
   "execution_count": null,
   "metadata": {},
   "outputs": [
    {
     "name": "stdout",
     "output_type": "stream",
     "text": [
      "Performing stepwise search to minimize aic\n",
      " ARIMA(0,1,0)(0,1,1)[12]             : AIC=inf, Time=0.37 sec\n",
      " ARIMA(0,1,0)(0,1,0)[12]             : AIC=884.684, Time=0.02 sec\n",
      " ARIMA(1,1,0)(1,1,0)[12]             : AIC=781.428, Time=0.08 sec\n",
      " ARIMA(0,1,1)(0,1,1)[12]             : AIC=inf, Time=0.77 sec\n",
      " ARIMA(1,1,0)(0,1,0)[12]             : AIC=862.841, Time=0.02 sec\n",
      " ARIMA(1,1,0)(2,1,0)[12]             : AIC=761.684, Time=0.20 sec\n",
      " ARIMA(1,1,0)(3,1,0)[12]             : AIC=752.451, Time=0.43 sec\n",
      " ARIMA(1,1,0)(4,1,0)[12]             : AIC=735.736, Time=1.02 sec\n",
      " ARIMA(1,1,0)(5,1,0)[12]             : AIC=726.834, Time=2.67 sec\n",
      " ARIMA(1,1,0)(5,1,1)[12]             : AIC=708.108, Time=6.76 sec\n",
      " ARIMA(1,1,0)(4,1,1)[12]             : AIC=707.349, Time=2.78 sec\n",
      " ARIMA(1,1,0)(3,1,1)[12]             : AIC=inf, Time=5.36 sec\n",
      " ARIMA(1,1,0)(4,1,2)[12]             : AIC=707.036, Time=7.55 sec\n",
      " ARIMA(1,1,0)(3,1,2)[12]             : AIC=inf, Time=5.29 sec\n",
      " ARIMA(1,1,0)(5,1,2)[12]             : AIC=inf, Time=21.11 sec\n",
      " ARIMA(1,1,0)(4,1,3)[12]             : AIC=708.909, Time=11.09 sec\n",
      " ARIMA(1,1,0)(3,1,3)[12]             : AIC=inf, Time=5.42 sec\n",
      " ARIMA(1,1,0)(5,1,3)[12]             : AIC=inf, Time=22.06 sec\n",
      " ARIMA(0,1,0)(4,1,2)[12]             : AIC=728.901, Time=6.32 sec\n",
      " ARIMA(2,1,0)(4,1,2)[12]             : AIC=695.779, Time=10.76 sec\n"
     ]
    }
   ],
   "source": [
    "arima_model = get_auto_arima('RBBV11.SA')"
   ]
  },
  {
   "cell_type": "code",
   "execution_count": 5,
   "metadata": {
    "scrolled": true
   },
   "outputs": [
    {
     "ename": "NameError",
     "evalue": "name 'arima_model' is not defined",
     "output_type": "error",
     "traceback": [
      "\u001b[1;31m---------------------------------------------------------------------------\u001b[0m",
      "\u001b[1;31mNameError\u001b[0m                                 Traceback (most recent call last)",
      "\u001b[1;32m<ipython-input-5-8fbf58910782>\u001b[0m in \u001b[0;36m<module>\u001b[1;34m\u001b[0m\n\u001b[1;32m----> 1\u001b[1;33m \u001b[0mdf\u001b[0m \u001b[1;33m=\u001b[0m \u001b[0mpd\u001b[0m\u001b[1;33m.\u001b[0m\u001b[0mDataFrame\u001b[0m\u001b[1;33m(\u001b[0m\u001b[1;33m{\u001b[0m\u001b[1;34m'predição'\u001b[0m\u001b[1;33m:\u001b[0m\u001b[0marima_model\u001b[0m\u001b[1;33m.\u001b[0m\u001b[0mpredict\u001b[0m\u001b[1;33m(\u001b[0m\u001b[0mn_periods\u001b[0m\u001b[1;33m=\u001b[0m\u001b[0mn_steps\u001b[0m\u001b[1;33m)\u001b[0m\u001b[1;33m,\u001b[0m\u001b[1;34m'valor'\u001b[0m\u001b[1;33m:\u001b[0m\u001b[0mtest\u001b[0m\u001b[1;33m}\u001b[0m\u001b[1;33m,\u001b[0m \u001b[0mindex\u001b[0m\u001b[1;33m=\u001b[0m\u001b[0mtest\u001b[0m\u001b[1;33m.\u001b[0m\u001b[0mindex\u001b[0m\u001b[1;33m)\u001b[0m\u001b[1;33m\u001b[0m\u001b[1;33m\u001b[0m\u001b[0m\n\u001b[0m\u001b[0;32m      2\u001b[0m \u001b[0mdf\u001b[0m\u001b[1;33m[\u001b[0m\u001b[1;34m'desvio (%)'\u001b[0m\u001b[1;33m]\u001b[0m \u001b[1;33m=\u001b[0m \u001b[0mdf\u001b[0m\u001b[1;33m.\u001b[0m\u001b[0mapply\u001b[0m\u001b[1;33m(\u001b[0m\u001b[0mdesvio\u001b[0m\u001b[1;33m,\u001b[0m \u001b[0maxis\u001b[0m\u001b[1;33m=\u001b[0m\u001b[1;36m1\u001b[0m\u001b[1;33m)\u001b[0m\u001b[1;33m\u001b[0m\u001b[1;33m\u001b[0m\u001b[0m\n\u001b[0;32m      3\u001b[0m \u001b[0mprd\u001b[0m \u001b[1;33m=\u001b[0m \u001b[0mdf\u001b[0m\u001b[1;33m\u001b[0m\u001b[1;33m\u001b[0m\u001b[0m\n\u001b[0;32m      4\u001b[0m \u001b[0mdf\u001b[0m\u001b[1;33m\u001b[0m\u001b[1;33m\u001b[0m\u001b[0m\n",
      "\u001b[1;31mNameError\u001b[0m: name 'arima_model' is not defined"
     ]
    }
   ],
   "source": [
    "df = pd.DataFrame({'predição':arima_model.predict(n_periods=n_steps),'valor':test}, index=test.index)\n",
    "df['desvio (%)'] = df.apply(desvio, axis=1)\n",
    "prd = df\n",
    "df"
   ]
  },
  {
   "cell_type": "code",
   "execution_count": null,
   "metadata": {},
   "outputs": [],
   "source": [
    "plt.figure(figsize=(8,5))\n",
    "plt.plot(train, label=\"treino\")\n",
    "plt.plot(test, label=\"teste\")\n",
    "plt.plot(prd['predição'], label=\"predicao\")\n",
    "plt.legend(loc='lower right')\n",
    "plt.title(label=ticker)\n",
    "plt.show"
   ]
  },
  {
   "cell_type": "code",
   "execution_count": null,
   "metadata": {},
   "outputs": [],
   "source": [
    "ativo.get_dividends()"
   ]
  }
 ],
 "metadata": {
  "kernelspec": {
   "display_name": "Python 3",
   "language": "python",
   "name": "python3"
  },
  "language_info": {
   "codemirror_mode": {
    "name": "ipython",
    "version": 3
   },
   "file_extension": ".py",
   "mimetype": "text/x-python",
   "name": "python",
   "nbconvert_exporter": "python",
   "pygments_lexer": "ipython3",
   "version": "3.7.1"
  }
 },
 "nbformat": 4,
 "nbformat_minor": 2
}
