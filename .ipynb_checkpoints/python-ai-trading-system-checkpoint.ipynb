{
 "cells": [
  {
   "cell_type": "markdown",
   "metadata": {},
   "source": [
    "# Documentação\n",
    "\n",
    "!pip install yfinance\n",
    "\n",
    "### Artigo ARIMA:\n",
    "https://towardsdatascience.com/how-to-create-a-fully-automated-ai-based-trading-system-with-python-708503c1a907\n",
    "\n",
    "### Modelo ARIMA:\n",
    "https://pt.wikipedia.org/wiki/ARIMA\n",
    "\n",
    "### Uso do Auto-ARIMA:\n",
    "https://towardsdatascience.com/time-series-forecasting-using-auto-arima-in-python-bb83e49210cd\n",
    "\n",
    "### R2Score\n",
    "https://scikit-learn.org/stable/modules/generated/sklearn.metrics.r2_score.html"
   ]
  },
  {
   "cell_type": "code",
   "execution_count": 1,
   "metadata": {
    "scrolled": true
   },
   "outputs": [],
   "source": [
    "import pandas as pd\n",
    "import numpy as np\n",
    "\n",
    "from statsmodels.tsa.arima_model import ARIMA\n",
    "\n",
    "import matplotlib.pyplot as plt \n",
    "plt.style.use('fivethirtyeight')\n",
    "\n",
    "import warnings\n",
    "warnings.filterwarnings('ignore')\n",
    "\n",
    "from functions import get_finance_data, arima_forecast, stationary_test, get_auto_arima"
   ]
  },
  {
   "cell_type": "code",
   "execution_count": 2,
   "metadata": {
    "scrolled": false
   },
   "outputs": [
    {
     "data": {
      "text/plain": [
       "array([91.50832987])"
      ]
     },
     "execution_count": 2,
     "metadata": {},
     "output_type": "execute_result"
    }
   ],
   "source": [
    "df = get_finance_data('RBBV11.SA')[:-50]\n",
    "\n",
    "arima_forecast(df, 'Low', 1, 5, 1, 0)"
   ]
  },
  {
   "cell_type": "code",
   "execution_count": null,
   "metadata": {},
   "outputs": [],
   "source": [
    "def stationary_test(df, col_ref='Low'):\n",
    "    adf_test = ADFTest(alpha=0.01)\n",
    "    return not adf_test.should_diff(df[col_ref])[1]"
   ]
  },
  {
   "cell_type": "code",
   "execution_count": null,
   "metadata": {},
   "outputs": [
    {
     "name": "stdout",
     "output_type": "stream",
     "text": [
      "Performing stepwise search to minimize aic\n",
      " ARIMA(0,1,0)(0,1,1)[12]             : AIC=inf, Time=0.38 sec\n",
      " ARIMA(0,1,0)(0,1,0)[12]             : AIC=884.684, Time=0.02 sec\n",
      " ARIMA(1,1,0)(1,1,0)[12]             : AIC=781.428, Time=0.08 sec\n",
      " ARIMA(0,1,1)(0,1,1)[12]             : AIC=inf, Time=0.79 sec\n",
      " ARIMA(1,1,0)(0,1,0)[12]             : AIC=862.841, Time=0.02 sec\n",
      " ARIMA(1,1,0)(2,1,0)[12]             : AIC=761.684, Time=0.22 sec\n",
      " ARIMA(1,1,0)(3,1,0)[12]             : AIC=752.451, Time=0.49 sec\n",
      " ARIMA(1,1,0)(4,1,0)[12]             : AIC=735.736, Time=1.04 sec\n",
      " ARIMA(1,1,0)(5,1,0)[12]             : AIC=726.834, Time=2.52 sec\n",
      " ARIMA(1,1,0)(5,1,1)[12]             : AIC=708.108, Time=6.74 sec\n",
      " ARIMA(1,1,0)(4,1,1)[12]             : AIC=707.349, Time=2.91 sec\n",
      " ARIMA(1,1,0)(3,1,1)[12]             : AIC=inf, Time=5.47 sec\n",
      " ARIMA(1,1,0)(4,1,2)[12]             : AIC=707.036, Time=7.69 sec\n",
      " ARIMA(1,1,0)(3,1,2)[12]             : AIC=inf, Time=5.34 sec\n",
      " ARIMA(1,1,0)(5,1,2)[12]             : AIC=inf, Time=22.15 sec\n",
      " ARIMA(1,1,0)(4,1,3)[12]             : AIC=708.909, Time=11.32 sec\n",
      " ARIMA(1,1,0)(3,1,3)[12]             : AIC=inf, Time=5.52 sec\n",
      " ARIMA(1,1,0)(5,1,3)[12]             : AIC=inf, Time=23.47 sec\n",
      " ARIMA(0,1,0)(4,1,2)[12]             : AIC=728.901, Time=6.38 sec\n",
      " ARIMA(2,1,0)(4,1,2)[12]             : AIC=695.779, Time=10.78 sec\n",
      " ARIMA(2,1,0)(3,1,2)[12]             : AIC=inf, Time=6.65 sec\n",
      " ARIMA(2,1,0)(4,1,1)[12]             : AIC=695.567, Time=3.77 sec\n",
      " ARIMA(2,1,0)(3,1,1)[12]             : AIC=inf, Time=5.21 sec\n",
      " ARIMA(2,1,0)(4,1,0)[12]             : AIC=724.093, Time=1.41 sec\n",
      " ARIMA(2,1,0)(5,1,1)[12]             : AIC=696.336, Time=7.56 sec\n",
      " ARIMA(2,1,0)(3,1,0)[12]             : AIC=739.834, Time=0.64 sec\n",
      " ARIMA(2,1,0)(5,1,0)[12]             : AIC=714.493, Time=3.12 sec\n",
      " ARIMA(2,1,0)(5,1,2)[12]             : AIC=inf, Time=23.22 sec\n",
      " ARIMA(3,1,0)(4,1,1)[12]             : AIC=693.229, Time=3.96 sec\n",
      " ARIMA(3,1,0)(3,1,1)[12]             : AIC=inf, Time=4.71 sec\n",
      " ARIMA(3,1,0)(4,1,0)[12]             : AIC=720.768, Time=1.50 sec\n",
      " ARIMA(3,1,0)(5,1,1)[12]             : AIC=694.522, Time=8.99 sec\n",
      " ARIMA(3,1,0)(4,1,2)[12]             : AIC=694.043, Time=13.70 sec\n",
      " ARIMA(3,1,0)(3,1,0)[12]             : AIC=737.926, Time=0.70 sec\n",
      " ARIMA(3,1,0)(3,1,2)[12]             : AIC=inf, Time=7.39 sec\n",
      " ARIMA(3,1,0)(5,1,0)[12]             : AIC=712.033, Time=3.49 sec\n",
      " ARIMA(3,1,0)(5,1,2)[12]             : AIC=inf, Time=26.51 sec\n",
      " ARIMA(4,1,0)(4,1,1)[12]             : AIC=693.258, Time=7.90 sec\n",
      " ARIMA(3,1,1)(4,1,1)[12]             : AIC=694.654, Time=5.59 sec\n",
      " ARIMA(2,1,1)(4,1,1)[12]             : AIC=695.474, Time=5.49 sec\n",
      " ARIMA(4,1,1)(4,1,1)[12]             : AIC=692.213, Time=20.85 sec\n",
      " ARIMA(4,1,1)(3,1,1)[12]             : AIC=inf, Time=8.36 sec\n",
      " ARIMA(4,1,1)(4,1,0)[12]             : AIC=720.693, Time=6.38 sec\n",
      " ARIMA(4,1,1)(5,1,1)[12]             : AIC=693.035, Time=18.97 sec\n",
      " ARIMA(4,1,1)(4,1,2)[12]             : AIC=693.277, Time=28.63 sec\n",
      " ARIMA(4,1,1)(3,1,0)[12]             : AIC=736.599, Time=1.88 sec\n",
      " ARIMA(4,1,1)(3,1,2)[12]             : AIC=inf, Time=8.73 sec\n",
      " ARIMA(4,1,1)(5,1,0)[12]             : AIC=708.888, Time=7.98 sec\n",
      " ARIMA(4,1,1)(5,1,2)[12]             : AIC=694.989, Time=35.86 sec\n",
      " ARIMA(5,1,1)(4,1,1)[12]             : AIC=inf, Time=24.83 sec\n"
     ]
    }
   ],
   "source": [
    "get_auto_arima('RBBV11.SA')"
   ]
  },
  {
   "cell_type": "code",
   "execution_count": null,
   "metadata": {
    "scrolled": false
   },
   "outputs": [],
   "source": [
    "df['Low'].plot()"
   ]
  },
  {
   "cell_type": "code",
   "execution_count": null,
   "metadata": {},
   "outputs": [],
   "source": [
    "df['Close'][-1]"
   ]
  },
  {
   "cell_type": "code",
   "execution_count": null,
   "metadata": {},
   "outputs": [],
   "source": [
    "ativo = yf.Ticker('RBBV11.SA')"
   ]
  },
  {
   "cell_type": "code",
   "execution_count": null,
   "metadata": {},
   "outputs": [],
   "source": [
    "ativo.get_dividends()"
   ]
  },
  {
   "cell_type": "code",
   "execution_count": null,
   "metadata": {},
   "outputs": [],
   "source": [
    "df = google.history(period=period, interval=interval)"
   ]
  }
 ],
 "metadata": {
  "kernelspec": {
   "display_name": "Python 3",
   "language": "python",
   "name": "python3"
  },
  "language_info": {
   "codemirror_mode": {
    "name": "ipython",
    "version": 3
   },
   "file_extension": ".py",
   "mimetype": "text/x-python",
   "name": "python",
   "nbconvert_exporter": "python",
   "pygments_lexer": "ipython3",
   "version": "3.7.1"
  }
 },
 "nbformat": 4,
 "nbformat_minor": 2
}
