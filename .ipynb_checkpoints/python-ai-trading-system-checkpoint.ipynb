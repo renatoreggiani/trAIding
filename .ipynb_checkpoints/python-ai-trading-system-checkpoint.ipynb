{
 "cells": [
  {
   "cell_type": "markdown",
   "metadata": {},
   "source": [
    "# Documentação\n",
    "\n",
    "!pip install yfinance\n",
    "\n",
    "### Artigo original:\n",
    "https://towardsdatascience.com/how-to-create-a-fully-automated-ai-based-trading-system-with-python-708503c1a907\n",
    "\n",
    "### Modelo ARIMA:\n",
    "https://pt.wikipedia.org/wiki/ARIMA\n",
    "\n",
    "### Uso do Auto-ARIMA:\n",
    "https://towardsdatascience.com/time-series-forecasting-using-auto-arima-in-python-bb83e49210cd"
   ]
  },
  {
   "cell_type": "code",
   "execution_count": 2,
   "metadata": {},
   "outputs": [],
   "source": [
    "import yfinance as yf\n",
    "import pandas as pd\n",
    "import numpy as np\n",
    "\n",
    "# from statsmodels.tsa.arima.model import ARIMA\n",
    "\n",
    "# import pyotp\n",
    "# import robin_stocks as robinhood\n",
    "# import alpaca_trade_api as alpaca\n",
    "\n",
    "# import telegram\n",
    "import sys\n",
    "import os\n",
    "\n",
    "import matplotlib.pyplot as plt \n",
    "plt.style.use('fivethirtyeight')"
   ]
  },
  {
   "cell_type": "code",
   "execution_count": 61,
   "metadata": {},
   "outputs": [],
   "source": [
    "def get_finance_data(ticker, period='1y', interval='1d'):\n",
    "    '''\n",
    "    Função para capturar os dados dos ativos, acrescentar \".SA\" no final do ticker para ativos \n",
    "    negociados na Bovespa, exemplo \"PETR4.SA\".\n",
    "    Exemplo url base da API: https://query1.finance.yahoo.com/v7/finance/options/PETR4.SA?date=20201222\n",
    "    Exemplo url scrape da API: https://finance.yahoo.com/quote/PETR4.SA\n",
    "    \n",
    "    Parameters\n",
    "    ----------\n",
    "    period: default '1y', periodos validos: 1d,5d,1mo,3mo,6mo,1y,2y,5y,10y,ytd,max\n",
    "    inteval: default '1d', intervalos validos: 1m, 2m, 5m, 15m, 30m, 60m, 90m, 1h, 1d, 5d, 1wk, 1mo, 3mo.\n",
    "    '''\n",
    "    \n",
    "    google = yf.Ticker(ticker)\n",
    "    \n",
    "    df = google.history(period=period, interval=interval)\n",
    "#     df['date'] = pd.to_datetime(df.index).time\n",
    "#     df.set_index('date', inplace=True)\n",
    "\n",
    "    return df\n",
    "\n",
    "\n",
    "def get_forecast():\n",
    "    df = get_finance_data()\n",
    "\n",
    "    # Assuming that we've properly trained the model before and that the \n",
    "    # hyperparameters are correctly tweaked, we use the full dataset to fit\n",
    "    y = df['Low'].values\n",
    "    model = ARIMA(y, order=(5,0,1)).fit()\n",
    "    forecast = model.forecast(steps=1)[0]\n",
    "\n",
    "    # Returning the last real data and the forecast for the next minute\n",
    "    return (y[len(y)-1], forecast)"
   ]
  },
  {
   "cell_type": "code",
   "execution_count": 58,
   "metadata": {
    "scrolled": false
   },
   "outputs": [],
   "source": [
    "df = get_finance_data('HFOF11.SA')"
   ]
  },
  {
   "cell_type": "code",
   "execution_count": 59,
   "metadata": {},
   "outputs": [
    {
     "data": {
      "text/plain": [
       "Index(['Open', 'High', 'Low', 'Close', 'Volume', 'Dividends', 'Stock Splits'], dtype='object')"
      ]
     },
     "execution_count": 59,
     "metadata": {},
     "output_type": "execute_result"
    }
   ],
   "source": [
    "df.columns"
   ]
  },
  {
   "cell_type": "code",
   "execution_count": 55,
   "metadata": {},
   "outputs": [
    {
     "data": {
      "text/plain": [
       "Date\n",
       "2020-12-22    00:00:00\n",
       "Name: date, dtype: object"
      ]
     },
     "execution_count": 55,
     "metadata": {},
     "output_type": "execute_result"
    }
   ],
   "source": [
    "df['date']"
   ]
  },
  {
   "cell_type": "code",
   "execution_count": 63,
   "metadata": {},
   "outputs": [],
   "source": [
    "pd.read_csv?"
   ]
  },
  {
   "cell_type": "code",
   "execution_count": null,
   "metadata": {},
   "outputs": [],
   "source": []
  }
 ],
 "metadata": {
  "kernelspec": {
   "display_name": "Python 3",
   "language": "python",
   "name": "python3"
  },
  "language_info": {
   "codemirror_mode": {
    "name": "ipython",
    "version": 3
   },
   "file_extension": ".py",
   "mimetype": "text/x-python",
   "name": "python",
   "nbconvert_exporter": "python",
   "pygments_lexer": "ipython3",
   "version": "3.7.1"
  }
 },
 "nbformat": 4,
 "nbformat_minor": 2
}
